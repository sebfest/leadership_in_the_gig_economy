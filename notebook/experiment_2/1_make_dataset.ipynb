{
 "cells": [
  {
   "cell_type": "markdown",
   "metadata": {},
   "source": [
    "#### Import modules"
   ]
  },
  {
   "cell_type": "code",
   "execution_count": 1,
   "metadata": {},
   "outputs": [],
   "source": [
    "import numpy as np  # Matrix  manipulation\n",
    "import os  # Filesystem support\n",
    "import pandas as pd  # Dataframe handling\n",
    "import Levenshtein  # Edit distance calculations"
   ]
  },
  {
   "cell_type": "markdown",
   "metadata": {},
   "source": [
    "#### Set project folders"
   ]
  },
  {
   "cell_type": "code",
   "execution_count": 2,
   "metadata": {},
   "outputs": [],
   "source": [
    "PROJECT_FOLDER = os.path.dirname(os.path.dirname(os.getcwd()))\n",
    "PROCESSED_DATA_FOLDER = os.path.join(PROJECT_FOLDER, 'data', 'processed')\n",
    "FINAL_DATA_FOLDER = os.path.join(PROJECT_FOLDER, 'data', 'final')"
   ]
  },
  {
   "cell_type": "markdown",
   "metadata": {},
   "source": [
    "#### Pandas settings "
   ]
  },
  {
   "cell_type": "code",
   "execution_count": 3,
   "metadata": {},
   "outputs": [],
   "source": [
    "pd.set_option(\"display.precision\", 3)\n",
    "pd.set_option(\"display.expand_frame_repr\", False)\n",
    "pd.set_option(\"display.max_rows\", 50)"
   ]
  },
  {
   "cell_type": "markdown",
   "metadata": {},
   "source": [
    "#### Load dataframe"
   ]
  },
  {
   "cell_type": "code",
   "execution_count": 4,
   "metadata": {},
   "outputs": [
    {
     "name": "stdout",
     "output_type": "stream",
     "text": [
      "<class 'pandas.core.frame.DataFrame'>\n",
      "RangeIndex: 1799 entries, 0 to 1798\n",
      "Columns: 8322 entries, Start Date to Id\n",
      "dtypes: float64(7372), int64(18), object(932)\n",
      "memory usage: 114.2+ MB\n"
     ]
    }
   ],
   "source": [
    "DATA = os.path.join(\n",
    "    PROCESSED_DATA_FOLDER, \n",
    "    'experiment_2',\n",
    "    'data_processed.feather'\n",
    ")\n",
    "\n",
    "df = pd.read_feather(DATA)\n",
    "df.info()"
   ]
  },
  {
   "cell_type": "markdown",
   "metadata": {},
   "source": [
    "#### Drop timing variables and rename column headers"
   ]
  },
  {
   "cell_type": "code",
   "execution_count": 5,
   "metadata": {},
   "outputs": [],
   "source": [
    "to_drop = [\n",
    "    'First Click',\n",
    "    'Last Click',\n",
    "    'Click Count',\n",
    "]\n",
    "\n",
    "columns_to_drop = [x for x in df.columns for y in to_drop if y in x]\n",
    "df = df.drop(columns_to_drop, axis=1)\\\n",
    "    .rename(lambda x: x.split(' - ')[0], axis=1)\\\n",
    "    .rename(lambda x: x.replace('_Page Submit', '_timer'), axis=1)"
   ]
  },
  {
   "cell_type": "markdown",
   "metadata": {},
   "source": [
    "#### Merge colums with consent answer for each group & drop columns"
   ]
  },
  {
   "cell_type": "code",
   "execution_count": 6,
   "metadata": {},
   "outputs": [],
   "source": [
    "consent_cols = [f'G{x}Q1' for x in range(1, 16, 1)]\n",
    "df['consent'] = df[consent_cols].sum(axis=1)\n",
    "df = df.drop(consent_cols, axis=1)"
   ]
  },
  {
   "cell_type": "markdown",
   "metadata": {},
   "source": [
    "#### Merge columns with submitted fragments for each group into one column & drop columns  "
   ]
  },
  {
   "cell_type": "code",
   "execution_count": 7,
   "metadata": {},
   "outputs": [],
   "source": [
    "cols = {\n",
    "    f'Q{x}_answer': [f'G{y}Q{z}' for y in range(1, 16, 1)]\n",
    "    for x, z in zip(range(1, 111, 1), range(5, 442, 4))\n",
    "}\n",
    "\n",
    "for quest, columns in cols.items():\n",
    "    df.loc[:, quest] = df.loc[:, columns].fillna('').sum(axis=1)\n",
    "    df = df.drop(columns, axis=1)"
   ]
  },
  {
   "cell_type": "markdown",
   "metadata": {},
   "source": [
    "#### Replace empty strings with nan values"
   ]
  },
  {
   "cell_type": "code",
   "execution_count": 8,
   "metadata": {},
   "outputs": [],
   "source": [
    "df.loc[:, cols.keys()] = df.loc[:, cols.keys()].replace({'': np.nan})"
   ]
  },
  {
   "cell_type": "markdown",
   "metadata": {},
   "source": [
    "#### Display dataframe section with submitted fragments (first five questions only)"
   ]
  },
  {
   "cell_type": "code",
   "execution_count": 9,
   "metadata": {},
   "outputs": [
    {
     "data": {
      "text/html": [
       "<div>\n",
       "<style scoped>\n",
       "    .dataframe tbody tr th:only-of-type {\n",
       "        vertical-align: middle;\n",
       "    }\n",
       "\n",
       "    .dataframe tbody tr th {\n",
       "        vertical-align: top;\n",
       "    }\n",
       "\n",
       "    .dataframe thead th {\n",
       "        text-align: right;\n",
       "    }\n",
       "</style>\n",
       "<table border=\"1\" class=\"dataframe\">\n",
       "  <thead>\n",
       "    <tr style=\"text-align: right;\">\n",
       "      <th></th>\n",
       "      <th>Q1_answer</th>\n",
       "      <th>Q2_answer</th>\n",
       "      <th>Q3_answer</th>\n",
       "      <th>Q4_answer</th>\n",
       "      <th>Q5_answer</th>\n",
       "    </tr>\n",
       "  </thead>\n",
       "  <tbody>\n",
       "    <tr>\n",
       "      <th>0</th>\n",
       "      <td>July 20th, 1910.</td>\n",
       "      <td>in answer to cable in regard to option on Lane...</td>\n",
       "      <td>Replying to your favor of the 17th:</td>\n",
       "      <td>one would not interest him.  He thanks you for...</td>\n",
       "      <td>London, S, W., England.</td>\n",
       "    </tr>\n",
       "    <tr>\n",
       "      <th>1</th>\n",
       "      <td>15 Old Bond Street,</td>\n",
       "      <td>Rembrandt purchased for me shipped Paris, see ...</td>\n",
       "      <td>have taken liberties. Have written.</td>\n",
       "      <td>volume 2, 13, April 1914, edited by Wilhelm R....</td>\n",
       "      <td>New York, June 10, 1909.</td>\n",
       "    </tr>\n",
       "    <tr>\n",
       "      <th>2</th>\n",
       "      <td>\"Purchase Brower\".</td>\n",
       "      <td>then advise you definitely. Please reply to me...</td>\n",
       "      <td>ing his attention to the objecte.</td>\n",
       "      <td>They were purchased by the Duke of Bridgewater...</td>\n",
       "      <td>Mrs. Frances W. Marshall,</td>\n",
       "    </tr>\n",
       "    <tr>\n",
       "      <th>3</th>\n",
       "      <td>December 19, 1906.</td>\n",
       "      <td>Replying to your favor of the 18th. It gives m...</td>\n",
       "      <td>per voucher enclosed, and oblige,</td>\n",
       "      <td>He, however, would be glad to hear from you re...</td>\n",
       "      <td>Fry care Kneedler, Paris.</td>\n",
       "    </tr>\n",
       "    <tr>\n",
       "      <th>4</th>\n",
       "      <td>23 Place Vendome,</td>\n",
       "      <td>Express and have it delivered to me at Trinity...</td>\n",
       "      <td>With the Compliments of the Season,</td>\n",
       "      <td>seventy-three hundred and twenty (7320) shares...</td>\n",
       "      <td>Prides Crossing, Mass.</td>\n",
       "    </tr>\n",
       "    <tr>\n",
       "      <th>5</th>\n",
       "      <td>23 Place Vendome,</td>\n",
       "      <td>Express and have it delivered to me at Trinity...</td>\n",
       "      <td>With the Compliments of the Season,</td>\n",
       "      <td>seventy-three hundred and twenty (7320) shares...</td>\n",
       "      <td>Prides Crossing, Mass.</td>\n",
       "    </tr>\n",
       "    <tr>\n",
       "      <th>6</th>\n",
       "      <td>Mr. John W. Beatty,</td>\n",
       "      <td>purchased., some time ago, the portrait of Sir...</td>\n",
       "      <td>high in fact for me to entertain.</td>\n",
       "      <td>information came to me very confidentially, an...</td>\n",
       "      <td>francs.  Rest soon.  Write.</td>\n",
       "    </tr>\n",
       "    <tr>\n",
       "      <th>7</th>\n",
       "      <td>645 Fifth Avenue,</td>\n",
       "      <td>to purchase anything unless it ranks with the ...</td>\n",
       "      <td>difficulty in finding at La Sarras.</td>\n",
       "      <td>dining room, and would be willing to pay you $...</td>\n",
       "      <td>ed from time to time.</td>\n",
       "    </tr>\n",
       "    <tr>\n",
       "      <th>8</th>\n",
       "      <td>25 Cld Bond Street,</td>\n",
       "      <td>of the 18th, that the titles of the pictures a...</td>\n",
       "      <td>Thanks not in market at present.</td>\n",
       "      <td>I enclose herewith. I have replied to the gent...</td>\n",
       "      <td>H. Silva White. Esq.,</td>\n",
       "    </tr>\n",
       "    <tr>\n",
       "      <th>9</th>\n",
       "      <td>August 30, 1910.</td>\n",
       "      <td>As to their value, I am without any data to go...</td>\n",
       "      <td>Mesers. C. D. Barney &amp; Company ,</td>\n",
       "      <td>for it. However, it is not a very important ma...</td>\n",
       "      <td>Always your sincerely,</td>\n",
       "    </tr>\n",
       "    <tr>\n",
       "      <th>10</th>\n",
       "      <td>(about June 3, 1909.</td>\n",
       "      <td>an introduction to Mademoiselle Ogiz, whom you...</td>\n",
       "      <td>Mr. T. Jefferson Coolidge, Jr.,</td>\n",
       "      <td>22d ultimo, that he is always in the market fo...</td>\n",
       "      <td>Prides Crossing, Mass.</td>\n",
       "    </tr>\n",
       "  </tbody>\n",
       "</table>\n",
       "</div>"
      ],
      "text/plain": [
       "               Q1_answer                                          Q2_answer                            Q3_answer                                          Q4_answer                    Q5_answer\n",
       "0       July 20th, 1910.  in answer to cable in regard to option on Lane...  Replying to your favor of the 17th:  one would not interest him.  He thanks you for...      London, S, W., England.\n",
       "1    15 Old Bond Street,  Rembrandt purchased for me shipped Paris, see ...  have taken liberties. Have written.  volume 2, 13, April 1914, edited by Wilhelm R....     New York, June 10, 1909.\n",
       "2     \"Purchase Brower\".  then advise you definitely. Please reply to me...    ing his attention to the objecte.  They were purchased by the Duke of Bridgewater...    Mrs. Frances W. Marshall,\n",
       "3     December 19, 1906.  Replying to your favor of the 18th. It gives m...    per voucher enclosed, and oblige,  He, however, would be glad to hear from you re...    Fry care Kneedler, Paris.\n",
       "4      23 Place Vendome,  Express and have it delivered to me at Trinity...  With the Compliments of the Season,  seventy-three hundred and twenty (7320) shares...       Prides Crossing, Mass.\n",
       "5      23 Place Vendome,  Express and have it delivered to me at Trinity...  With the Compliments of the Season,  seventy-three hundred and twenty (7320) shares...       Prides Crossing, Mass.\n",
       "6    Mr. John W. Beatty,  purchased., some time ago, the portrait of Sir...    high in fact for me to entertain.  information came to me very confidentially, an...  francs.  Rest soon.  Write.\n",
       "7      645 Fifth Avenue,  to purchase anything unless it ranks with the ...  difficulty in finding at La Sarras.  dining room, and would be willing to pay you $...        ed from time to time.\n",
       "8    25 Cld Bond Street,  of the 18th, that the titles of the pictures a...     Thanks not in market at present.  I enclose herewith. I have replied to the gent...        H. Silva White. Esq.,\n",
       "9      August 30, 1910.   As to their value, I am without any data to go...     Mesers. C. D. Barney & Company ,  for it. However, it is not a very important ma...       Always your sincerely,\n",
       "10  (about June 3, 1909.  an introduction to Mademoiselle Ogiz, whom you...      Mr. T. Jefferson Coolidge, Jr.,  22d ultimo, that he is always in the market fo...       Prides Crossing, Mass."
      ]
     },
     "execution_count": 9,
     "metadata": {},
     "output_type": "execute_result"
    }
   ],
   "source": [
    "df.loc[0:10, list(cols.keys())[:5]]"
   ]
  },
  {
   "cell_type": "markdown",
   "metadata": {},
   "source": [
    "#### Count number of submitted fragments (nb: the last submission is not counted)) "
   ]
  },
  {
   "cell_type": "code",
   "execution_count": 10,
   "metadata": {},
   "outputs": [],
   "source": [
    "df['Counter'] = df['fragments'] - 1"
   ]
  },
  {
   "cell_type": "markdown",
   "metadata": {},
   "source": [
    "#### Count non-empty submissions "
   ]
  },
  {
   "cell_type": "code",
   "execution_count": 11,
   "metadata": {},
   "outputs": [],
   "source": [
    "def count_non_empty(row: pd.Series) -> int:\n",
    "    \"\"\"\n",
    "    Count actual number of submitted fragments.\n",
    "    \n",
    "    This function counts only non-empty submissions. \n",
    "    It takes account of the fact that workers\n",
    "    skip fragments.\n",
    "    \"\"\"\n",
    "    raw_submits = row['Counter']\n",
    "    answer_columns = [f'Q{x}_answer' for x in range(1, raw_submits + 1)]\n",
    "    return row[answer_columns].count()\n",
    "\n",
    "df['Counter_real'] = df.apply(count_non_empty, axis=1)"
   ]
  },
  {
   "cell_type": "markdown",
   "metadata": {},
   "source": [
    "#### Generate columns with counter for emty submissions and share of empty submissions"
   ]
  },
  {
   "cell_type": "code",
   "execution_count": 12,
   "metadata": {},
   "outputs": [],
   "source": [
    "df['Counter_empty'] = df['Counter'] - df['Counter_real']\n",
    "df['Counter_quota'] = df['Counter_empty'] / df['Counter']"
   ]
  },
  {
   "cell_type": "markdown",
   "metadata": {},
   "source": [
    "#### Merge columns with intervention timer and drop columns  "
   ]
  },
  {
   "cell_type": "code",
   "execution_count": 13,
   "metadata": {},
   "outputs": [],
   "source": [
    "intervent_cols = [\n",
    "    'Q4_timer',\n",
    "    'Q7_timer',\n",
    "    'Q10_timer',\n",
    "    'Q13_timer',\n",
    "]\n",
    "\n",
    "df['Intervention_timer'] = df[intervent_cols].sum(axis=1)\n",
    "df = df.drop(intervent_cols, axis=1)"
   ]
  },
  {
   "cell_type": "markdown",
   "metadata": {},
   "source": [
    "#### Merge columns with submission timer for each group"
   ]
  },
  {
   "cell_type": "code",
   "execution_count": 14,
   "metadata": {},
   "outputs": [],
   "source": [
    "timer_cols = {\n",
    "    f'Q{x}_timer': [f'G{y}Q{z}_timer' for y in range(1, 16, 1)]\n",
    "    for x, z in zip(range(1, 111, 1), range(2, 439, 4))\n",
    "}\n",
    "\n",
    "for quest, columns in timer_cols.items():\n",
    "    df.loc[:, quest] = df.loc[:, columns].sum(axis=1)\n",
    "    df = df.drop(columns, axis=1)"
   ]
  },
  {
   "cell_type": "markdown",
   "metadata": {},
   "source": [
    "#### Replace null timer with nan"
   ]
  },
  {
   "cell_type": "code",
   "execution_count": 15,
   "metadata": {},
   "outputs": [],
   "source": [
    "df.loc[:, timer_cols.keys()] = df.loc[:, timer_cols.keys()].replace({0.0:np.nan})"
   ]
  },
  {
   "cell_type": "markdown",
   "metadata": {},
   "source": [
    "#### Typecast columns with timing info to datetime objects"
   ]
  },
  {
   "cell_type": "code",
   "execution_count": 16,
   "metadata": {},
   "outputs": [],
   "source": [
    "timseries = ['Start Date', 'End Date']\n",
    "for series in timseries:\n",
    "    df[series] = pd.to_datetime(df[series], infer_datetime_format=True)\n",
    "\n",
    "df['duration_survey'] = (df['End Date'] - df['Start Date']).dt.seconds\n",
    "df['duration_work'] = df['end_time'] - df['start_time']"
   ]
  },
  {
   "cell_type": "markdown",
   "metadata": {},
   "source": [
    "#### Identify subjects for which the timer did not work (i.e. 10 min. +/- 5%)"
   ]
  },
  {
   "cell_type": "code",
   "execution_count": 17,
   "metadata": {},
   "outputs": [
    {
     "data": {
      "text/html": [
       "<div>\n",
       "<style scoped>\n",
       "    .dataframe tbody tr th:only-of-type {\n",
       "        vertical-align: middle;\n",
       "    }\n",
       "\n",
       "    .dataframe tbody tr th {\n",
       "        vertical-align: top;\n",
       "    }\n",
       "\n",
       "    .dataframe thead th {\n",
       "        text-align: right;\n",
       "    }\n",
       "</style>\n",
       "<table border=\"1\" class=\"dataframe\">\n",
       "  <thead>\n",
       "    <tr style=\"text-align: right;\">\n",
       "      <th></th>\n",
       "      <th>Treatment</th>\n",
       "      <th>Duration work</th>\n",
       "      <th>Fragments</th>\n",
       "    </tr>\n",
       "  </thead>\n",
       "  <tbody>\n",
       "    <tr>\n",
       "      <th>475</th>\n",
       "      <td>4</td>\n",
       "      <td>632</td>\n",
       "      <td>58</td>\n",
       "    </tr>\n",
       "    <tr>\n",
       "      <th>81</th>\n",
       "      <td>3</td>\n",
       "      <td>633</td>\n",
       "      <td>39</td>\n",
       "    </tr>\n",
       "    <tr>\n",
       "      <th>1559</th>\n",
       "      <td>3</td>\n",
       "      <td>635</td>\n",
       "      <td>19</td>\n",
       "    </tr>\n",
       "    <tr>\n",
       "      <th>891</th>\n",
       "      <td>1</td>\n",
       "      <td>636</td>\n",
       "      <td>6</td>\n",
       "    </tr>\n",
       "    <tr>\n",
       "      <th>1348</th>\n",
       "      <td>2</td>\n",
       "      <td>638</td>\n",
       "      <td>34</td>\n",
       "    </tr>\n",
       "    <tr>\n",
       "      <th>290</th>\n",
       "      <td>4</td>\n",
       "      <td>641</td>\n",
       "      <td>54</td>\n",
       "    </tr>\n",
       "    <tr>\n",
       "      <th>184</th>\n",
       "      <td>4</td>\n",
       "      <td>642</td>\n",
       "      <td>79</td>\n",
       "    </tr>\n",
       "    <tr>\n",
       "      <th>1015</th>\n",
       "      <td>2</td>\n",
       "      <td>655</td>\n",
       "      <td>54</td>\n",
       "    </tr>\n",
       "    <tr>\n",
       "      <th>743</th>\n",
       "      <td>4</td>\n",
       "      <td>660</td>\n",
       "      <td>55</td>\n",
       "    </tr>\n",
       "    <tr>\n",
       "      <th>782</th>\n",
       "      <td>3</td>\n",
       "      <td>679</td>\n",
       "      <td>26</td>\n",
       "    </tr>\n",
       "    <tr>\n",
       "      <th>422</th>\n",
       "      <td>3</td>\n",
       "      <td>681</td>\n",
       "      <td>58</td>\n",
       "    </tr>\n",
       "    <tr>\n",
       "      <th>1614</th>\n",
       "      <td>1</td>\n",
       "      <td>697</td>\n",
       "      <td>21</td>\n",
       "    </tr>\n",
       "    <tr>\n",
       "      <th>831</th>\n",
       "      <td>2</td>\n",
       "      <td>697</td>\n",
       "      <td>8</td>\n",
       "    </tr>\n",
       "    <tr>\n",
       "      <th>149</th>\n",
       "      <td>3</td>\n",
       "      <td>711</td>\n",
       "      <td>110</td>\n",
       "    </tr>\n",
       "    <tr>\n",
       "      <th>221</th>\n",
       "      <td>1</td>\n",
       "      <td>720</td>\n",
       "      <td>110</td>\n",
       "    </tr>\n",
       "    <tr>\n",
       "      <th>1474</th>\n",
       "      <td>4</td>\n",
       "      <td>725</td>\n",
       "      <td>107</td>\n",
       "    </tr>\n",
       "    <tr>\n",
       "      <th>852</th>\n",
       "      <td>3</td>\n",
       "      <td>725</td>\n",
       "      <td>110</td>\n",
       "    </tr>\n",
       "    <tr>\n",
       "      <th>854</th>\n",
       "      <td>4</td>\n",
       "      <td>726</td>\n",
       "      <td>6</td>\n",
       "    </tr>\n",
       "    <tr>\n",
       "      <th>474</th>\n",
       "      <td>2</td>\n",
       "      <td>727</td>\n",
       "      <td>110</td>\n",
       "    </tr>\n",
       "    <tr>\n",
       "      <th>1145</th>\n",
       "      <td>2</td>\n",
       "      <td>736</td>\n",
       "      <td>110</td>\n",
       "    </tr>\n",
       "    <tr>\n",
       "      <th>745</th>\n",
       "      <td>2</td>\n",
       "      <td>745</td>\n",
       "      <td>83</td>\n",
       "    </tr>\n",
       "    <tr>\n",
       "      <th>135</th>\n",
       "      <td>2</td>\n",
       "      <td>748</td>\n",
       "      <td>77</td>\n",
       "    </tr>\n",
       "    <tr>\n",
       "      <th>853</th>\n",
       "      <td>3</td>\n",
       "      <td>749</td>\n",
       "      <td>110</td>\n",
       "    </tr>\n",
       "    <tr>\n",
       "      <th>298</th>\n",
       "      <td>1</td>\n",
       "      <td>769</td>\n",
       "      <td>110</td>\n",
       "    </tr>\n",
       "    <tr>\n",
       "      <th>732</th>\n",
       "      <td>2</td>\n",
       "      <td>770</td>\n",
       "      <td>110</td>\n",
       "    </tr>\n",
       "    <tr>\n",
       "      <th>552</th>\n",
       "      <td>1</td>\n",
       "      <td>774</td>\n",
       "      <td>110</td>\n",
       "    </tr>\n",
       "    <tr>\n",
       "      <th>1720</th>\n",
       "      <td>2</td>\n",
       "      <td>798</td>\n",
       "      <td>10</td>\n",
       "    </tr>\n",
       "    <tr>\n",
       "      <th>839</th>\n",
       "      <td>4</td>\n",
       "      <td>819</td>\n",
       "      <td>110</td>\n",
       "    </tr>\n",
       "    <tr>\n",
       "      <th>1737</th>\n",
       "      <td>4</td>\n",
       "      <td>864</td>\n",
       "      <td>110</td>\n",
       "    </tr>\n",
       "    <tr>\n",
       "      <th>176</th>\n",
       "      <td>2</td>\n",
       "      <td>1173</td>\n",
       "      <td>2</td>\n",
       "    </tr>\n",
       "    <tr>\n",
       "      <th>1057</th>\n",
       "      <td>2</td>\n",
       "      <td>89563</td>\n",
       "      <td>13</td>\n",
       "    </tr>\n",
       "  </tbody>\n",
       "</table>\n",
       "</div>"
      ],
      "text/plain": [
       "      Treatment  Duration work  Fragments\n",
       "475           4            632         58\n",
       "81            3            633         39\n",
       "1559          3            635         19\n",
       "891           1            636          6\n",
       "1348          2            638         34\n",
       "290           4            641         54\n",
       "184           4            642         79\n",
       "1015          2            655         54\n",
       "743           4            660         55\n",
       "782           3            679         26\n",
       "422           3            681         58\n",
       "1614          1            697         21\n",
       "831           2            697          8\n",
       "149           3            711        110\n",
       "221           1            720        110\n",
       "1474          4            725        107\n",
       "852           3            725        110\n",
       "854           4            726          6\n",
       "474           2            727        110\n",
       "1145          2            736        110\n",
       "745           2            745         83\n",
       "135           2            748         77\n",
       "853           3            749        110\n",
       "298           1            769        110\n",
       "732           2            770        110\n",
       "552           1            774        110\n",
       "1720          2            798         10\n",
       "839           4            819        110\n",
       "1737          4            864        110\n",
       "176           2           1173          2\n",
       "1057          2          89563         13"
      ]
     },
     "execution_count": 17,
     "metadata": {},
     "output_type": "execute_result"
    }
   ],
   "source": [
    "low_limit = (df['duration_work'] < 600 * 0.95)\n",
    "up_limit = (df['duration_work'] > 600 * 1.05)\n",
    "broken_timer = (low_limit| up_limit)\n",
    "\n",
    "broken_columns = ['treatment', 'duration_work', 'fragments']\n",
    "df_broken = df.loc[broken_timer, broken_columns]\\\n",
    "    .sort_values(by='duration_work')\\\n",
    "    .rename(lambda x: x.capitalize().replace('_', ' '), axis=1)\n",
    "\n",
    "df_broken"
   ]
  },
  {
   "cell_type": "markdown",
   "metadata": {},
   "source": [
    "#### Remove subjects for which the timer did not work"
   ]
  },
  {
   "cell_type": "code",
   "execution_count": 18,
   "metadata": {},
   "outputs": [
    {
     "name": "stdout",
     "output_type": "stream",
     "text": [
      "<class 'pandas.core.frame.DataFrame'>\n",
      "Int64Index: 1768 entries, 0 to 1798\n",
      "Columns: 264 entries, Start Date to duration_work\n",
      "dtypes: datetime64[ns](2), float64(152), int64(21), object(89)\n",
      "memory usage: 3.6+ MB\n"
     ]
    }
   ],
   "source": [
    "df = df[~broken_timer]\n",
    "df.info()"
   ]
  },
  {
   "cell_type": "markdown",
   "metadata": {},
   "source": [
    "#### Make column with treatment names"
   ]
  },
  {
   "cell_type": "code",
   "execution_count": 19,
   "metadata": {},
   "outputs": [],
   "source": [
    "treatment_dict = {\n",
    "    1: 'Neutral',\n",
    "    2: 'Charisma without goal',\n",
    "    3: 'Goal',\n",
    "    4: 'Full charisma'\n",
    "}\n",
    "\n",
    "df['Treatment_str'] = df['treatment'].replace(treatment_dict)"
   ]
  },
  {
   "cell_type": "markdown",
   "metadata": {},
   "source": [
    "#### Make columns with binary variable for main treatment dimensions"
   ]
  },
  {
   "cell_type": "code",
   "execution_count": 20,
   "metadata": {},
   "outputs": [],
   "source": [
    "df['Charisma'] = df['treatment'].isin([2, 4]).astype(int)\n",
    "df['Goal'] = df['treatment'].isin([3, 4]).astype(int)"
   ]
  },
  {
   "cell_type": "markdown",
   "metadata": {},
   "source": [
    "#### Rename columns with background questions"
   ]
  },
  {
   "cell_type": "code",
   "execution_count": 21,
   "metadata": {},
   "outputs": [],
   "source": [
    "var_dict = {\n",
    "    'Q17': 'Enjoyment',\n",
    "    'Q18': 'Motivation',\n",
    "    'Q19': 'Future_motivation',\n",
    "    'Q20': 'Frick_knowledge',\n",
    "    'Q21': 'Identify_mission',\n",
    "    'Q22': 'Shedule_change',\n",
    "    'Q23': 'Time_mturk_increase',\n",
    "    'Q24': 'Hours_mturk',\n",
    "    'Q25': 'Concentration',\n",
    "    'Q26': 'Mobile_device',\n",
    "    'Q27': 'Touch_typing',\n",
    "    'Q28': 'Hours_keyboard',\n",
    "    'Q29': 'Hours_keyboard_total',\n",
    "    'Q30': 'Age',\n",
    "    'Q31': 'Gender',\n",
    "    'Q32': 'Education',\n",
    "    'Q33': 'Comments',\n",
    "    'Q1_browser': 'Browser',\n",
    "    'Q1_operating system': 'Operating_system',\n",
    "    'Q1_resolution': 'Resolution',\n",
    "    'Q1_version': 'Version',\n",
    "}\n",
    "\n",
    "df = df\\\n",
    "    .rename(var_dict, axis=1)\\\n",
    "    .rename(lambda x: x.capitalize(), axis=1)"
   ]
  },
  {
   "cell_type": "markdown",
   "metadata": {},
   "source": [
    "#### Generate columns with indicator variable for different genders"
   ]
  },
  {
   "cell_type": "code",
   "execution_count": 22,
   "metadata": {},
   "outputs": [],
   "source": [
    "df[['Male', 'Female', 'Diverse']] = pd.get_dummies(df['Gender'])"
   ]
  },
  {
   "cell_type": "markdown",
   "metadata": {},
   "source": [
    "#### Drop uneccessary columns"
   ]
  },
  {
   "cell_type": "code",
   "execution_count": 23,
   "metadata": {
    "scrolled": false
   },
   "outputs": [],
   "source": [
    "df = df.drop(df.columns[7:11], axis=1)"
   ]
  },
  {
   "cell_type": "markdown",
   "metadata": {},
   "source": [
    "#### Remove leading/trailing whitespace and linebreaks"
   ]
  },
  {
   "cell_type": "code",
   "execution_count": 24,
   "metadata": {
    "scrolled": false
   },
   "outputs": [],
   "source": [
    "def remove_whitespace_and_breaks(x):\n",
    "    if isinstance(x, str):\n",
    "        return x.strip().replace('\\n', ' ').replace('\\r', '')\n",
    "    else:\n",
    "        return x\n",
    "\n",
    "df = df.applymap(remove_whitespace_and_breaks)"
   ]
  },
  {
   "cell_type": "markdown",
   "metadata": {},
   "source": [
    "#### Make dataframe with empty columns for edit distance and error_share, then join with main dataframe"
   ]
  },
  {
   "cell_type": "code",
   "execution_count": 25,
   "metadata": {},
   "outputs": [],
   "source": [
    "edit_cols = [\n",
    "    col for x in range(1, 111)\n",
    "    for col in (f'Q{x}_solution', f'Q{x}_distance', f'Q{x}_editratio')\n",
    "]\n",
    "\n",
    "edit_frame = pd.DataFrame(index=df.index, columns=edit_cols)\n",
    "df = df.merge(edit_frame, left_index=True, right_index=True)"
   ]
  },
  {
   "cell_type": "markdown",
   "metadata": {},
   "source": [
    "#### Load dataframe with correct solutions"
   ]
  },
  {
   "cell_type": "code",
   "execution_count": 26,
   "metadata": {},
   "outputs": [
    {
     "data": {
      "text/html": [
       "<div>\n",
       "<style scoped>\n",
       "    .dataframe tbody tr th:only-of-type {\n",
       "        vertical-align: middle;\n",
       "    }\n",
       "\n",
       "    .dataframe tbody tr th {\n",
       "        vertical-align: top;\n",
       "    }\n",
       "\n",
       "    .dataframe thead th {\n",
       "        text-align: right;\n",
       "    }\n",
       "</style>\n",
       "<table border=\"1\" class=\"dataframe\">\n",
       "  <thead>\n",
       "    <tr style=\"text-align: right;\">\n",
       "      <th></th>\n",
       "      <th>Solutions_group_1</th>\n",
       "      <th>Solutions_group_2</th>\n",
       "      <th>Solutions_group_3</th>\n",
       "      <th>Solutions_group_4</th>\n",
       "      <th>Solutions_group_5</th>\n",
       "      <th>Solutions_group_6</th>\n",
       "      <th>Solutions_group_7</th>\n",
       "      <th>Solutions_group_8</th>\n",
       "      <th>Solutions_group_9</th>\n",
       "      <th>Solutions_group_10</th>\n",
       "      <th>Solutions_group_11</th>\n",
       "      <th>Solutions_group_12</th>\n",
       "      <th>Solutions_group_13</th>\n",
       "      <th>Solutions_group_14</th>\n",
       "      <th>Solutions_group_15</th>\n",
       "    </tr>\n",
       "  </thead>\n",
       "  <tbody>\n",
       "    <tr>\n",
       "      <th>Q1_solution</th>\n",
       "      <td>September 12, 1905.</td>\n",
       "      <td>15 Old Bond Street,</td>\n",
       "      <td>December 19, 1906.</td>\n",
       "      <td>23 Place Vendome,</td>\n",
       "      <td>(about June 3, 1909.</td>\n",
       "      <td>645 Fifth Avenue,</td>\n",
       "      <td>January 10, 1910.</td>\n",
       "      <td>January 10, 1910.</td>\n",
       "      <td>Mr. John W. Beatty,</td>\n",
       "      <td>January 24, 1910.</td>\n",
       "      <td>\"Purchase Brower\".</td>\n",
       "      <td>July 20th, 1910.</td>\n",
       "      <td>25 Old Bond Street,</td>\n",
       "      <td>July 21st, 1910.</td>\n",
       "      <td>August 30, 1910.</td>\n",
       "    </tr>\n",
       "    <tr>\n",
       "      <th>Q2_solution</th>\n",
       "      <td>You did not enclose bill for premium, but as w...</td>\n",
       "      <td>Rembrandt purchased for me shipped Paris, see ...</td>\n",
       "      <td>Replying to your favor of the 18th. It gives m...</td>\n",
       "      <td>Express and have it delivered to me at Trinity...</td>\n",
       "      <td>an introduction to Mademoiselle Ogiz, whom you...</td>\n",
       "      <td>to purchase anything unless it ranks with the ...</td>\n",
       "      <td>has no objections to the reproduction of the R...</td>\n",
       "      <td>Your note of the 17th is a surprise. I do not ...</td>\n",
       "      <td>purchased, some time ago, the portrait of Sir ...</td>\n",
       "      <td>tioned is certainly very high. I probably will...</td>\n",
       "      <td>then advise you definitely. Please reply to me...</td>\n",
       "      <td>in answer to cable in ragard to option on Lane...</td>\n",
       "      <td>of the 18th, that the titles of the pictures a...</td>\n",
       "      <td>I enclose you a memorandum of the transaction ...</td>\n",
       "      <td>As to their value, I am without any data to go...</td>\n",
       "    </tr>\n",
       "    <tr>\n",
       "      <th>Q3_solution</th>\n",
       "      <td>\"Mussel Gatherer\" would seem fair.</td>\n",
       "      <td>have taken liberties. Have written.</td>\n",
       "      <td>per voucher enclosed, and oblige,</td>\n",
       "      <td>With the Compliments of the Season,</td>\n",
       "      <td>Mr. T. Jefferson Coolidge, Jr.,</td>\n",
       "      <td>difficulty in finding at La Sarras.</td>\n",
       "      <td>matter to him when he sees him.</td>\n",
       "      <td>Thanking you for your trouble, I am</td>\n",
       "      <td>high in fact for me to entertain.</td>\n",
       "      <td>I am in receipt of your favor of</td>\n",
       "      <td>ing his attention to the objects.</td>\n",
       "      <td>Replying to your favor of the 17th:</td>\n",
       "      <td>\"Thanks not in market at present.</td>\n",
       "      <td>Senora Dona Maria Martinez da Puga.</td>\n",
       "      <td>Messrs. C. D. Barney &amp; Company,</td>\n",
       "    </tr>\n",
       "    <tr>\n",
       "      <th>Q4_solution</th>\n",
       "      <td>interest us but you did not name a price; I pr...</td>\n",
       "      <td>volume 2, 13, April 1914, edited by Wilhelm R....</td>\n",
       "      <td>He, however, would be glad to hear from you re...</td>\n",
       "      <td>seventy-three hundred and twenty (7320) shares...</td>\n",
       "      <td>22d ultimo, that he is always in the market fo...</td>\n",
       "      <td>dining room, and would be willing to pay you $...</td>\n",
       "      <td>on the third floor, and would be glad if you w...</td>\n",
       "      <td>sent him, and acknowledge with thanks the book...</td>\n",
       "      <td>information came to me very confidentially, an...</td>\n",
       "      <td>him that if he ever did think of selling any o...</td>\n",
       "      <td>They were purchased by the Duke of Bridgewater...</td>\n",
       "      <td>one would not interest him. He thanks you for ...</td>\n",
       "      <td>I enclose herewith. I have replied to the gent...</td>\n",
       "      <td>three hundred was not legitimate but made spoi...</td>\n",
       "      <td>for it. However, it is not a very important ma...</td>\n",
       "    </tr>\n",
       "    <tr>\n",
       "      <th>Q5_solution</th>\n",
       "      <td>To Mr. H. H. Farjeon,</td>\n",
       "      <td>New York, June 10, 1909.</td>\n",
       "      <td>Fry care Knoedler, Paris.</td>\n",
       "      <td>Prides Crossing, Mass.</td>\n",
       "      <td>Prides Crossing, Mass.</td>\n",
       "      <td>ad from time to time.</td>\n",
       "      <td>will bear good fruit.</td>\n",
       "      <td>My dear Mr. Burroughs:</td>\n",
       "      <td>francs. Rest soon. Write.</td>\n",
       "      <td>(Signed) R.E.Griswold.</td>\n",
       "      <td>Mrs. Frances W. Marshall,</td>\n",
       "      <td>London, S. W., England.</td>\n",
       "      <td>H. Silva White, Esq.,</td>\n",
       "      <td>we know what he thinks.</td>\n",
       "      <td>Always yours sincerely,</td>\n",
       "    </tr>\n",
       "  </tbody>\n",
       "</table>\n",
       "</div>"
      ],
      "text/plain": [
       "                                             Solutions_group_1                                  Solutions_group_2                                  Solutions_group_3                                  Solutions_group_4                                  Solutions_group_5                                  Solutions_group_6                                  Solutions_group_7                                  Solutions_group_8                                  Solutions_group_9                                 Solutions_group_10                                 Solutions_group_11                                 Solutions_group_12                                 Solutions_group_13                                 Solutions_group_14                                 Solutions_group_15\n",
       "Q1_solution                                September 12, 1905.                                15 Old Bond Street,                                 December 19, 1906.                                  23 Place Vendome,                               (about June 3, 1909.                                  645 Fifth Avenue,                                  January 10, 1910.                                  January 10, 1910.                                Mr. John W. Beatty,                                  January 24, 1910.                                 \"Purchase Brower\".                                   July 20th, 1910.                                25 Old Bond Street,                                   July 21st, 1910.                                   August 30, 1910.\n",
       "Q2_solution  You did not enclose bill for premium, but as w...  Rembrandt purchased for me shipped Paris, see ...  Replying to your favor of the 18th. It gives m...  Express and have it delivered to me at Trinity...  an introduction to Mademoiselle Ogiz, whom you...  to purchase anything unless it ranks with the ...  has no objections to the reproduction of the R...  Your note of the 17th is a surprise. I do not ...  purchased, some time ago, the portrait of Sir ...  tioned is certainly very high. I probably will...  then advise you definitely. Please reply to me...  in answer to cable in ragard to option on Lane...  of the 18th, that the titles of the pictures a...  I enclose you a memorandum of the transaction ...  As to their value, I am without any data to go...\n",
       "Q3_solution                 \"Mussel Gatherer\" would seem fair.                have taken liberties. Have written.                  per voucher enclosed, and oblige,                With the Compliments of the Season,                    Mr. T. Jefferson Coolidge, Jr.,                difficulty in finding at La Sarras.                    matter to him when he sees him.                Thanking you for your trouble, I am                  high in fact for me to entertain.                   I am in receipt of your favor of                  ing his attention to the objects.                Replying to your favor of the 17th:                  \"Thanks not in market at present.                Senora Dona Maria Martinez da Puga.                    Messrs. C. D. Barney & Company,\n",
       "Q4_solution  interest us but you did not name a price; I pr...  volume 2, 13, April 1914, edited by Wilhelm R....  He, however, would be glad to hear from you re...  seventy-three hundred and twenty (7320) shares...  22d ultimo, that he is always in the market fo...  dining room, and would be willing to pay you $...  on the third floor, and would be glad if you w...  sent him, and acknowledge with thanks the book...  information came to me very confidentially, an...  him that if he ever did think of selling any o...  They were purchased by the Duke of Bridgewater...  one would not interest him. He thanks you for ...  I enclose herewith. I have replied to the gent...  three hundred was not legitimate but made spoi...  for it. However, it is not a very important ma...\n",
       "Q5_solution                              To Mr. H. H. Farjeon,                           New York, June 10, 1909.                          Fry care Knoedler, Paris.                             Prides Crossing, Mass.                             Prides Crossing, Mass.                              ad from time to time.                              will bear good fruit.                             My dear Mr. Burroughs:                          francs. Rest soon. Write.                             (Signed) R.E.Griswold.                          Mrs. Frances W. Marshall,                            London, S. W., England.                              H. Silva White, Esq.,                            we know what he thinks.                            Always yours sincerely,"
      ]
     },
     "execution_count": 26,
     "metadata": {},
     "output_type": "execute_result"
    }
   ],
   "source": [
    "path = os.path.join(PROCESSED_DATA_FOLDER, 'experiment_2', 'fragments.xlsx')\n",
    "df_solutions = pd.read_excel(path, index_col=0, engine='openpyxl')\n",
    "df_solutions.head()"
   ]
  },
  {
   "cell_type": "markdown",
   "metadata": {},
   "source": [
    "#### Make columns with correct solutions"
   ]
  },
  {
   "cell_type": "code",
   "execution_count": 27,
   "metadata": {
    "scrolled": false
   },
   "outputs": [],
   "source": [
    "for group in range(1, 16, 1):\n",
    "    for index, row in df_solutions.iterrows():\n",
    "        df.loc[df['Group'] == group, index] = row[f'Solutions_group_{group}']"
   ]
  },
  {
   "cell_type": "markdown",
   "metadata": {},
   "source": [
    "#### Calculate Levenshtein edit distance "
   ]
  },
  {
   "cell_type": "code",
   "execution_count": 28,
   "metadata": {},
   "outputs": [],
   "source": [
    "column_pairs = [(f'Q{x}_answer', f'Q{x}_solution') for x in range(1, 111)]\n",
    "\n",
    "for index, row in df.iterrows():\n",
    "    number_answers_submitted = row.at['Counter']\n",
    "    columns_to_check = column_pairs[:number_answers_submitted]\n",
    "\n",
    "    for number, (answer_col, solution_col) in enumerate(columns_to_check):\n",
    "        answer = row[answer_col]\n",
    "        solution = row[solution_col]\n",
    "\n",
    "        if isinstance(answer, str):\n",
    "            edit_distance = Levenshtein.distance(answer, solution)\n",
    "            edit_ratio = edit_distance / max(len(answer), len(solution))\n",
    "\n",
    "        else:\n",
    "            edit_distance = np.NAN\n",
    "            edit_ratio = np.NAN\n",
    "\n",
    "        dist_column = f'Q{number + 1}_distance'\n",
    "        ratio_column = f'Q{number + 1}_editratio'\n",
    "\n",
    "        df.at[index, dist_column] = edit_distance\n",
    "        df.at[index, ratio_column] = edit_ratio"
   ]
  },
  {
   "cell_type": "markdown",
   "metadata": {},
   "source": [
    "#### Manually inspecting answers and evaluations for submitted fragments"
   ]
  },
  {
   "cell_type": "code",
   "execution_count": 29,
   "metadata": {},
   "outputs": [
    {
     "data": {
      "text/html": [
       "<div>\n",
       "<style scoped>\n",
       "    .dataframe tbody tr th:only-of-type {\n",
       "        vertical-align: middle;\n",
       "    }\n",
       "\n",
       "    .dataframe tbody tr th {\n",
       "        vertical-align: top;\n",
       "    }\n",
       "\n",
       "    .dataframe thead th {\n",
       "        text-align: right;\n",
       "    }\n",
       "</style>\n",
       "<table border=\"1\" class=\"dataframe\">\n",
       "  <thead>\n",
       "    <tr style=\"text-align: right;\">\n",
       "      <th></th>\n",
       "      <th>Q33_answer</th>\n",
       "      <th>Q33_solution</th>\n",
       "      <th>Q33_distance</th>\n",
       "      <th>Q33_editratio</th>\n",
       "      <th>Q33_timer</th>\n",
       "      <th>Counter</th>\n",
       "    </tr>\n",
       "  </thead>\n",
       "  <tbody>\n",
       "    <tr>\n",
       "      <th>0</th>\n",
       "      <td>251 West 81st Street, N. Y.</td>\n",
       "      <td>251 West 81st Street, N. Y.</td>\n",
       "      <td>0</td>\n",
       "      <td>0</td>\n",
       "      <td>8.196</td>\n",
       "      <td>59</td>\n",
       "    </tr>\n",
       "    <tr>\n",
       "      <th>1</th>\n",
       "      <td>Messrs. M. Knoedler &amp; Company.</td>\n",
       "      <td>Messrs. M. Knoedler &amp; Company.</td>\n",
       "      <td>0</td>\n",
       "      <td>0</td>\n",
       "      <td>33.114</td>\n",
       "      <td>42</td>\n",
       "    </tr>\n",
       "    <tr>\n",
       "      <th>2</th>\n",
       "      <td>Messers. N. Knoedler &amp; Company.</td>\n",
       "      <td>Mesers. N. Knoedler &amp; Company,</td>\n",
       "      <td>2</td>\n",
       "      <td>0.0645</td>\n",
       "      <td>12.926</td>\n",
       "      <td>53</td>\n",
       "    </tr>\n",
       "    <tr>\n",
       "      <th>3</th>\n",
       "      <td>I will be greatly obliged.</td>\n",
       "      <td>I will be greatly obliged.</td>\n",
       "      <td>0</td>\n",
       "      <td>0</td>\n",
       "      <td>7.955</td>\n",
       "      <td>35</td>\n",
       "    </tr>\n",
       "    <tr>\n",
       "      <th>4</th>\n",
       "      <td>great faith in your judgement.</td>\n",
       "      <td>great faith in your judgment.</td>\n",
       "      <td>1</td>\n",
       "      <td>0.0333</td>\n",
       "      <td>5.399</td>\n",
       "      <td>41</td>\n",
       "    </tr>\n",
       "    <tr>\n",
       "      <th>5</th>\n",
       "      <td>great faith in your judgement.</td>\n",
       "      <td>great faith in your judgment.</td>\n",
       "      <td>1</td>\n",
       "      <td>0.0333</td>\n",
       "      <td>9.133</td>\n",
       "      <td>35</td>\n",
       "    </tr>\n",
       "    <tr>\n",
       "      <th>6</th>\n",
       "      <td>29, Inks Street, 3t. James's,</td>\n",
       "      <td>29, Duke Street, St. James's,</td>\n",
       "      <td>4</td>\n",
       "      <td>0.138</td>\n",
       "      <td>15.729</td>\n",
       "      <td>38</td>\n",
       "    </tr>\n",
       "    <tr>\n",
       "      <th>7</th>\n",
       "      <td>636 Fifth Avenue, New York.</td>\n",
       "      <td>636 Fifth Avenue, New York.</td>\n",
       "      <td>0</td>\n",
       "      <td>0</td>\n",
       "      <td>15.090</td>\n",
       "      <td>48</td>\n",
       "    </tr>\n",
       "    <tr>\n",
       "      <th>9</th>\n",
       "      <td>referred to in your favor.</td>\n",
       "      <td>referred to in your favor.</td>\n",
       "      <td>0</td>\n",
       "      <td>0</td>\n",
       "      <td>7.070</td>\n",
       "      <td>41</td>\n",
       "    </tr>\n",
       "    <tr>\n",
       "      <th>10</th>\n",
       "      <td>Metropolitan Museum of Art,</td>\n",
       "      <td>Metropolitan Museum of Art,</td>\n",
       "      <td>0</td>\n",
       "      <td>0</td>\n",
       "      <td>10.574</td>\n",
       "      <td>35</td>\n",
       "    </tr>\n",
       "    <tr>\n",
       "      <th>14</th>\n",
       "      <td>I hope this will find you well.</td>\n",
       "      <td>I hope this will find you well.</td>\n",
       "      <td>0</td>\n",
       "      <td>0</td>\n",
       "      <td>5.121</td>\n",
       "      <td>50</td>\n",
       "    </tr>\n",
       "    <tr>\n",
       "      <th>15</th>\n",
       "      <td>Metropolitan Museum of Art,</td>\n",
       "      <td>Metropolitan Museum of Art,</td>\n",
       "      <td>0</td>\n",
       "      <td>0</td>\n",
       "      <td>6.013</td>\n",
       "      <td>51</td>\n",
       "    </tr>\n",
       "    <tr>\n",
       "      <th>19</th>\n",
       "      <td>556 Fifth Avenue, New York.</td>\n",
       "      <td>556 Fifth Avenue, New York.</td>\n",
       "      <td>0</td>\n",
       "      <td>0</td>\n",
       "      <td>9.287</td>\n",
       "      <td>47</td>\n",
       "    </tr>\n",
       "    <tr>\n",
       "      <th>20</th>\n",
       "      <td>636 Fifth Avenue, New York.</td>\n",
       "      <td>636 Fifth Avenue, New York.</td>\n",
       "      <td>0</td>\n",
       "      <td>0</td>\n",
       "      <td>7.876</td>\n",
       "      <td>47</td>\n",
       "    </tr>\n",
       "    <tr>\n",
       "      <th>21</th>\n",
       "      <td>231 West 81st Street, N.Y.</td>\n",
       "      <td>251 West 81st Street, N. Y.</td>\n",
       "      <td>2</td>\n",
       "      <td>0.0741</td>\n",
       "      <td>16.177</td>\n",
       "      <td>37</td>\n",
       "    </tr>\n",
       "  </tbody>\n",
       "</table>\n",
       "</div>"
      ],
      "text/plain": [
       "                         Q33_answer                     Q33_solution Q33_distance Q33_editratio  Q33_timer  Counter\n",
       "0       251 West 81st Street, N. Y.      251 West 81st Street, N. Y.            0             0      8.196       59\n",
       "1    Messrs. M. Knoedler & Company.   Messrs. M. Knoedler & Company.            0             0     33.114       42\n",
       "2   Messers. N. Knoedler & Company.   Mesers. N. Knoedler & Company,            2        0.0645     12.926       53\n",
       "3        I will be greatly obliged.       I will be greatly obliged.            0             0      7.955       35\n",
       "4    great faith in your judgement.    great faith in your judgment.            1        0.0333      5.399       41\n",
       "5    great faith in your judgement.    great faith in your judgment.            1        0.0333      9.133       35\n",
       "6     29, Inks Street, 3t. James's,    29, Duke Street, St. James's,            4         0.138     15.729       38\n",
       "7       636 Fifth Avenue, New York.      636 Fifth Avenue, New York.            0             0     15.090       48\n",
       "9        referred to in your favor.       referred to in your favor.            0             0      7.070       41\n",
       "10      Metropolitan Museum of Art,      Metropolitan Museum of Art,            0             0     10.574       35\n",
       "14  I hope this will find you well.  I hope this will find you well.            0             0      5.121       50\n",
       "15      Metropolitan Museum of Art,      Metropolitan Museum of Art,            0             0      6.013       51\n",
       "19      556 Fifth Avenue, New York.      556 Fifth Avenue, New York.            0             0      9.287       47\n",
       "20      636 Fifth Avenue, New York.      636 Fifth Avenue, New York.            0             0      7.876       47\n",
       "21       231 West 81st Street, N.Y.      251 West 81st Street, N. Y.            2        0.0741     16.177       37"
      ]
     },
     "execution_count": 29,
     "metadata": {},
     "output_type": "execute_result"
    }
   ],
   "source": [
    "x = 33\n",
    "cols = [\n",
    "    f'Q{x}_answer', \n",
    "    f'Q{x}_solution', \n",
    "    f'Q{x}_distance',\n",
    "    f'Q{x}_editratio', \n",
    "    f'Q{x}_timer',\n",
    "    'Counter'\n",
    "]\n",
    "\n",
    "df.loc[(df['Counter'] >= x), cols].head(15)"
   ]
  },
  {
   "cell_type": "markdown",
   "metadata": {},
   "source": [
    "#### Order dataframe columns"
   ]
  },
  {
   "cell_type": "code",
   "execution_count": 30,
   "metadata": {},
   "outputs": [],
   "source": [
    "cols = [\n",
    "    'Q{0}_answer',\n",
    "    'Q{0}_solution',\n",
    "    'Q{0}_distance',\n",
    "    'Q{0}_editratio',\n",
    "    'Q{0}_timer',\n",
    "]\n",
    "\n",
    "ques_cols = [elem.format(x) for x in range(1, 111) for elem in cols]\n",
    "main = list(df.columns.difference(ques_cols))\n",
    "df = df.reindex(main + ques_cols, axis=1)"
   ]
  },
  {
   "cell_type": "markdown",
   "metadata": {},
   "source": [
    "#### Save dataframe"
   ]
  },
  {
   "cell_type": "code",
   "execution_count": 31,
   "metadata": {},
   "outputs": [],
   "source": [
    "folder = os.path.join(FINAL_DATA_FOLDER, 'experiment_2')\n",
    "df.reset_index(drop=True).to_feather(os.path.join(folder, 'data_final.feather'))\n",
    "df.to_csv(os.path.join(folder, 'data_final.csv'))"
   ]
  },
  {
   "cell_type": "markdown",
   "metadata": {},
   "source": [
    "#### Convert to html"
   ]
  },
  {
   "cell_type": "code",
   "execution_count": 32,
   "metadata": {
    "scrolled": false
   },
   "outputs": [
    {
     "name": "stdout",
     "output_type": "stream",
     "text": [
      "[NbConvertApp] Converting notebook 1_make_dataset.ipynb to html\n",
      "[NbConvertApp] Writing 656391 bytes to docs/1_make_dataset.html\n"
     ]
    }
   ],
   "source": [
    "!jupyter nbconvert --output-dir='./docs' --to html 1_make_dataset.ipynb"
   ]
  }
 ],
 "metadata": {
  "hide_input": false,
  "kernelspec": {
   "display_name": "Python 3",
   "language": "python",
   "name": "python3"
  },
  "language_info": {
   "codemirror_mode": {
    "name": "ipython",
    "version": 3
   },
   "file_extension": ".py",
   "mimetype": "text/x-python",
   "name": "python",
   "nbconvert_exporter": "python",
   "pygments_lexer": "ipython3",
   "version": "3.8.10"
  }
 },
 "nbformat": 4,
 "nbformat_minor": 2
}
