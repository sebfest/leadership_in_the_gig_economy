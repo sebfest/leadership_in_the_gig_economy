{
 "cells": [
  {
   "cell_type": "markdown",
   "metadata": {},
   "source": [
    "## List of tables:\n",
    "\n",
    "### 1. [Table 1: Treatment table](#treatment)\n",
    "\n",
    "### 2. [Table 2: Background characteristics of subjects](#balance)"
   ]
  },
  {
   "cell_type": "markdown",
   "metadata": {},
   "source": [
    "#### Imports libraries"
   ]
  },
  {
   "cell_type": "code",
   "execution_count": 1,
   "metadata": {},
   "outputs": [],
   "source": [
    "import matplotlib.pyplot as plt  # Plotting library\n",
    "import os  #File system handling\n",
    "import pandas as pd  #Dataframe handling\n",
    "import statsmodels.formula.api as smf  #Regressions analysis\n",
    "\n",
    "from statsmodels.iolib.summary2 import summary_col  #Regression output table"
   ]
  },
  {
   "cell_type": "markdown",
   "metadata": {},
   "source": [
    "#### Set project directory"
   ]
  },
  {
   "cell_type": "code",
   "execution_count": 2,
   "metadata": {},
   "outputs": [],
   "source": [
    "PROJECT_FOLDER = os.path.dirname(os.path.dirname(os.getcwd()))\n",
    "FINAL_DATA_FOLDER = os.path.join(PROJECT_FOLDER, 'data', 'final')\n",
    "TABLES_FOLDER = os.path.join(PROJECT_FOLDER, 'reports', 'tables')\n",
    "FIGURES_FOLDER = os.path.join(PROJECT_FOLDER, 'reports', 'figures')"
   ]
  },
  {
   "cell_type": "markdown",
   "metadata": {},
   "source": [
    "#### Pandas settings "
   ]
  },
  {
   "cell_type": "code",
   "execution_count": 3,
   "metadata": {},
   "outputs": [],
   "source": [
    "pd.set_option(\"display.precision\", 3)\n",
    "pd.set_option(\"display.expand_frame_repr\", False)\n",
    "pd.set_option(\"display.max_rows\", 25)"
   ]
  },
  {
   "cell_type": "markdown",
   "metadata": {},
   "source": [
    "#### Set plotting style"
   ]
  },
  {
   "cell_type": "code",
   "execution_count": 4,
   "metadata": {},
   "outputs": [],
   "source": [
    "plt.style.use('classic')"
   ]
  },
  {
   "cell_type": "markdown",
   "metadata": {},
   "source": [
    "#### Set plotting properties "
   ]
  },
  {
   "cell_type": "code",
   "execution_count": 5,
   "metadata": {},
   "outputs": [],
   "source": [
    "bar_kw = dict(kind='bar', color='0.4', alpha=0.8, lw=0.5, width=0.7)\n",
    "line_kw = dict(kind='line', lw=1, alpha=1, legend=True)\n",
    "font_kw = dict(fontsize=11, color='k')\n",
    "grid_kw = dict(linewidth=1, axis=\"y\", zorder=2, antialiased=True)\n",
    "x_lab_kw = dict(fontsize=11, labelpad=3)\n",
    "y_lab_kw = dict(fontsize=11, labelpad=3)\n",
    "error_kw = dict(elinewidth=2, ecolor='0.15')\n",
    "legend_kw = dict(frameon=False)\n",
    "tick_kw = dict(\n",
    "    size=5,\n",
    "    which='both',\n",
    "    direction='out',\n",
    "    right=False,\n",
    "    top=False,\n",
    "    labelbottom=True\n",
    ")"
   ]
  },
  {
   "cell_type": "markdown",
   "metadata": {},
   "source": [
    "#### Retrieving dataframe"
   ]
  },
  {
   "cell_type": "code",
   "execution_count": 6,
   "metadata": {},
   "outputs": [
    {
     "name": "stdout",
     "output_type": "stream",
     "text": [
      "<class 'pandas.core.frame.DataFrame'>\n",
      "RangeIndex: 1768 entries, 0 to 1767\n",
      "Columns: 596 entries, Age to Q110_timer\n",
      "dtypes: datetime64[ns](2), float64(309), int64(26), object(259)\n",
      "memory usage: 8.0+ MB\n"
     ]
    }
   ],
   "source": [
    "DATA = os.path.join(\n",
    "    FINAL_DATA_FOLDER,\n",
    "    'experiment_2',\n",
    "    'data_final.feather'\n",
    ")\n",
    "df = pd.read_feather(DATA)\n",
    "df.info()"
   ]
  },
  {
   "cell_type": "markdown",
   "metadata": {},
   "source": [
    "#### Table 1: Treatment table <a id='treatment'></a>"
   ]
  },
  {
   "cell_type": "code",
   "execution_count": 7,
   "metadata": {},
   "outputs": [
    {
     "data": {
      "text/html": [
       "<div>\n",
       "<style scoped>\n",
       "    .dataframe tbody tr th:only-of-type {\n",
       "        vertical-align: middle;\n",
       "    }\n",
       "\n",
       "    .dataframe tbody tr th {\n",
       "        vertical-align: top;\n",
       "    }\n",
       "\n",
       "    .dataframe thead th {\n",
       "        text-align: right;\n",
       "    }\n",
       "</style>\n",
       "<table border=\"1\" class=\"dataframe\">\n",
       "  <thead>\n",
       "    <tr style=\"text-align: right;\">\n",
       "      <th>Charisma</th>\n",
       "      <th>No</th>\n",
       "      <th>Yes</th>\n",
       "      <th>All</th>\n",
       "    </tr>\n",
       "    <tr>\n",
       "      <th>Goal</th>\n",
       "      <th></th>\n",
       "      <th></th>\n",
       "      <th></th>\n",
       "    </tr>\n",
       "  </thead>\n",
       "  <tbody>\n",
       "    <tr>\n",
       "      <th>No</th>\n",
       "      <td>444</td>\n",
       "      <td>442</td>\n",
       "      <td>886</td>\n",
       "    </tr>\n",
       "    <tr>\n",
       "      <th>Yes</th>\n",
       "      <td>438</td>\n",
       "      <td>444</td>\n",
       "      <td>882</td>\n",
       "    </tr>\n",
       "    <tr>\n",
       "      <th>All</th>\n",
       "      <td>882</td>\n",
       "      <td>886</td>\n",
       "      <td>1768</td>\n",
       "    </tr>\n",
       "  </tbody>\n",
       "</table>\n",
       "</div>"
      ],
      "text/plain": [
       "Charisma   No  Yes   All\n",
       "Goal                    \n",
       "No        444  442   886\n",
       "Yes       438  444   882\n",
       "All       882  886  1768"
      ]
     },
     "execution_count": 7,
     "metadata": {},
     "output_type": "execute_result"
    }
   ],
   "source": [
    "treat_table = pd.crosstab(df['Goal'], df['Charisma'], margins=True)\\\n",
    "    .rename({0: 'No', 1:'Yes'}, axis=0)\\\n",
    "    .rename({0: 'No', 1:'Yes'}, axis=1)\\\n",
    "\n",
    "treat_table.to_latex(\n",
    "    os.path.join(TABLES_FOLDER, 'treat_table.tex'), \n",
    "    bold_rows=True, \n",
    "    float_format=\"%.0f\"\n",
    ")\n",
    "\n",
    "treat_table"
   ]
  },
  {
   "cell_type": "markdown",
   "metadata": {},
   "source": [
    "#### Table 2:  Background characteristics of subjects <a id='balance'></a>"
   ]
  },
  {
   "cell_type": "code",
   "execution_count": 8,
   "metadata": {},
   "outputs": [
    {
     "data": {
      "text/html": [
       "<div>\n",
       "<style scoped>\n",
       "    .dataframe tbody tr th:only-of-type {\n",
       "        vertical-align: middle;\n",
       "    }\n",
       "\n",
       "    .dataframe tbody tr th {\n",
       "        vertical-align: top;\n",
       "    }\n",
       "\n",
       "    .dataframe thead tr th {\n",
       "        text-align: left;\n",
       "    }\n",
       "\n",
       "    .dataframe thead tr:last-of-type th {\n",
       "        text-align: right;\n",
       "    }\n",
       "</style>\n",
       "<table border=\"1\" class=\"dataframe\">\n",
       "  <thead>\n",
       "    <tr>\n",
       "      <th></th>\n",
       "      <th colspan=\"2\" halign=\"left\">Age</th>\n",
       "      <th colspan=\"2\" halign=\"left\">Education</th>\n",
       "      <th colspan=\"2\" halign=\"left\">Female</th>\n",
       "      <th colspan=\"2\" halign=\"left\">Mobile device</th>\n",
       "      <th>N</th>\n",
       "    </tr>\n",
       "    <tr>\n",
       "      <th></th>\n",
       "      <th>Mean</th>\n",
       "      <th>Se</th>\n",
       "      <th>Mean</th>\n",
       "      <th>Se</th>\n",
       "      <th>Mean</th>\n",
       "      <th>Se</th>\n",
       "      <th>Mean</th>\n",
       "      <th>Se</th>\n",
       "      <th></th>\n",
       "    </tr>\n",
       "    <tr>\n",
       "      <th>Treatment</th>\n",
       "      <th></th>\n",
       "      <th></th>\n",
       "      <th></th>\n",
       "      <th></th>\n",
       "      <th></th>\n",
       "      <th></th>\n",
       "      <th></th>\n",
       "      <th></th>\n",
       "      <th></th>\n",
       "    </tr>\n",
       "  </thead>\n",
       "  <tbody>\n",
       "    <tr>\n",
       "      <th>Neutral</th>\n",
       "      <td>37.286</td>\n",
       "      <td>0.536</td>\n",
       "      <td>4.574</td>\n",
       "      <td>0.062</td>\n",
       "      <td>0.507</td>\n",
       "      <td>0.024</td>\n",
       "      <td>0.034</td>\n",
       "      <td>0.009</td>\n",
       "      <td>444</td>\n",
       "    </tr>\n",
       "    <tr>\n",
       "      <th>Charisma without goal</th>\n",
       "      <td>37.692</td>\n",
       "      <td>0.545</td>\n",
       "      <td>4.416</td>\n",
       "      <td>0.062</td>\n",
       "      <td>0.475</td>\n",
       "      <td>0.024</td>\n",
       "      <td>0.029</td>\n",
       "      <td>0.008</td>\n",
       "      <td>442</td>\n",
       "    </tr>\n",
       "    <tr>\n",
       "      <th>Goal</th>\n",
       "      <td>37.758</td>\n",
       "      <td>0.551</td>\n",
       "      <td>4.447</td>\n",
       "      <td>0.061</td>\n",
       "      <td>0.457</td>\n",
       "      <td>0.024</td>\n",
       "      <td>0.057</td>\n",
       "      <td>0.011</td>\n",
       "      <td>438</td>\n",
       "    </tr>\n",
       "    <tr>\n",
       "      <th>Full charisma</th>\n",
       "      <td>37.876</td>\n",
       "      <td>0.546</td>\n",
       "      <td>4.518</td>\n",
       "      <td>0.062</td>\n",
       "      <td>0.450</td>\n",
       "      <td>0.024</td>\n",
       "      <td>0.034</td>\n",
       "      <td>0.009</td>\n",
       "      <td>444</td>\n",
       "    </tr>\n",
       "    <tr>\n",
       "      <th>All</th>\n",
       "      <td>37.653</td>\n",
       "      <td>0.272</td>\n",
       "      <td>4.489</td>\n",
       "      <td>0.031</td>\n",
       "      <td>0.472</td>\n",
       "      <td>0.012</td>\n",
       "      <td>0.038</td>\n",
       "      <td>0.005</td>\n",
       "      <td>1768</td>\n",
       "    </tr>\n",
       "  </tbody>\n",
       "</table>\n",
       "</div>"
      ],
      "text/plain": [
       "                          Age        Education        Female        Mobile device            N\n",
       "                         Mean     Se      Mean     Se   Mean     Se          Mean     Se      \n",
       "Treatment                                                                                     \n",
       "Neutral                37.286  0.536     4.574  0.062  0.507  0.024         0.034  0.009   444\n",
       "Charisma without goal  37.692  0.545     4.416  0.062  0.475  0.024         0.029  0.008   442\n",
       "Goal                   37.758  0.551     4.447  0.061  0.457  0.024         0.057  0.011   438\n",
       "Full charisma          37.876  0.546     4.518  0.062  0.450  0.024         0.034  0.009   444\n",
       "All                    37.653  0.272     4.489  0.031  0.472  0.012         0.038  0.005  1768"
      ]
     },
     "execution_count": 8,
     "metadata": {},
     "output_type": "execute_result"
    }
   ],
   "source": [
    "treat_index = ['Neutral', 'Charisma without goal', 'Goal', 'Full charisma']\n",
    "covariates = ['Age', 'Female', 'Education', 'Mobile_device']\n",
    "\n",
    "balance = pd.pivot_table(\n",
    "    df,\n",
    "    index='Treatment_str' ,\n",
    "    aggfunc=['mean', 'sem'],\n",
    "    values=covariates,\n",
    "    margins=True\n",
    "    )\\\n",
    "    .rename({'mean':'Mean', 'sem':'Se'}, level=0, axis=1)\\\n",
    "    .rename(lambda x: x.replace('_', ' '), level=1, axis=1)\\\n",
    "    .rename_axis('Treatment')\\\n",
    "    .swaplevel(axis=1)\\\n",
    "    .sort_index(axis=1, level=0)\\\n",
    "    .reindex(treat_index + ['All'])\n",
    "\n",
    "obs = df.groupby('Treatment_str').size()\n",
    "obs['All'] = df.groupby('Treatment_str').size().sum()\n",
    "balance.loc[:, 'N'] = obs\n",
    "\n",
    "path = os.path.join(TABLES_FOLDER, 'experiment_2', 'balance_table.tex')\n",
    "\n",
    "balance.to_latex(\n",
    "    path,\n",
    "    bold_rows=True,\n",
    "    float_format=\"%.2f\"\n",
    ")\n",
    "\n",
    "balance"
   ]
  },
  {
   "cell_type": "markdown",
   "metadata": {},
   "source": [
    "#### Check covariate balance using OLS<a id='balance_ols'></a>"
   ]
  },
  {
   "cell_type": "code",
   "execution_count": 9,
   "metadata": {},
   "outputs": [
    {
     "data": {
      "text/html": [
       "<div>\n",
       "<style scoped>\n",
       "    .dataframe tbody tr th:only-of-type {\n",
       "        vertical-align: middle;\n",
       "    }\n",
       "\n",
       "    .dataframe tbody tr th {\n",
       "        vertical-align: top;\n",
       "    }\n",
       "\n",
       "    .dataframe thead th {\n",
       "        text-align: right;\n",
       "    }\n",
       "</style>\n",
       "<table border=\"1\" class=\"dataframe\">\n",
       "  <thead>\n",
       "    <tr style=\"text-align: right;\">\n",
       "      <th>Dependent variable:</th>\n",
       "      <th>Age</th>\n",
       "      <th>Female</th>\n",
       "      <th>Education</th>\n",
       "      <th>Mobile device</th>\n",
       "    </tr>\n",
       "  </thead>\n",
       "  <tbody>\n",
       "    <tr>\n",
       "      <th>Constant</th>\n",
       "      <td>37.286***</td>\n",
       "      <td>0.507***</td>\n",
       "      <td>4.574***</td>\n",
       "      <td>0.034***</td>\n",
       "    </tr>\n",
       "    <tr>\n",
       "      <th></th>\n",
       "      <td>(0.536)</td>\n",
       "      <td>(0.024)</td>\n",
       "      <td>(0.062)</td>\n",
       "      <td>(0.009)</td>\n",
       "    </tr>\n",
       "    <tr>\n",
       "      <th>Charisma without Goal</th>\n",
       "      <td>0.406</td>\n",
       "      <td>-0.032</td>\n",
       "      <td>-0.158*</td>\n",
       "      <td>-0.004</td>\n",
       "    </tr>\n",
       "    <tr>\n",
       "      <th></th>\n",
       "      <td>(0.765)</td>\n",
       "      <td>(0.034)</td>\n",
       "      <td>(0.088)</td>\n",
       "      <td>(0.012)</td>\n",
       "    </tr>\n",
       "    <tr>\n",
       "      <th>Goal</th>\n",
       "      <td>0.472</td>\n",
       "      <td>-0.050</td>\n",
       "      <td>-0.127</td>\n",
       "      <td>0.023*</td>\n",
       "    </tr>\n",
       "    <tr>\n",
       "      <th></th>\n",
       "      <td>(0.769)</td>\n",
       "      <td>(0.034)</td>\n",
       "      <td>(0.087)</td>\n",
       "      <td>(0.014)</td>\n",
       "    </tr>\n",
       "    <tr>\n",
       "      <th>Full charisma</th>\n",
       "      <td>0.590</td>\n",
       "      <td>-0.056*</td>\n",
       "      <td>-0.056</td>\n",
       "      <td>0.000</td>\n",
       "    </tr>\n",
       "    <tr>\n",
       "      <th></th>\n",
       "      <td>(0.765)</td>\n",
       "      <td>(0.034)</td>\n",
       "      <td>(0.088)</td>\n",
       "      <td>(0.012)</td>\n",
       "    </tr>\n",
       "    <tr>\n",
       "      <th>R-squared</th>\n",
       "      <td>0.000</td>\n",
       "      <td>0.002</td>\n",
       "      <td>0.002</td>\n",
       "      <td>0.003</td>\n",
       "    </tr>\n",
       "    <tr>\n",
       "      <th>R-squared Adj.</th>\n",
       "      <td>-0.001</td>\n",
       "      <td>0.000</td>\n",
       "      <td>0.001</td>\n",
       "      <td>0.001</td>\n",
       "    </tr>\n",
       "    <tr>\n",
       "      <th>N</th>\n",
       "      <td>1768</td>\n",
       "      <td>1768</td>\n",
       "      <td>1768</td>\n",
       "      <td>1768</td>\n",
       "    </tr>\n",
       "    <tr>\n",
       "      <th>F</th>\n",
       "      <td>0.225</td>\n",
       "      <td>1.135</td>\n",
       "      <td>1.318</td>\n",
       "      <td>1.470</td>\n",
       "    </tr>\n",
       "    <tr>\n",
       "      <th>P(&gt;F)</th>\n",
       "      <td>0.88</td>\n",
       "      <td>0.33</td>\n",
       "      <td>0.27</td>\n",
       "      <td>0.22</td>\n",
       "    </tr>\n",
       "  </tbody>\n",
       "</table>\n",
       "</div>"
      ],
      "text/plain": [
       "Dependent variable:          Age    Female Education Mobile device\n",
       "Constant               37.286***  0.507***  4.574***      0.034***\n",
       "                         (0.536)   (0.024)   (0.062)       (0.009)\n",
       "Charisma without Goal      0.406    -0.032   -0.158*        -0.004\n",
       "                         (0.765)   (0.034)   (0.088)       (0.012)\n",
       "Goal                       0.472    -0.050    -0.127        0.023*\n",
       "                         (0.769)   (0.034)   (0.087)       (0.014)\n",
       "Full charisma              0.590   -0.056*    -0.056         0.000\n",
       "                         (0.765)   (0.034)   (0.088)       (0.012)\n",
       "R-squared                  0.000     0.002     0.002         0.003\n",
       "R-squared Adj.            -0.001     0.000     0.001         0.001\n",
       "N                           1768      1768      1768          1768\n",
       "F                          0.225     1.135     1.318         1.470\n",
       "P(>F)                       0.88      0.33      0.27          0.22"
      ]
     },
     "execution_count": 9,
     "metadata": {},
     "output_type": "execute_result"
    }
   ],
   "source": [
    "ols_results = [\n",
    "    smf.ols(formula=f'{variable} ~ C(Treatment)', data=df).fit(cov_type='HC1')\n",
    "    for variable in covariates\n",
    "]\n",
    "\n",
    "auxiliary = {\n",
    "    'N': lambda x: f'{x.nobs:.0f}',\n",
    "    'F': lambda x: f'{x.fvalue:.3f}', \n",
    "    'P(>F)': lambda x: f'{x.f_pvalue:.2f}',\n",
    "}\n",
    "\n",
    "ols_balance = summary_col(\n",
    "    ols_results,\n",
    "    stars=True,\n",
    "    info_dict=auxiliary,\n",
    "    float_format='%.3f'\n",
    ")\n",
    "\n",
    "label_index = {\n",
    "    'Intercept':'Constant', \n",
    "    '2':'Charisma without Goal',   \n",
    "    '3':'Goal', \n",
    "    '4':'Full charisma'\n",
    "}\n",
    "\n",
    "ols_balance = ols_balance.tables[0]\\\n",
    "    .rename(mapper=lambda x: x.replace('C(Treatment)[T.', '').replace(']', ''), axis=0)\\\n",
    "    .rename(mapper=lambda x: x.replace('_',' '), axis=1)\\\n",
    "    .rename(label_index, axis=0)\\\n",
    "    .rename_axis('Dependent variable:', axis=1)\n",
    "\n",
    "path = os.path.join(TABLES_FOLDER, 'experiment_2', 'ols_balance.tex')\n",
    "ols_balance.to_latex(\n",
    "    path,\n",
    "    bold_rows=False,\n",
    "    float_format=\"%.3f\"\n",
    ")\n",
    "\n",
    "ols_balance"
   ]
  },
  {
   "cell_type": "markdown",
   "metadata": {},
   "source": [
    "#### Convert to html"
   ]
  },
  {
   "cell_type": "code",
   "execution_count": 10,
   "metadata": {},
   "outputs": [
    {
     "name": "stdout",
     "output_type": "stream",
     "text": [
      "[NbConvertApp] Converting notebook 2_balance_and_sample.ipynb to html\n",
      "[NbConvertApp] Writing 604633 bytes to docs/2_balance_and_sample.html\n"
     ]
    }
   ],
   "source": [
    "!jupyter nbconvert --output-dir='./docs' --to html 2_balance_and_sample.ipynb"
   ]
  }
 ],
 "metadata": {
  "hide_input": false,
  "kernelspec": {
   "display_name": "Python 3",
   "language": "python",
   "name": "python3"
  },
  "language_info": {
   "codemirror_mode": {
    "name": "ipython",
    "version": 3
   },
   "file_extension": ".py",
   "mimetype": "text/x-python",
   "name": "python",
   "nbconvert_exporter": "python",
   "pygments_lexer": "ipython3",
   "version": "3.8.10"
  }
 },
 "nbformat": 4,
 "nbformat_minor": 2
}
