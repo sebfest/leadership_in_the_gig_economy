{
 "cells": [
  {
   "cell_type": "markdown",
   "metadata": {},
   "source": [
    "## List of tables:\n",
    "### 1. [Table S1: Quality-quantity trade-off](#ols_quantity_quality)\n",
    "### 2. [Table 10: Instrumental variable estimation](#iv)\n",
    "## List of figures:\n",
    "### 1. [Figure 7: Scatterplot quality vs. quantity](#scatter_quantity_quality)"
   ]
  },
  {
   "cell_type": "markdown",
   "metadata": {},
   "source": [
    "#### Imports libraries"
   ]
  },
  {
   "cell_type": "code",
   "execution_count": 1,
   "metadata": {},
   "outputs": [],
   "source": [
    "import matplotlib.pyplot as plt  # Plotting\n",
    "import numpy as np  # Matrix algebra\n",
    "import os  # File system handling\n",
    "import pandas as pd  # Dataframe handling\n",
    "import statsmodels.api as sm  # Regression analysis\n",
    "import statsmodels.formula.api as smf  # Regressions analysis\n",
    "\n",
    "from linearmodels.iv import IV2SLS, IVGMM\n",
    "from linearmodels.iv.results import IVModelComparison \n",
    "from matplotlib.ticker import FuncFormatter  #Formating graphs\n",
    "from scipy import stats\n",
    "from statsmodels.iolib.summary2 import summary_col  # Regression output table\n",
    "from statsmodels.stats.diagnostic import het_breuschpagan # Test for heteroscedasticity"
   ]
  },
  {
   "cell_type": "markdown",
   "metadata": {},
   "source": [
    "#### Set project directory"
   ]
  },
  {
   "cell_type": "code",
   "execution_count": 2,
   "metadata": {},
   "outputs": [],
   "source": [
    "PROJECT_FOLDER = os.path.dirname(os.path.dirname(os.getcwd()))\n",
    "FINAL_DATA_FOLDER = os.path.join(PROJECT_FOLDER, 'data', 'final')\n",
    "TABLES_FOLDER = os.path.join(PROJECT_FOLDER, 'reports', 'tables')\n",
    "FIGURES_FOLDER = os.path.join(PROJECT_FOLDER, 'reports', 'figures')"
   ]
  },
  {
   "cell_type": "markdown",
   "metadata": {},
   "source": [
    "#### Set display format"
   ]
  },
  {
   "cell_type": "code",
   "execution_count": 3,
   "metadata": {},
   "outputs": [],
   "source": [
    "pd.set_option(\"display.precision\", 3)\n",
    "pd.set_option(\"display.expand_frame_repr\", False)\n",
    "pd.set_option(\"display.max_rows\", 40)"
   ]
  },
  {
   "cell_type": "markdown",
   "metadata": {},
   "source": [
    "#### Set plotting style"
   ]
  },
  {
   "cell_type": "code",
   "execution_count": 4,
   "metadata": {},
   "outputs": [],
   "source": [
    "plt.style.use('classic')"
   ]
  },
  {
   "cell_type": "markdown",
   "metadata": {},
   "source": [
    "#### Set plotting properties "
   ]
  },
  {
   "cell_type": "code",
   "execution_count": 5,
   "metadata": {},
   "outputs": [],
   "source": [
    "bar_kw = dict(kind='bar', color='0.4', alpha=0.8, lw=0.5, width=0.7)\n",
    "line_kw = dict(kind='line', lw=1, alpha=1, legend=True)\n",
    "font_kw = dict(fontsize=11, color='k')\n",
    "grid_kw = dict(linewidth=1, axis=\"y\", zorder=2, antialiased=True)\n",
    "x_lab_kw = dict(fontsize=11, labelpad=3)\n",
    "y_lab_kw = dict(fontsize=11, labelpad=3)\n",
    "error_kw = dict(elinewidth=2, ecolor='0.15')\n",
    "legend_kw = dict(frameon=False)\n",
    "tick_kw = dict(\n",
    "    size=5,\n",
    "    which='both',\n",
    "    direction='out',\n",
    "    right=False,\n",
    "    top=False,\n",
    "    labelbottom=True\n",
    ")"
   ]
  },
  {
   "cell_type": "markdown",
   "metadata": {},
   "source": [
    "#### Retrieving dataframe"
   ]
  },
  {
   "cell_type": "code",
   "execution_count": 6,
   "metadata": {},
   "outputs": [
    {
     "name": "stdout",
     "output_type": "stream",
     "text": [
      "<class 'pandas.core.frame.DataFrame'>\n",
      "RangeIndex: 1768 entries, 0 to 1767\n",
      "Columns: 596 entries, Age to Q110_timer\n",
      "dtypes: datetime64[ns](2), float64(309), int64(26), object(259)\n",
      "memory usage: 8.0+ MB\n"
     ]
    }
   ],
   "source": [
    "DATA = os.path.join(\n",
    "    FINAL_DATA_FOLDER, \n",
    "    'experiment_2',                \n",
    "    'data_final.feather'\n",
    ")\n",
    "\n",
    "df = pd.read_feather(DATA)\n",
    "df.info()"
   ]
  },
  {
   "cell_type": "markdown",
   "metadata": {},
   "source": [
    "#### Define treatment index for ordering"
   ]
  },
  {
   "cell_type": "code",
   "execution_count": 7,
   "metadata": {},
   "outputs": [],
   "source": [
    "treat_index = ['Neutral', 'Charisma without goal', 'Goal', 'Full charisma']"
   ]
  },
  {
   "cell_type": "markdown",
   "metadata": {},
   "source": [
    "#### Reshape dataframe for panel analysis "
   ]
  },
  {
   "cell_type": "code",
   "execution_count": 8,
   "metadata": {},
   "outputs": [
    {
     "name": "stdout",
     "output_type": "stream",
     "text": [
      "<class 'pandas.core.frame.DataFrame'>\n",
      "RangeIndex: 1768 entries, 0 to 1767\n",
      "Columns: 596 entries, Age to Q110_timer\n",
      "dtypes: datetime64[ns](2), float64(309), int64(26), object(259)\n",
      "memory usage: 8.0+ MB\n"
     ]
    }
   ],
   "source": [
    "columns_to_keep = df.columns[[0, 1, 10, 13, 17, 22, 23, 27, 31, 45]]\n",
    "columns_to_melt = [f'Q{x}_editratio' for x in range(1, df['Counter'].max() + 1)]\n",
    "\n",
    "df_melted = pd.melt(\n",
    "    df, \n",
    "    id_vars=columns_to_keep,\n",
    "    value_vars=columns_to_melt,\n",
    "    var_name='Question_number',\n",
    "    value_name='Edit_ratio'\n",
    ")\n",
    "\n",
    "df_melted = df_melted.dropna(axis=0, how='any', subset=['Edit_ratio'])\n",
    "df_melted['Question_number'] = df_melted['Question_number'].str.extract(r'(\\d+)').astype(int)\n",
    "\n",
    "df_panel = df_melted.set_index(['Id', 'Question_number'])\n",
    "df_panel = df_panel.sort_index()\n",
    "df.info()"
   ]
  },
  {
   "cell_type": "markdown",
   "metadata": {},
   "source": [
    "#### Calculate the time averaged error score and merge resuts with cross-sectional dataframe"
   ]
  },
  {
   "cell_type": "code",
   "execution_count": 9,
   "metadata": {},
   "outputs": [],
   "source": [
    "avg_edit_ratio = df_panel['Edit_ratio'].mean(level=0).to_frame(name='Avg_edit_ratio')\n",
    "df = df.merge(avg_edit_ratio, left_on='Id', right_on='Id', validate='one_to_one')"
   ]
  },
  {
   "cell_type": "markdown",
   "metadata": {},
   "source": [
    "#### Generate relative counter variable (competion rate)"
   ]
  },
  {
   "cell_type": "code",
   "execution_count": 10,
   "metadata": {},
   "outputs": [],
   "source": [
    "df['Rel_counter'] =  df['Counter_real'] / 110.0"
   ]
  },
  {
   "cell_type": "markdown",
   "metadata": {},
   "source": [
    "#### Figure 7: Scatterplots for number of fragments submitted vs. mean error rate  <a id='scatter_quantity_quality'></a>"
   ]
  },
  {
   "cell_type": "code",
   "execution_count": 11,
   "metadata": {
    "scrolled": false
   },
   "outputs": [
    {
     "data": {
      "image/png": "[encoded data removed]",
      "text/plain": [
       "<Figure size 900x900 with 4 Axes>"
      ]
     },
     "metadata": {},
     "output_type": "display_data"
    }
   ],
   "source": [
    "def get_fitted_values(df, x, y):\n",
    "    y = df.loc[:,y]\n",
    "    x = df.loc[:,x]\n",
    "    x = sm.add_constant(x)\n",
    "    ols = sm.OLS(y, x).fit()\n",
    "    return ols.fittedvalues\n",
    "\n",
    "x_var, y_var = 'Rel_counter', 'Avg_edit_ratio'\n",
    "scatter_params = dict(xlim=[0, 0.7], ylim=[0, 0.16], color='0.1', alpha=0.5)\n",
    "\n",
    "fig, _ = plt.subplots(2, 2, figsize=(9, 9), dpi=100, facecolor='w')\n",
    "fig.subplots_adjust(hspace=0.3, wspace=0.3)\n",
    "for i, ax in enumerate(fig.axes):\n",
    "    df_scatter = df[df['Treatment_str'] == treat_index[i]]\n",
    "    df_scatter.plot.scatter(x=x_var, y=y_var, ax=ax, **scatter_params)\n",
    "    ax.plot(df_scatter[x_var], get_fitted_values(df_scatter, x_var, y_var), c='0', lw=2)\n",
    "    ax.set_title(treat_index[i], **font_kw)\n",
    "    ax.tick_params(labelsize='small', **tick_kw)\n",
    "    ax.xaxis.set_major_formatter(FuncFormatter(lambda y, _: f'{y:.0%}'))\n",
    "    ax.yaxis.set_major_formatter(FuncFormatter(lambda y, _: f'{y:.0%}'))\n",
    "    ax.set_xlabel(\"Share number submitted fragments\", fontsize='small', labelpad=3)\n",
    "    ax.set_ylabel(\"Average error rate\", fontsize='small', labelpad=3)         \n",
    "    r, p = stats.pearsonr(df_scatter[x_var], df_scatter[y_var]) \n",
    "    ax.text(0.37, 0.15 , f'$r={r:.3f}\\:({p:.3f})$')      \n",
    "    \n",
    "path = os.path.join(FIGURES_FOLDER, 'experiment_2', 'corr_count_edit2.pdf')    \n",
    "fig.savefig(path, bbox_inches='tight')"
   ]
  },
  {
   "cell_type": "markdown",
   "metadata": {},
   "source": [
    "#### Table S1: Estimate slope and intercepts for quality quantity relationship across treatments <a id='ols_quantity_quality'></a>"
   ]
  },
  {
   "cell_type": "code",
   "execution_count": 12,
   "metadata": {
    "scrolled": false
   },
   "outputs": [
    {
     "data": {
      "text/html": [
       "<div>\n",
       "<style scoped>\n",
       "    .dataframe tbody tr th:only-of-type {\n",
       "        vertical-align: middle;\n",
       "    }\n",
       "\n",
       "    .dataframe tbody tr th {\n",
       "        vertical-align: top;\n",
       "    }\n",
       "\n",
       "    .dataframe thead th {\n",
       "        text-align: right;\n",
       "    }\n",
       "</style>\n",
       "<table border=\"1\" class=\"dataframe\">\n",
       "  <thead>\n",
       "    <tr style=\"text-align: right;\">\n",
       "      <th>Dependent variable</th>\n",
       "      <th>Avg edit ratio</th>\n",
       "      <th>Avg edit ratio</th>\n",
       "      <th>Avg edit ratio</th>\n",
       "      <th>Avg edit ratio</th>\n",
       "    </tr>\n",
       "  </thead>\n",
       "  <tbody>\n",
       "    <tr>\n",
       "      <th>Rel_counter</th>\n",
       "      <td>-0.092***</td>\n",
       "      <td>-0.093***</td>\n",
       "      <td>-0.100***</td>\n",
       "      <td>-0.121***</td>\n",
       "    </tr>\n",
       "    <tr>\n",
       "      <th></th>\n",
       "      <td>(0.010)</td>\n",
       "      <td>(0.010)</td>\n",
       "      <td>(0.010)</td>\n",
       "      <td>(0.031)</td>\n",
       "    </tr>\n",
       "    <tr>\n",
       "      <th>Constant</th>\n",
       "      <td>0.046***</td>\n",
       "      <td>0.045***</td>\n",
       "      <td>0.046***</td>\n",
       "      <td>0.052***</td>\n",
       "    </tr>\n",
       "    <tr>\n",
       "      <th></th>\n",
       "      <td>(0.003)</td>\n",
       "      <td>(0.004)</td>\n",
       "      <td>(0.003)</td>\n",
       "      <td>(0.010)</td>\n",
       "    </tr>\n",
       "    <tr>\n",
       "      <th>R-squared</th>\n",
       "      <td>0.094</td>\n",
       "      <td>0.094</td>\n",
       "      <td>0.095</td>\n",
       "      <td>0.098</td>\n",
       "    </tr>\n",
       "    <tr>\n",
       "      <th>R-squared Adj.</th>\n",
       "      <td>0.094</td>\n",
       "      <td>0.092</td>\n",
       "      <td>0.093</td>\n",
       "      <td>0.094</td>\n",
       "    </tr>\n",
       "    <tr>\n",
       "      <th>N</th>\n",
       "      <td>1768</td>\n",
       "      <td>1768</td>\n",
       "      <td>1768</td>\n",
       "      <td>1768</td>\n",
       "    </tr>\n",
       "    <tr>\n",
       "      <th>F</th>\n",
       "      <td>86.563</td>\n",
       "      <td>28.988</td>\n",
       "      <td>23.942</td>\n",
       "      <td>17.972</td>\n",
       "    </tr>\n",
       "    <tr>\n",
       "      <th>P(&gt;F)</th>\n",
       "      <td>0.000</td>\n",
       "      <td>0.000</td>\n",
       "      <td>0.000</td>\n",
       "      <td>0.000</td>\n",
       "    </tr>\n",
       "    <tr>\n",
       "      <th>Intercepts</th>\n",
       "      <td>No</td>\n",
       "      <td>Yes</td>\n",
       "      <td>No</td>\n",
       "      <td>Yes</td>\n",
       "    </tr>\n",
       "    <tr>\n",
       "      <th>Slopes</th>\n",
       "      <td>No</td>\n",
       "      <td>No</td>\n",
       "      <td>Yes</td>\n",
       "      <td>Yes</td>\n",
       "    </tr>\n",
       "  </tbody>\n",
       "</table>\n",
       "</div>"
      ],
      "text/plain": [
       "Dependent variable Avg edit ratio Avg edit ratio Avg edit ratio Avg edit ratio\n",
       "Rel_counter             -0.092***      -0.093***      -0.100***      -0.121***\n",
       "                          (0.010)        (0.010)        (0.010)        (0.031)\n",
       "Constant                 0.046***       0.045***       0.046***       0.052***\n",
       "                          (0.003)        (0.004)        (0.003)        (0.010)\n",
       "R-squared                   0.094          0.094          0.095          0.098\n",
       "R-squared Adj.              0.094          0.092          0.093          0.094\n",
       "N                            1768           1768           1768           1768\n",
       "F                          86.563         28.988         23.942         17.972\n",
       "P(>F)                       0.000          0.000          0.000          0.000\n",
       "Intercepts                     No            Yes             No            Yes\n",
       "Slopes                         No             No            Yes            Yes"
      ]
     },
     "metadata": {},
     "output_type": "display_data"
    }
   ],
   "source": [
    "regs = {}\n",
    "regs['re0'] = 'Avg_edit_ratio ~ Rel_counter'\n",
    "regs['re1'] = 'Avg_edit_ratio ~ Rel_counter + C(Treatment_str)'\n",
    "regs['re2'] = 'Avg_edit_ratio ~ Rel_counter + Rel_counter:C(Treatment_str)'\n",
    "regs['re3'] = 'Avg_edit_ratio ~ Rel_counter * C(Treatment_str)'\n",
    "\n",
    "ols_results = [smf.ols(formula=v, data=df).fit(cov_type='HC1') for v in regs.values()]\n",
    "\n",
    "order = [\n",
    "    'Rel_counter',\n",
    "    'Intercept', \n",
    "]\n",
    "\n",
    "auxiliary = {\n",
    "    'N': lambda x: f'{x.nobs:.0f}',\n",
    "    'F': lambda x: f'{x.fvalue:.3f}', \n",
    "    'P(>F)': lambda x: f'{x.f_pvalue:.3f}',\n",
    "}\n",
    "\n",
    "ols_qual_quan = summary_col(\n",
    "    ols_results,\n",
    "    stars=True,\n",
    "    info_dict=auxiliary,\n",
    "    float_format='%.3f',\n",
    "    regressor_order=order,\n",
    "    drop_omitted=True\n",
    ")\n",
    "\n",
    "ols_qual_quan = ols_qual_quan\\\n",
    "    .tables[0]\\\n",
    "    .rename(mapper=lambda x: x.replace(']', ''), axis=0)\\\n",
    "    .rename(mapper=lambda x: x.split()[0].replace('_',' '), axis=1)\\\n",
    "    .rename({'Intercept':'Constant'})\\\n",
    "    .rename_axis('Dependent variable:', axis=1)\n",
    "\n",
    "path = os.path.join(TABLES_FOLDER, 'experiment_2', 'ols_quality_quantity.tex')\n",
    "ols_qual_quan.to_latex(\n",
    "    path,\n",
    "    bold_rows=False,\n",
    "    float_format=\"%.3f\"\n",
    ")\n",
    "\n",
    "ols_qual_quan.loc['Intercepts'] = pd.Series(['No', 'Yes', 'No', 'Yes'], index=ols_qual_quan.columns)\n",
    "ols_qual_quan.loc['Slopes'] = pd.Series(['No', 'No', 'Yes', 'Yes'], index=ols_qual_quan.columns)\n",
    "\n",
    "\n",
    "display(ols_qual_quan)"
   ]
  },
  {
   "cell_type": "markdown",
   "metadata": {},
   "source": [
    "#### Table 10: Instrumental variable estimation <a id=iv></a>"
   ]
  },
  {
   "cell_type": "code",
   "execution_count": 13,
   "metadata": {},
   "outputs": [
    {
     "data": {
      "text/html": [
       "<table class=\"simpletable\">\n",
       "<caption>Model Comparison</caption>\n",
       "<tr>\n",
       "            <td></td>                   <th>OLS</th>               <th>2SLS</th>       \n",
       "</tr>\n",
       "<tr>\n",
       "  <th>Dep. Variable</th>          <td>Avg_edit_ratio</td>     <td>Avg_edit_ratio</td>  \n",
       "</tr>\n",
       "<tr>\n",
       "  <th>Estimator</th>                    <td>OLS</td>              <td>IV-2SLS</td>     \n",
       "</tr>\n",
       "<tr>\n",
       "  <th>No. Observations</th>            <td>1768</td>               <td>1768</td>       \n",
       "</tr>\n",
       "<tr>\n",
       "  <th>Cov. Est.</th>                  <td>robust</td>             <td>robust</td>      \n",
       "</tr>\n",
       "<tr>\n",
       "  <th>R-squared</th>                  <td>0.1260</td>             <td>0.1226</td>      \n",
       "</tr>\n",
       "<tr>\n",
       "  <th>Adj. R-squared</th>             <td>0.1231</td>             <td>0.1196</td>      \n",
       "</tr>\n",
       "<tr>\n",
       "  <th>F-statistic</th>                <td>109.10</td>             <td>52.424</td>      \n",
       "</tr>\n",
       "<tr>\n",
       "  <th>P-value (F-stat)</th>           <td>0.0000</td>            <td>1.532e-09</td>    \n",
       "</tr>\n",
       "<tr>\n",
       "  <th>==================</th>    <td>================</td>   <td>================</td> \n",
       "</tr>\n",
       "<tr>\n",
       "  <th>Intercept</th>                 <td>0.0465***</td>          <td>0.0407**</td>     \n",
       "</tr>\n",
       "<tr>\n",
       "  <th> </th>                         <td>(0.0048)</td>           <td>(0.0183)</td>     \n",
       "</tr>\n",
       "<tr>\n",
       "  <th>Rel_counter</th>              <td>-0.0890***</td>           <td>-0.0705</td>     \n",
       "</tr>\n",
       "<tr>\n",
       "  <th> </th>                         <td>(0.0101)</td>           <td>(0.0570)</td>     \n",
       "</tr>\n",
       "<tr>\n",
       "  <th>Age</th>                      <td>-0.0002***</td>           <td>-0.0002</td>     \n",
       "</tr>\n",
       "<tr>\n",
       "  <th> </th>                        <td>(7.859e-05)</td>         <td>(0.0001)</td>     \n",
       "</tr>\n",
       "<tr>\n",
       "  <th>Female</th>                   <td>-0.0041***</td>         <td>-0.0044***</td>    \n",
       "</tr>\n",
       "<tr>\n",
       "  <th> </th>                         <td>(0.0015)</td>           <td>(0.0017)</td>     \n",
       "</tr>\n",
       "<tr>\n",
       "  <th>Diverse</th>                    <td>-0.0015</td>            <td>-0.0022</td>     \n",
       "</tr>\n",
       "<tr>\n",
       "  <th> </th>                         <td>(0.0036)</td>           <td>(0.0039)</td>     \n",
       "</tr>\n",
       "<tr>\n",
       "  <th>Education</th>                 <td>0.0018***</td>          <td>0.0017***</td>    \n",
       "</tr>\n",
       "<tr>\n",
       "  <th> </th>                         <td>(0.0004)</td>           <td>(0.0005)</td>     \n",
       "</tr>\n",
       "<tr>\n",
       "  <th>Mobile_device</th>              <td>0.0199*</td>            <td>0.0222*</td>     \n",
       "</tr>\n",
       "<tr>\n",
       "  <th> </th>                         <td>(0.0102)</td>           <td>(0.0121)</td>     \n",
       "</tr>\n",
       "<tr>\n",
       "  <th>====================</th> <td>==================</td> <td>==================</td>\n",
       "</tr>\n",
       "<tr>\n",
       "  <th>Instruments</th>                   <td></td>               <td>Charisma</td>     \n",
       "</tr>\n",
       "<tr>\n",
       "  <th></th>                              <td></td>                 <td>Goal</td>       \n",
       "</tr>\n",
       "<tr>\n",
       "  <th></th>                              <td></td>             <td>Charisma:Goal</td>  \n",
       "</tr>\n",
       "</table><br/><br/>Std. Errors reported in parentheses<br/>id: 0x7fb07f6784f0"
      ],
      "text/plain": [
       "                     Model Comparison                     \n",
       "==========================================================\n",
       "                                    OLS               2SLS\n",
       "----------------------------------------------------------\n",
       "Dep. Variable            Avg_edit_ratio     Avg_edit_ratio\n",
       "Estimator                           OLS            IV-2SLS\n",
       "No. Observations                   1768               1768\n",
       "Cov. Est.                        robust             robust\n",
       "R-squared                        0.1260             0.1226\n",
       "Adj. R-squared                   0.1231             0.1196\n",
       "F-statistic                      109.10             52.424\n",
       "P-value (F-stat)                 0.0000          1.532e-09\n",
       "==================     ================   ================\n",
       "Intercept                     0.0465***           0.0407**\n",
       "                               (0.0048)           (0.0183)\n",
       "Rel_counter                  -0.0890***            -0.0705\n",
       "                               (0.0101)           (0.0570)\n",
       "Age                          -0.0002***            -0.0002\n",
       "                            (7.859e-05)           (0.0001)\n",
       "Female                       -0.0041***         -0.0044***\n",
       "                               (0.0015)           (0.0017)\n",
       "Diverse                         -0.0015            -0.0022\n",
       "                               (0.0036)           (0.0039)\n",
       "Education                     0.0018***          0.0017***\n",
       "                               (0.0004)           (0.0005)\n",
       "Mobile_device                   0.0199*            0.0222*\n",
       "                               (0.0102)           (0.0121)\n",
       "==================== ================== ==================\n",
       "Instruments                                       Charisma\n",
       "                                                      Goal\n",
       "                                             Charisma:Goal\n",
       "----------------------------------------------------------\n",
       "\n",
       "Std. Errors reported in parentheses\n",
       "IVModelComparison, id: 0x7fb07f6784f0"
      ]
     },
     "metadata": {},
     "output_type": "display_data"
    }
   ],
   "source": [
    "dependent = 'Avg_edit_ratio'\n",
    "endogenous = 'Rel_counter'\n",
    "exogenous = 'Age + Female + Diverse + Education + Mobile_device'\n",
    "first_stage = f'{endogenous} ~ Charisma * Goal'\n",
    "second_stage = f'{dependent} ~ 1 + {exogenous} + [{first_stage}]'\n",
    "\n",
    "res_ols = IV2SLS.from_formula(f'{dependent} ~ 1 + {endogenous} + {exogenous}', df).fit()\n",
    "res_2sls = IV2SLS.from_formula(second_stage, df).fit()\n",
    "\n",
    "results = IVModelComparison({'OLS':res_ols, '2SLS':res_2sls}, precision='std_errors', stars=True)\n",
    "\n",
    "path = os.path.join(\n",
    "    TABLES_FOLDER, \n",
    "    'experiment_2',    \n",
    "    'iv2sls.tex'\n",
    ")\n",
    "\n",
    "with open(path, \"w\") as latex:\n",
    "    latex.write(results.summary.as_latex())\n",
    "\n",
    "display(results)"
   ]
  },
  {
   "cell_type": "markdown",
   "metadata": {},
   "source": [
    "#### Test for heteroscedasticity"
   ]
  },
  {
   "cell_type": "code",
   "execution_count": 14,
   "metadata": {},
   "outputs": [
    {
     "name": "stdout",
     "output_type": "stream",
     "text": [
      "LM=32.547, p=0.000\n",
      "F=5.504, p=0.000\n"
     ]
    }
   ],
   "source": [
    "het_res = het_breuschpagan(res_ols.resids, res_ols.model.exog.pandas)\n",
    "print(f'LM={het_res[0]:.3f}, p={het_res[1]:.3f}\\nF={het_res[2]:.3f}, p={het_res[3]:.3f}')"
   ]
  },
  {
   "cell_type": "markdown",
   "metadata": {},
   "source": [
    "#### First stage diagnostic results for 2SLS"
   ]
  },
  {
   "cell_type": "code",
   "execution_count": 15,
   "metadata": {},
   "outputs": [
    {
     "data": {
      "text/html": [
       "<table class=\"simpletable\">\n",
       "<caption>First Stage Estimation Results</caption>\n",
       "<tr>\n",
       "               <td></td>              <th>Rel_counter</th>\n",
       "</tr>\n",
       "<tr>\n",
       "  <th>R-squared</th>                    <td>0.1031</td>   \n",
       "</tr>\n",
       "<tr>\n",
       "  <th>Partial R-squared</th>            <td>0.0145</td>   \n",
       "</tr>\n",
       "<tr>\n",
       "  <th>Shea's R-squared</th>             <td>0.0145</td>   \n",
       "</tr>\n",
       "<tr>\n",
       "  <th>Partial F-statistic</th>          <td>25.312</td>   \n",
       "</tr>\n",
       "<tr>\n",
       "  <th>P-value (Partial F-stat)</th>    <td>1.329e-05</td> \n",
       "</tr>\n",
       "<tr>\n",
       "  <th>Partial F-stat Distn</th>         <td>chi2(3)</td>  \n",
       "</tr>\n",
       "<tr>\n",
       "  <th>==========================</th> <td>===========</td>\n",
       "</tr>\n",
       "<tr>\n",
       "  <th>Intercept</th>                    <td>0.3107</td>   \n",
       "</tr>\n",
       "<tr>\n",
       "  <th></th>                            <td>(25.736)</td>  \n",
       "</tr>\n",
       "<tr>\n",
       "  <th>Age</th>                          <td>-0.0019</td>  \n",
       "</tr>\n",
       "<tr>\n",
       "  <th></th>                            <td>(-9.3754)</td> \n",
       "</tr>\n",
       "<tr>\n",
       "  <th>Female</th>                       <td>0.0167</td>   \n",
       "</tr>\n",
       "<tr>\n",
       "  <th></th>                            <td>(3.4465)</td>  \n",
       "</tr>\n",
       "<tr>\n",
       "  <th>Diverse</th>                      <td>0.0400</td>   \n",
       "</tr>\n",
       "<tr>\n",
       "  <th></th>                            <td>(1.2603)</td>  \n",
       "</tr>\n",
       "<tr>\n",
       "  <th>Education</th>                    <td>0.0045</td>   \n",
       "</tr>\n",
       "<tr>\n",
       "  <th></th>                            <td>(2.4220)</td>  \n",
       "</tr>\n",
       "<tr>\n",
       "  <th>Mobile_device</th>                <td>-0.1237</td>  \n",
       "</tr>\n",
       "<tr>\n",
       "  <th></th>                            <td>(-14.771)</td> \n",
       "</tr>\n",
       "<tr>\n",
       "  <th>Charisma</th>                     <td>-0.0141</td>  \n",
       "</tr>\n",
       "<tr>\n",
       "  <th></th>                            <td>(-2.1273)</td> \n",
       "</tr>\n",
       "<tr>\n",
       "  <th>Goal</th>                         <td>0.0027</td>   \n",
       "</tr>\n",
       "<tr>\n",
       "  <th></th>                            <td>(0.3933)</td>  \n",
       "</tr>\n",
       "<tr>\n",
       "  <th>Charisma:Goal</th>                <td>0.0319</td>   \n",
       "</tr>\n",
       "<tr>\n",
       "  <th></th>                            <td>(3.3060)</td>  \n",
       "</tr>\n",
       "</table><br/><br/>T-stats reported in parentheses<br/>T-stats use same covariance type as original model<br/>id: 0x7fb085956910"
      ],
      "text/plain": [
       "    First Stage Estimation Results    \n",
       "======================================\n",
       "                           Rel_counter\n",
       "--------------------------------------\n",
       "R-squared                       0.1031\n",
       "Partial R-squared               0.0145\n",
       "Shea's R-squared                0.0145\n",
       "Partial F-statistic             25.312\n",
       "P-value (Partial F-stat)     1.329e-05\n",
       "Partial F-stat Distn           chi2(3)\n",
       "========================== ===========\n",
       "Intercept                       0.3107\n",
       "                              (25.736)\n",
       "Age                            -0.0019\n",
       "                             (-9.3754)\n",
       "Female                          0.0167\n",
       "                              (3.4465)\n",
       "Diverse                         0.0400\n",
       "                              (1.2603)\n",
       "Education                       0.0045\n",
       "                              (2.4220)\n",
       "Mobile_device                  -0.1237\n",
       "                             (-14.771)\n",
       "Charisma                       -0.0141\n",
       "                             (-2.1273)\n",
       "Goal                            0.0027\n",
       "                              (0.3933)\n",
       "Charisma:Goal                   0.0319\n",
       "                              (3.3060)\n",
       "--------------------------------------\n",
       "\n",
       "T-stats reported in parentheses\n",
       "T-stats use same covariance type as original model\n",
       "FirstStageResults, id: 0x7fb085956910"
      ]
     },
     "execution_count": 15,
     "metadata": {},
     "output_type": "execute_result"
    }
   ],
   "source": [
    "res_2sls.first_stage"
   ]
  },
  {
   "cell_type": "markdown",
   "metadata": {},
   "source": [
    "#### Test 2SLS for overidentification using Sargan's test"
   ]
  },
  {
   "cell_type": "code",
   "execution_count": 16,
   "metadata": {},
   "outputs": [
    {
     "data": {
      "text/plain": [
       "Sargan's test of overidentification\n",
       "H0: The model is not overidentified.\n",
       "Statistic: 0.1165\n",
       "P-value: 0.9434\n",
       "Distributed: chi2(2)\n",
       "WaldTestStatistic, id: 0x7fb077079d60"
      ]
     },
     "execution_count": 16,
     "metadata": {},
     "output_type": "execute_result"
    }
   ],
   "source": [
    "res_2sls.sargan"
   ]
  },
  {
   "cell_type": "markdown",
   "metadata": {},
   "source": [
    "#### Test 2SLS for exogeneity using Durbin"
   ]
  },
  {
   "cell_type": "code",
   "execution_count": 17,
   "metadata": {},
   "outputs": [
    {
     "data": {
      "text/plain": [
       "Durbin test of exogeneity\n",
       "H0: All endogenous variables are exogenous\n",
       "Statistic: 0.1122\n",
       "P-value: 0.7376\n",
       "Distributed: chi2(1)\n",
       "WaldTestStatistic, id: 0x7fb07705edf0"
      ]
     },
     "execution_count": 17,
     "metadata": {},
     "output_type": "execute_result"
    }
   ],
   "source": [
    "res_2sls.durbin()"
   ]
  },
  {
   "cell_type": "markdown",
   "metadata": {},
   "source": [
    "#### Test 2SLS for exogeneity using Wu–Hausman (WH)"
   ]
  },
  {
   "cell_type": "code",
   "execution_count": 18,
   "metadata": {
    "scrolled": true
   },
   "outputs": [
    {
     "data": {
      "text/plain": [
       "Wu-Hausman test of exogeneity\n",
       "H0: All endogenous variables are exogenous\n",
       "Statistic: 0.1117\n",
       "P-value: 0.7382\n",
       "Distributed: F(1,1760)\n",
       "WaldTestStatistic, id: 0x7fb0859569d0"
      ]
     },
     "execution_count": 18,
     "metadata": {},
     "output_type": "execute_result"
    }
   ],
   "source": [
    "res_2sls.wu_hausman()"
   ]
  },
  {
   "cell_type": "markdown",
   "metadata": {},
   "source": [
    "### Covariance table"
   ]
  },
  {
   "cell_type": "code",
   "execution_count": 19,
   "metadata": {
    "scrolled": true
   },
   "outputs": [
    {
     "data": {
      "text/html": [
       "<div>\n",
       "<style scoped>\n",
       "    .dataframe tbody tr th:only-of-type {\n",
       "        vertical-align: middle;\n",
       "    }\n",
       "\n",
       "    .dataframe tbody tr th {\n",
       "        vertical-align: top;\n",
       "    }\n",
       "\n",
       "    .dataframe thead th {\n",
       "        text-align: right;\n",
       "    }\n",
       "</style>\n",
       "<table border=\"1\" class=\"dataframe\">\n",
       "  <thead>\n",
       "    <tr style=\"text-align: right;\">\n",
       "      <th></th>\n",
       "      <th>Mean</th>\n",
       "      <th>Std</th>\n",
       "      <th>Counter real</th>\n",
       "      <th>Avg edit ratio</th>\n",
       "      <th>Goal</th>\n",
       "      <th>Charisma</th>\n",
       "      <th>Goal*charisma</th>\n",
       "      <th>Age</th>\n",
       "      <th>Female</th>\n",
       "      <th>Diverse</th>\n",
       "      <th>Education</th>\n",
       "      <th>Mobile device</th>\n",
       "    </tr>\n",
       "  </thead>\n",
       "  <tbody>\n",
       "    <tr>\n",
       "      <th>Counter real</th>\n",
       "      <td>29.34</td>\n",
       "      <td>11.78</td>\n",
       "      <td>1.0</td>\n",
       "      <td>-0.31***</td>\n",
       "      <td>0.07***</td>\n",
       "      <td>0.01</td>\n",
       "      <td>0.1***</td>\n",
       "      <td>-0.18***</td>\n",
       "      <td>0.05**</td>\n",
       "      <td>0.02</td>\n",
       "      <td>0.04*</td>\n",
       "      <td>-0.21***</td>\n",
       "    </tr>\n",
       "    <tr>\n",
       "      <th>Avg edit ratio</th>\n",
       "      <td>0.02</td>\n",
       "      <td>0.03</td>\n",
       "      <td>-0.31***</td>\n",
       "      <td>1.0</td>\n",
       "      <td>-0.01</td>\n",
       "      <td>-0.01</td>\n",
       "      <td>-0.03</td>\n",
       "      <td>-0.04</td>\n",
       "      <td>-0.09***</td>\n",
       "      <td>0.0</td>\n",
       "      <td>0.06**</td>\n",
       "      <td>0.19***</td>\n",
       "    </tr>\n",
       "    <tr>\n",
       "      <th>Goal</th>\n",
       "      <td>0.50</td>\n",
       "      <td>0.50</td>\n",
       "      <td>0.07***</td>\n",
       "      <td>-0.01</td>\n",
       "      <td>1.0</td>\n",
       "      <td>0.0</td>\n",
       "      <td>0.58***</td>\n",
       "      <td>0.01</td>\n",
       "      <td>-0.04</td>\n",
       "      <td>-0.01</td>\n",
       "      <td>-0.0</td>\n",
       "      <td>0.04</td>\n",
       "    </tr>\n",
       "    <tr>\n",
       "      <th>Charisma</th>\n",
       "      <td>0.50</td>\n",
       "      <td>0.50</td>\n",
       "      <td>0.01</td>\n",
       "      <td>-0.01</td>\n",
       "      <td>0.0</td>\n",
       "      <td>1.0</td>\n",
       "      <td>0.58***</td>\n",
       "      <td>0.01</td>\n",
       "      <td>-0.02</td>\n",
       "      <td>0.03</td>\n",
       "      <td>-0.02</td>\n",
       "      <td>-0.04</td>\n",
       "    </tr>\n",
       "    <tr>\n",
       "      <th>Goal*charisma</th>\n",
       "      <td>0.25</td>\n",
       "      <td>0.43</td>\n",
       "      <td>0.1***</td>\n",
       "      <td>-0.03</td>\n",
       "      <td>0.58***</td>\n",
       "      <td>0.58***</td>\n",
       "      <td>1.0</td>\n",
       "      <td>0.01</td>\n",
       "      <td>-0.03</td>\n",
       "      <td>0.01</td>\n",
       "      <td>0.01</td>\n",
       "      <td>-0.01</td>\n",
       "    </tr>\n",
       "    <tr>\n",
       "      <th>Age</th>\n",
       "      <td>37.65</td>\n",
       "      <td>11.44</td>\n",
       "      <td>-0.18***</td>\n",
       "      <td>-0.04</td>\n",
       "      <td>0.01</td>\n",
       "      <td>0.01</td>\n",
       "      <td>0.01</td>\n",
       "      <td>1.0</td>\n",
       "      <td>0.12***</td>\n",
       "      <td>-0.04</td>\n",
       "      <td>0.04*</td>\n",
       "      <td>-0.03</td>\n",
       "    </tr>\n",
       "    <tr>\n",
       "      <th>Female</th>\n",
       "      <td>0.47</td>\n",
       "      <td>0.50</td>\n",
       "      <td>0.05**</td>\n",
       "      <td>-0.09***</td>\n",
       "      <td>-0.04</td>\n",
       "      <td>-0.02</td>\n",
       "      <td>-0.03</td>\n",
       "      <td>0.12***</td>\n",
       "      <td>1.0</td>\n",
       "      <td>-0.07***</td>\n",
       "      <td>-0.04</td>\n",
       "      <td>-0.01</td>\n",
       "    </tr>\n",
       "    <tr>\n",
       "      <th>Diverse</th>\n",
       "      <td>0.01</td>\n",
       "      <td>0.08</td>\n",
       "      <td>0.02</td>\n",
       "      <td>0.0</td>\n",
       "      <td>-0.01</td>\n",
       "      <td>0.03</td>\n",
       "      <td>0.01</td>\n",
       "      <td>-0.04</td>\n",
       "      <td>-0.07***</td>\n",
       "      <td>1.0</td>\n",
       "      <td>0.02</td>\n",
       "      <td>0.02</td>\n",
       "    </tr>\n",
       "    <tr>\n",
       "      <th>Education</th>\n",
       "      <td>4.49</td>\n",
       "      <td>1.30</td>\n",
       "      <td>0.04*</td>\n",
       "      <td>0.06**</td>\n",
       "      <td>-0.0</td>\n",
       "      <td>-0.02</td>\n",
       "      <td>0.01</td>\n",
       "      <td>0.04*</td>\n",
       "      <td>-0.04</td>\n",
       "      <td>0.02</td>\n",
       "      <td>1.0</td>\n",
       "      <td>0.01</td>\n",
       "    </tr>\n",
       "    <tr>\n",
       "      <th>Mobile device</th>\n",
       "      <td>0.04</td>\n",
       "      <td>0.19</td>\n",
       "      <td>-0.21***</td>\n",
       "      <td>0.19***</td>\n",
       "      <td>0.04</td>\n",
       "      <td>-0.04</td>\n",
       "      <td>-0.01</td>\n",
       "      <td>-0.03</td>\n",
       "      <td>-0.01</td>\n",
       "      <td>0.02</td>\n",
       "      <td>0.01</td>\n",
       "      <td>1.0</td>\n",
       "    </tr>\n",
       "  </tbody>\n",
       "</table>\n",
       "</div>"
      ],
      "text/plain": [
       "                 Mean    Std Counter real Avg edit ratio     Goal Charisma Goal*charisma       Age    Female   Diverse Education Mobile device\n",
       "Counter real    29.34  11.78          1.0       -0.31***  0.07***     0.01        0.1***  -0.18***    0.05**      0.02     0.04*      -0.21***\n",
       "Avg edit ratio   0.02   0.03     -0.31***            1.0    -0.01    -0.01         -0.03     -0.04  -0.09***       0.0    0.06**       0.19***\n",
       "Goal             0.50   0.50      0.07***          -0.01      1.0      0.0       0.58***      0.01     -0.04     -0.01      -0.0          0.04\n",
       "Charisma         0.50   0.50         0.01          -0.01      0.0      1.0       0.58***      0.01     -0.02      0.03     -0.02         -0.04\n",
       "Goal*charisma    0.25   0.43       0.1***          -0.03  0.58***  0.58***           1.0      0.01     -0.03      0.01      0.01         -0.01\n",
       "Age             37.65  11.44     -0.18***          -0.04     0.01     0.01          0.01       1.0   0.12***     -0.04     0.04*         -0.03\n",
       "Female           0.47   0.50       0.05**       -0.09***    -0.04    -0.02         -0.03   0.12***       1.0  -0.07***     -0.04         -0.01\n",
       "Diverse          0.01   0.08         0.02            0.0    -0.01     0.03          0.01     -0.04  -0.07***       1.0      0.02          0.02\n",
       "Education        4.49   1.30        0.04*         0.06**     -0.0    -0.02          0.01     0.04*     -0.04      0.02       1.0          0.01\n",
       "Mobile device    0.04   0.19     -0.21***        0.19***     0.04    -0.04         -0.01     -0.03     -0.01      0.02      0.01           1.0"
      ]
     },
     "metadata": {},
     "output_type": "display_data"
    }
   ],
   "source": [
    "df['Goal*Charisma'] = df['Goal'] * df['Charisma']\n",
    "variables = [\n",
    "    'Counter_real',\n",
    "    'Avg_edit_ratio',\n",
    "    'Goal',\n",
    "    'Charisma',\n",
    "    'Goal*Charisma',\n",
    "    'Age',\n",
    "    'Female',\n",
    "    'Diverse',\n",
    "    'Education',\n",
    "    'Mobile_device',\n",
    "]\n",
    "\n",
    "df_mean_std = df[variables].describe().T.loc[:, ['mean', 'std']].applymap(lambda x: round(x, 2))\n",
    "df_rho = df[variables].corr()\n",
    "\n",
    "df_pval = df[variables].corr(method=lambda x, y: stats.pearsonr(x, y)[1])\n",
    "df_pval = df_pval.applymap(lambda x: ''.join(['*' for t in [0.01, 0.05, 0.1] if x<=t]))\n",
    "\n",
    "df_rho = df_rho.round(2).astype(str) + df_pval\n",
    "\n",
    "\n",
    "df_all = df_mean_std\\\n",
    "    .join(df_rho)\\\n",
    "    .rename(lambda x: x.capitalize().replace('_', ' '), axis=0)\\\n",
    "    .rename(lambda x: x.capitalize().replace('_', ' '), axis=1)\n",
    "\n",
    "path = os.path.join(TABLES_FOLDER, 'experiment_2', 'corr_variables.tex')\n",
    "df_all.to_latex(path, float_format=\"%.2f\")\n",
    "\n",
    "display(df_all)"
   ]
  },
  {
   "cell_type": "markdown",
   "metadata": {},
   "source": [
    "#### Convert to html"
   ]
  },
  {
   "cell_type": "code",
   "execution_count": 20,
   "metadata": {},
   "outputs": [
    {
     "name": "stdout",
     "output_type": "stream",
     "text": [
      "[NbConvertApp] Converting notebook 6_quantity_vs_quality.ipynb to html\n",
      "[NbConvertApp] Writing 826120 bytes to docs/6_quantity_vs_quality.html\n"
     ]
    }
   ],
   "source": [
    "!jupyter nbconvert --output-dir='./docs' --to html 6_quantity_vs_quality.ipynb"
   ]
  }
 ],
 "metadata": {
  "hide_input": false,
  "kernelspec": {
   "display_name": "Python 3",
   "language": "python",
   "name": "python3"
  },
  "language_info": {
   "codemirror_mode": {
    "name": "ipython",
    "version": 3
   },
   "file_extension": ".py",
   "mimetype": "text/x-python",
   "name": "python",
   "nbconvert_exporter": "python",
   "pygments_lexer": "ipython3",
   "version": "3.8.10"
  }
 },
 "nbformat": 4,
 "nbformat_minor": 2
}
