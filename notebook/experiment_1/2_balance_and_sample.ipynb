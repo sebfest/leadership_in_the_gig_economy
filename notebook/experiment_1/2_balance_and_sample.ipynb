{
 "cells": [
  {
   "cell_type": "markdown",
   "metadata": {},
   "source": [
    "## List of tables:\n",
    "\n",
    "### 1. [Table 1: Treatment table](#treatment)\n",
    "### 2. [Table 2: Background characteristics for subjects](#balance)"
   ]
  },
  {
   "cell_type": "markdown",
   "metadata": {},
   "source": [
    "#### Imports libraries"
   ]
  },
  {
   "cell_type": "code",
   "execution_count": 1,
   "metadata": {},
   "outputs": [],
   "source": [
    "import os  #File system handling\n",
    "import pandas as pd  #Dataframe handling\n",
    "import statsmodels.formula.api as smf  #Regressions analysis\n",
    "\n",
    "from statsmodels.iolib.summary2 import summary_col  #Regression output table"
   ]
  },
  {
   "cell_type": "markdown",
   "metadata": {},
   "source": [
    "#### Pandas settings"
   ]
  },
  {
   "cell_type": "code",
   "execution_count": 2,
   "metadata": {},
   "outputs": [],
   "source": [
    "pd.set_option(\"display.precision\", 3)\n",
    "pd.set_option(\"display.expand_frame_repr\", False)\n",
    "pd.set_option(\"display.max_rows\", 25)"
   ]
  },
  {
   "cell_type": "markdown",
   "metadata": {},
   "source": [
    "#### Set project directory"
   ]
  },
  {
   "cell_type": "code",
   "execution_count": 3,
   "metadata": {},
   "outputs": [],
   "source": [
    "PROJECT_FOLDER = os.path.dirname(os.path.dirname(os.getcwd()))\n",
    "FINAL_DATA_FOLDER = os.path.join(PROJECT_FOLDER, 'data', 'final')\n",
    "TABLES_FOLDER = os.path.join(PROJECT_FOLDER, 'reports', 'tables')\n",
    "FIGURES_FOLDER = os.path.join(PROJECT_FOLDER, 'reports', 'figures')"
   ]
  },
  {
   "cell_type": "markdown",
   "metadata": {},
   "source": [
    "#### Retrieving dataframe"
   ]
  },
  {
   "cell_type": "code",
   "execution_count": 4,
   "metadata": {},
   "outputs": [
    {
     "name": "stdout",
     "output_type": "stream",
     "text": [
      "<class 'pandas.core.frame.DataFrame'>\n",
      "RangeIndex: 3076 entries, 0 to 3075\n",
      "Columns: 443 entries, Age to Q80_timer\n",
      "dtypes: float64(225), int64(26), object(192)\n",
      "memory usage: 10.4+ MB\n"
     ]
    }
   ],
   "source": [
    "DATA = os.path.join(\n",
    "    FINAL_DATA_FOLDER, \n",
    "    'experiment_1',\n",
    "    'data_final.feather'\n",
    ")\n",
    "\n",
    "df = pd.read_feather(DATA)\n",
    "df.info()"
   ]
  },
  {
   "cell_type": "markdown",
   "metadata": {},
   "source": [
    "#### Seperate quality-concern treatments from the following main analysys"
   ]
  },
  {
   "cell_type": "code",
   "execution_count": 5,
   "metadata": {},
   "outputs": [],
   "source": [
    "sel = (df['Dataset'] == 'Main')\n",
    "df = df[sel]"
   ]
  },
  {
   "cell_type": "markdown",
   "metadata": {},
   "source": [
    "#### Table 1: Treatment table <a id='treatment'></a>"
   ]
  },
  {
   "cell_type": "code",
   "execution_count": 6,
   "metadata": {},
   "outputs": [
    {
     "data": {
      "text/plain": "Leadership_technique  No message  Praise  Reference point   All\nPerformance_pay                                                \nNo piece rate                300     292              299   891\nLow piece rate               295     301              295   891\nHigh piece rate              302     297              299   898\nAll                          897     890              893  2680",
      "text/html": "<div>\n<style scoped>\n    .dataframe tbody tr th:only-of-type {\n        vertical-align: middle;\n    }\n\n    .dataframe tbody tr th {\n        vertical-align: top;\n    }\n\n    .dataframe thead th {\n        text-align: right;\n    }\n</style>\n<table border=\"1\" class=\"dataframe\">\n  <thead>\n    <tr style=\"text-align: right;\">\n      <th>Leadership_technique</th>\n      <th>No message</th>\n      <th>Praise</th>\n      <th>Reference point</th>\n      <th>All</th>\n    </tr>\n    <tr>\n      <th>Performance_pay</th>\n      <th></th>\n      <th></th>\n      <th></th>\n      <th></th>\n    </tr>\n  </thead>\n  <tbody>\n    <tr>\n      <th>No piece rate</th>\n      <td>300</td>\n      <td>292</td>\n      <td>299</td>\n      <td>891</td>\n    </tr>\n    <tr>\n      <th>Low piece rate</th>\n      <td>295</td>\n      <td>301</td>\n      <td>295</td>\n      <td>891</td>\n    </tr>\n    <tr>\n      <th>High piece rate</th>\n      <td>302</td>\n      <td>297</td>\n      <td>299</td>\n      <td>898</td>\n    </tr>\n    <tr>\n      <th>All</th>\n      <td>897</td>\n      <td>890</td>\n      <td>893</td>\n      <td>2680</td>\n    </tr>\n  </tbody>\n</table>\n</div>"
     },
     "execution_count": 6,
     "metadata": {},
     "output_type": "execute_result"
    }
   ],
   "source": [
    "treat_table = pd.crosstab(\n",
    "    df['Performance_pay'], \n",
    "    df['Leadership_technique'], \n",
    "    margins=True)\\\n",
    "    .sort_index(ascending=False, axis=0, level=0)\n",
    "\n",
    "path = os.path.join(TABLES_FOLDER, 'experiment_1', 'treat_table.tex')\n",
    "treat_table.to_latex(path, bold_rows=True, float_format=\"%.0f\")\n",
    "\n",
    "treat_table"
   ]
  },
  {
   "cell_type": "markdown",
   "metadata": {},
   "source": [
    "#### Table 2:  Background characterisitcs of subjects <a id='balance'></a>"
   ]
  },
  {
   "cell_type": "code",
   "execution_count": 7,
   "metadata": {},
   "outputs": [
    {
     "data": {
      "text/plain": "                                         Age        Education        Female         Latin        Mobile_device            N\n                                        Mean     Se      Mean     Se   Mean     Se   Mean     Se          Mean     Se      \nPerformance pay Leadership technique                                                                                       \nNo piece rate   No message            36.283  0.592     3.117  0.079  0.500  0.029  1.423  0.043         0.050  0.013   300\n                Praise                36.045  0.616     3.236  0.077  0.497  0.029  1.380  0.041         0.027  0.010   292\n                Reference point       35.773  0.645     3.124  0.071  0.538  0.029  1.445  0.042         0.067  0.014   299\nLow piece rate  No message            35.875  0.641     3.078  0.074  0.498  0.029  1.407  0.039         0.068  0.015   295\n                Praise                34.488  0.555     3.070  0.077  0.502  0.029  1.412  0.044         0.040  0.011   301\n                Reference point       35.420  0.642     3.153  0.077  0.492  0.029  1.447  0.046         0.031  0.010   295\nHigh piece rate No message            34.930  0.614     3.017  0.076  0.457  0.029  1.457  0.043         0.046  0.012   302\n                Praise                35.152  0.643     3.131  0.072  0.519  0.029  1.401  0.039         0.064  0.014   297\n                Reference point       36.080  0.653     3.087  0.076  0.538  0.029  1.475  0.046         0.047  0.012   299\nAll                                   35.558  0.208     3.112  0.025  0.504  0.010  1.428  0.014         0.049  0.004  2680",
      "text/html": "<div>\n<style scoped>\n    .dataframe tbody tr th:only-of-type {\n        vertical-align: middle;\n    }\n\n    .dataframe tbody tr th {\n        vertical-align: top;\n    }\n\n    .dataframe thead tr th {\n        text-align: left;\n    }\n\n    .dataframe thead tr:last-of-type th {\n        text-align: right;\n    }\n</style>\n<table border=\"1\" class=\"dataframe\">\n  <thead>\n    <tr>\n      <th></th>\n      <th></th>\n      <th colspan=\"2\" halign=\"left\">Age</th>\n      <th colspan=\"2\" halign=\"left\">Education</th>\n      <th colspan=\"2\" halign=\"left\">Female</th>\n      <th colspan=\"2\" halign=\"left\">Latin</th>\n      <th colspan=\"2\" halign=\"left\">Mobile_device</th>\n      <th>N</th>\n    </tr>\n    <tr>\n      <th></th>\n      <th></th>\n      <th>Mean</th>\n      <th>Se</th>\n      <th>Mean</th>\n      <th>Se</th>\n      <th>Mean</th>\n      <th>Se</th>\n      <th>Mean</th>\n      <th>Se</th>\n      <th>Mean</th>\n      <th>Se</th>\n      <th></th>\n    </tr>\n    <tr>\n      <th>Performance pay</th>\n      <th>Leadership technique</th>\n      <th></th>\n      <th></th>\n      <th></th>\n      <th></th>\n      <th></th>\n      <th></th>\n      <th></th>\n      <th></th>\n      <th></th>\n      <th></th>\n      <th></th>\n    </tr>\n  </thead>\n  <tbody>\n    <tr>\n      <th rowspan=\"3\" valign=\"top\">No piece rate</th>\n      <th>No message</th>\n      <td>36.283</td>\n      <td>0.592</td>\n      <td>3.117</td>\n      <td>0.079</td>\n      <td>0.500</td>\n      <td>0.029</td>\n      <td>1.423</td>\n      <td>0.043</td>\n      <td>0.050</td>\n      <td>0.013</td>\n      <td>300</td>\n    </tr>\n    <tr>\n      <th>Praise</th>\n      <td>36.045</td>\n      <td>0.616</td>\n      <td>3.236</td>\n      <td>0.077</td>\n      <td>0.497</td>\n      <td>0.029</td>\n      <td>1.380</td>\n      <td>0.041</td>\n      <td>0.027</td>\n      <td>0.010</td>\n      <td>292</td>\n    </tr>\n    <tr>\n      <th>Reference point</th>\n      <td>35.773</td>\n      <td>0.645</td>\n      <td>3.124</td>\n      <td>0.071</td>\n      <td>0.538</td>\n      <td>0.029</td>\n      <td>1.445</td>\n      <td>0.042</td>\n      <td>0.067</td>\n      <td>0.014</td>\n      <td>299</td>\n    </tr>\n    <tr>\n      <th rowspan=\"3\" valign=\"top\">Low piece rate</th>\n      <th>No message</th>\n      <td>35.875</td>\n      <td>0.641</td>\n      <td>3.078</td>\n      <td>0.074</td>\n      <td>0.498</td>\n      <td>0.029</td>\n      <td>1.407</td>\n      <td>0.039</td>\n      <td>0.068</td>\n      <td>0.015</td>\n      <td>295</td>\n    </tr>\n    <tr>\n      <th>Praise</th>\n      <td>34.488</td>\n      <td>0.555</td>\n      <td>3.070</td>\n      <td>0.077</td>\n      <td>0.502</td>\n      <td>0.029</td>\n      <td>1.412</td>\n      <td>0.044</td>\n      <td>0.040</td>\n      <td>0.011</td>\n      <td>301</td>\n    </tr>\n    <tr>\n      <th>Reference point</th>\n      <td>35.420</td>\n      <td>0.642</td>\n      <td>3.153</td>\n      <td>0.077</td>\n      <td>0.492</td>\n      <td>0.029</td>\n      <td>1.447</td>\n      <td>0.046</td>\n      <td>0.031</td>\n      <td>0.010</td>\n      <td>295</td>\n    </tr>\n    <tr>\n      <th rowspan=\"3\" valign=\"top\">High piece rate</th>\n      <th>No message</th>\n      <td>34.930</td>\n      <td>0.614</td>\n      <td>3.017</td>\n      <td>0.076</td>\n      <td>0.457</td>\n      <td>0.029</td>\n      <td>1.457</td>\n      <td>0.043</td>\n      <td>0.046</td>\n      <td>0.012</td>\n      <td>302</td>\n    </tr>\n    <tr>\n      <th>Praise</th>\n      <td>35.152</td>\n      <td>0.643</td>\n      <td>3.131</td>\n      <td>0.072</td>\n      <td>0.519</td>\n      <td>0.029</td>\n      <td>1.401</td>\n      <td>0.039</td>\n      <td>0.064</td>\n      <td>0.014</td>\n      <td>297</td>\n    </tr>\n    <tr>\n      <th>Reference point</th>\n      <td>36.080</td>\n      <td>0.653</td>\n      <td>3.087</td>\n      <td>0.076</td>\n      <td>0.538</td>\n      <td>0.029</td>\n      <td>1.475</td>\n      <td>0.046</td>\n      <td>0.047</td>\n      <td>0.012</td>\n      <td>299</td>\n    </tr>\n    <tr>\n      <th>All</th>\n      <th></th>\n      <td>35.558</td>\n      <td>0.208</td>\n      <td>3.112</td>\n      <td>0.025</td>\n      <td>0.504</td>\n      <td>0.010</td>\n      <td>1.428</td>\n      <td>0.014</td>\n      <td>0.049</td>\n      <td>0.004</td>\n      <td>2680</td>\n    </tr>\n  </tbody>\n</table>\n</div>"
     },
     "execution_count": 7,
     "metadata": {},
     "output_type": "execute_result"
    }
   ],
   "source": [
    "covariates = ['Age', 'Female', 'Education', 'Mobile_device', 'Latin']\n",
    "pivot_index = ['Performance_pay', 'Leadership_technique']\n",
    "\n",
    "balance = pd.pivot_table(\n",
    "    df, \n",
    "    index=pivot_index , \n",
    "    aggfunc=['mean', 'sem'], \n",
    "    values=covariates, \n",
    "    margins=True\n",
    "    )\\\n",
    "    .rename(columns={'mean':'Mean', 'sem':'Se'}, level=0)\\\n",
    "    .rename(mapper=lambda x: x.capitalize(), axis=1, level=1)\\\n",
    "    .rename_axis(['Performance pay', 'Leadership technique'])\\\n",
    "    .swaplevel(axis=1)\\\n",
    "    .sort_index(axis=1, level=0)\\\n",
    "    .sort_index(ascending=False, axis=0)\\\n",
    "    .reindex(['No message','Praise', 'Reference point', ''], level=1)\n",
    "     \n",
    "obs = df.groupby(pivot_index).size()\n",
    "obs['All'] = df.groupby('Treatment_str').size().sum()\n",
    "balance.loc[:, ('N', '')] = obs\n",
    "    \n",
    "path = os.path.join(TABLES_FOLDER, 'experiment_1', 'balance_table.tex')\n",
    "balance.to_latex(path, bold_rows=True, float_format=\"%.2f\")\n",
    "\n",
    "balance"
   ]
  },
  {
   "cell_type": "markdown",
   "metadata": {},
   "source": [
    "#### Covariate balance using OLS <a id='balance_ols'></a>"
   ]
  },
  {
   "cell_type": "code",
   "execution_count": 8,
   "metadata": {},
   "outputs": [
    {
     "data": {
      "text/plain": "Dependent variable:                      Age    Female Education Mobile device     Latin\nConstant                           34.930***  0.457***  3.017***      0.046***  1.457***\n                                     (0.614)   (0.029)   (0.076)       (0.012)   (0.043)\nHigh piece rate + Praise               0.221     0.062     0.115         0.018    -0.056\n                                     (0.890)   (0.041)   (0.104)       (0.019)   (0.058)\nHigh piece rate + Reference point      1.150   0.082**     0.070         0.000     0.018\n                                     (0.897)   (0.041)   (0.107)       (0.017)   (0.063)\nLow piece rate + No message            0.944     0.041     0.061         0.021    -0.050\n                                     (0.888)   (0.041)   (0.106)       (0.019)   (0.059)\nLow piece rate + Praise               -0.442     0.045     0.053        -0.006    -0.045\n                                     (0.828)   (0.041)   (0.108)       (0.017)   (0.062)\nLow piece rate + Reference point       0.490     0.035     0.136        -0.016    -0.009\n                                     (0.889)   (0.041)   (0.108)       (0.016)   (0.063)\nNo piece rate + No message             1.353     0.043     0.100         0.004    -0.034\n                                     (0.853)   (0.041)   (0.109)       (0.017)   (0.061)\nNo piece rate + Praise                 1.114     0.040   0.220**        -0.019    -0.077\n                                     (0.870)   (0.041)   (0.108)       (0.015)   (0.060)\nNo piece rate + Reference point        0.842   0.082**     0.107         0.021    -0.012\n                                     (0.891)   (0.041)   (0.104)       (0.019)   (0.061)\nR-squared                              0.003     0.002     0.002         0.004     0.002\nR-squared Adj.                        -0.000    -0.001    -0.001         0.001    -0.001\nN                                       2680      2680      2680          2680      2680\nF                                      1.038     0.761     0.645         1.544     0.510\nP(>F)                                  0.405     0.637     0.740         0.137     0.850",
      "text/html": "<div>\n<style scoped>\n    .dataframe tbody tr th:only-of-type {\n        vertical-align: middle;\n    }\n\n    .dataframe tbody tr th {\n        vertical-align: top;\n    }\n\n    .dataframe thead th {\n        text-align: right;\n    }\n</style>\n<table border=\"1\" class=\"dataframe\">\n  <thead>\n    <tr style=\"text-align: right;\">\n      <th>Dependent variable:</th>\n      <th>Age</th>\n      <th>Female</th>\n      <th>Education</th>\n      <th>Mobile device</th>\n      <th>Latin</th>\n    </tr>\n  </thead>\n  <tbody>\n    <tr>\n      <th>Constant</th>\n      <td>34.930***</td>\n      <td>0.457***</td>\n      <td>3.017***</td>\n      <td>0.046***</td>\n      <td>1.457***</td>\n    </tr>\n    <tr>\n      <th></th>\n      <td>(0.614)</td>\n      <td>(0.029)</td>\n      <td>(0.076)</td>\n      <td>(0.012)</td>\n      <td>(0.043)</td>\n    </tr>\n    <tr>\n      <th>High piece rate + Praise</th>\n      <td>0.221</td>\n      <td>0.062</td>\n      <td>0.115</td>\n      <td>0.018</td>\n      <td>-0.056</td>\n    </tr>\n    <tr>\n      <th></th>\n      <td>(0.890)</td>\n      <td>(0.041)</td>\n      <td>(0.104)</td>\n      <td>(0.019)</td>\n      <td>(0.058)</td>\n    </tr>\n    <tr>\n      <th>High piece rate + Reference point</th>\n      <td>1.150</td>\n      <td>0.082**</td>\n      <td>0.070</td>\n      <td>0.000</td>\n      <td>0.018</td>\n    </tr>\n    <tr>\n      <th></th>\n      <td>(0.897)</td>\n      <td>(0.041)</td>\n      <td>(0.107)</td>\n      <td>(0.017)</td>\n      <td>(0.063)</td>\n    </tr>\n    <tr>\n      <th>Low piece rate + No message</th>\n      <td>0.944</td>\n      <td>0.041</td>\n      <td>0.061</td>\n      <td>0.021</td>\n      <td>-0.050</td>\n    </tr>\n    <tr>\n      <th></th>\n      <td>(0.888)</td>\n      <td>(0.041)</td>\n      <td>(0.106)</td>\n      <td>(0.019)</td>\n      <td>(0.059)</td>\n    </tr>\n    <tr>\n      <th>Low piece rate + Praise</th>\n      <td>-0.442</td>\n      <td>0.045</td>\n      <td>0.053</td>\n      <td>-0.006</td>\n      <td>-0.045</td>\n    </tr>\n    <tr>\n      <th></th>\n      <td>(0.828)</td>\n      <td>(0.041)</td>\n      <td>(0.108)</td>\n      <td>(0.017)</td>\n      <td>(0.062)</td>\n    </tr>\n    <tr>\n      <th>Low piece rate + Reference point</th>\n      <td>0.490</td>\n      <td>0.035</td>\n      <td>0.136</td>\n      <td>-0.016</td>\n      <td>-0.009</td>\n    </tr>\n    <tr>\n      <th></th>\n      <td>(0.889)</td>\n      <td>(0.041)</td>\n      <td>(0.108)</td>\n      <td>(0.016)</td>\n      <td>(0.063)</td>\n    </tr>\n    <tr>\n      <th>No piece rate + No message</th>\n      <td>1.353</td>\n      <td>0.043</td>\n      <td>0.100</td>\n      <td>0.004</td>\n      <td>-0.034</td>\n    </tr>\n    <tr>\n      <th></th>\n      <td>(0.853)</td>\n      <td>(0.041)</td>\n      <td>(0.109)</td>\n      <td>(0.017)</td>\n      <td>(0.061)</td>\n    </tr>\n    <tr>\n      <th>No piece rate + Praise</th>\n      <td>1.114</td>\n      <td>0.040</td>\n      <td>0.220**</td>\n      <td>-0.019</td>\n      <td>-0.077</td>\n    </tr>\n    <tr>\n      <th></th>\n      <td>(0.870)</td>\n      <td>(0.041)</td>\n      <td>(0.108)</td>\n      <td>(0.015)</td>\n      <td>(0.060)</td>\n    </tr>\n    <tr>\n      <th>No piece rate + Reference point</th>\n      <td>0.842</td>\n      <td>0.082**</td>\n      <td>0.107</td>\n      <td>0.021</td>\n      <td>-0.012</td>\n    </tr>\n    <tr>\n      <th></th>\n      <td>(0.891)</td>\n      <td>(0.041)</td>\n      <td>(0.104)</td>\n      <td>(0.019)</td>\n      <td>(0.061)</td>\n    </tr>\n    <tr>\n      <th>R-squared</th>\n      <td>0.003</td>\n      <td>0.002</td>\n      <td>0.002</td>\n      <td>0.004</td>\n      <td>0.002</td>\n    </tr>\n    <tr>\n      <th>R-squared Adj.</th>\n      <td>-0.000</td>\n      <td>-0.001</td>\n      <td>-0.001</td>\n      <td>0.001</td>\n      <td>-0.001</td>\n    </tr>\n    <tr>\n      <th>N</th>\n      <td>2680</td>\n      <td>2680</td>\n      <td>2680</td>\n      <td>2680</td>\n      <td>2680</td>\n    </tr>\n    <tr>\n      <th>F</th>\n      <td>1.038</td>\n      <td>0.761</td>\n      <td>0.645</td>\n      <td>1.544</td>\n      <td>0.510</td>\n    </tr>\n    <tr>\n      <th>P(&gt;F)</th>\n      <td>0.405</td>\n      <td>0.637</td>\n      <td>0.740</td>\n      <td>0.137</td>\n      <td>0.850</td>\n    </tr>\n  </tbody>\n</table>\n</div>"
     },
     "execution_count": 8,
     "metadata": {},
     "output_type": "execute_result"
    }
   ],
   "source": [
    "ols_results = [\n",
    "    smf.ols(formula=f'{variable} ~ C(Treatment_str)', data=df).fit(cov_type='HC1')\n",
    "    for variable in covariates\n",
    "]\n",
    "\n",
    "auxiliary = {\n",
    "    'N': lambda x: f'{x.nobs:.0f}',\n",
    "    'F': lambda x: f'{x.fvalue:.3f}', \n",
    "    'P(>F)': lambda x: f'{x.f_pvalue:.3f}',\n",
    "}\n",
    "\n",
    "ols_balance = summary_col(\n",
    "    ols_results,\n",
    "    stars=True,\n",
    "    info_dict=auxiliary,\n",
    "    float_format='%.3f'\n",
    ")\n",
    "\n",
    "ols_balance = ols_balance.tables[0]\\\n",
    "    .rename(mapper=lambda x: x.replace('C(Treatment_str)[T.', '').replace(']', ''), axis=0)\\\n",
    "    .rename(mapper=lambda x: x.replace('_',' '), axis=1)\\\n",
    "    .rename({'Intercept': 'Constant'}, axis=0)\\\n",
    "    .rename_axis('Dependent variable:', axis=1)\n",
    "\n",
    "path = os.path.join(\n",
    "    TABLES_FOLDER, \n",
    "    'experiment_1', \n",
    "    'ols_balance.tex'\n",
    ")\n",
    "\n",
    "ols_balance.to_latex(\n",
    "    path,\n",
    "    bold_rows=False,\n",
    "    float_format=\"%.3f\"\n",
    ")\n",
    "\n",
    "ols_balance"
   ]
  },
  {
   "cell_type": "code",
   "execution_count": 9,
   "metadata": {
    "pycharm": {
     "name": "#%%\n"
    }
   },
   "outputs": [
    {
     "name": "stdout",
     "output_type": "stream",
     "text": [
      "[NbConvertApp] Converting notebook 2_balance_and_sample.ipynb to html\r\n",
      "[NbConvertApp] Writing 593761 bytes to docs/2_balance_and_sample.html\r\n"
     ]
    }
   ],
   "source": [
    "!jupyter nbconvert --output-dir='./docs' --to html 2_balance_and_sample.ipynb"
   ]
  }
 ],
 "metadata": {
  "hide_input": false,
  "kernelspec": {
   "display_name": "Python 3",
   "language": "python",
   "name": "python3"
  },
  "language_info": {
   "codemirror_mode": {
    "name": "ipython",
    "version": 3
   },
   "file_extension": ".py",
   "mimetype": "text/x-python",
   "name": "python",
   "nbconvert_exporter": "python",
   "pygments_lexer": "ipython3",
   "version": "3.8.10"
  }
 },
 "nbformat": 4,
 "nbformat_minor": 2
}