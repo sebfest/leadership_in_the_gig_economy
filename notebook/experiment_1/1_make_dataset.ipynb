{
 "cells": [
  {
   "cell_type": "markdown",
   "metadata": {},
   "source": [
    "#### Import modules"
   ]
  },
  {
   "cell_type": "code",
   "execution_count": 1,
   "metadata": {},
   "outputs": [],
   "source": [
    "import numpy as np  # Matrix  manipulation\n",
    "import os  # Filesystem support\n",
    "import pandas as pd  # Dataframe\n",
    "import Levenshtein  # Calculating edit distance"
   ]
  },
  {
   "cell_type": "markdown",
   "metadata": {},
   "source": [
    "#### Set project folders"
   ]
  },
  {
   "cell_type": "code",
   "execution_count": 2,
   "metadata": {},
   "outputs": [],
   "source": [
    "PROJECT_FOLDER = os.path.dirname(os.path.dirname(os.getcwd()))\n",
    "RAW_DATA_FOLDER = os.path.join(PROJECT_FOLDER, 'data', 'raw')\n",
    "PROCESSED_DATA_FOLDER = os.path.join(PROJECT_FOLDER, 'data', 'processed')\n",
    "FINAL_DATA_FOLDER = os.path.join(PROJECT_FOLDER, 'data', 'final')"
   ]
  },
  {
   "cell_type": "markdown",
   "metadata": {},
   "source": [
    "#### Pandas settings"
   ]
  },
  {
   "cell_type": "code",
   "execution_count": 3,
   "metadata": {},
   "outputs": [],
   "source": [
    "pd.set_option(\"display.precision\", 3)\n",
    "pd.set_option(\"display.expand_frame_repr\", False)\n",
    "pd.set_option(\"display.max_rows\", 50)"
   ]
  },
  {
   "cell_type": "markdown",
   "metadata": {},
   "source": [
    "#### Load dataframe"
   ]
  },
  {
   "cell_type": "code",
   "execution_count": 4,
   "metadata": {},
   "outputs": [
    {
     "name": "stdout",
     "output_type": "stream",
     "text": [
      "<class 'pandas.core.frame.DataFrame'>\n",
      "RangeIndex: 3094 entries, 0 to 3093\n",
      "Columns: 443 entries, Start Date to Id\n",
      "dtypes: float64(339), int64(8), object(96)\n",
      "memory usage: 10.5+ MB\n"
     ]
    }
   ],
   "source": [
    "DATA =  os.path.join(\n",
    "    PROCESSED_DATA_FOLDER, \n",
    "    'experiment_1',\n",
    "    'data_processed.feather'\n",
    ")\n",
    "df = pd.read_feather(DATA)\n",
    "df.info()"
   ]
  },
  {
   "cell_type": "markdown",
   "metadata": {},
   "source": [
    "#### Drop timing variables and rename column headers"
   ]
  },
  {
   "cell_type": "code",
   "execution_count": 5,
   "metadata": {},
   "outputs": [],
   "source": [
    "to_drop = [\n",
    "    'First Click',\n",
    "    'Last Click',\n",
    "    'Click Count',\n",
    "]\n",
    "\n",
    "columns_to_drop = [x for x in df.columns for y in to_drop if y in x]\n",
    "df = df.drop(columns_to_drop, axis=1).rename(lambda x: x.capitalize(), axis=1)"
   ]
  },
  {
   "cell_type": "markdown",
   "metadata": {},
   "source": [
    "####  Rename columns"
   ]
  },
  {
   "cell_type": "code",
   "execution_count": 6,
   "metadata": {},
   "outputs": [],
   "source": [
    "df = df.rename(\n",
    "    columns={\n",
    "        df.columns[2]: \"Identification_timer\",\n",
    "        df.columns[3]: \"Instructions_timer\",\n",
    "        df.columns[4]: \"Trial_text\",\n",
    "        df.columns[5]: \"No_intervention_timer\",\n",
    "        df.columns[6]: \"Intervention_timer\",\n",
    "        df.columns[7]: \"Participation_answer\",\n",
    "        df.columns[168]: \"Enjoyment\",\n",
    "        df.columns[169]: \"Motivation\",\n",
    "        df.columns[170]: \"Future_motivation\",\n",
    "        df.columns[171]: \"Latin\",\n",
    "        df.columns[172]: \"Mobile_device\",\n",
    "        df.columns[173]: \"Touch_typing\",\n",
    "        df.columns[174]: \"Hours_keyboard\",\n",
    "        df.columns[175]: \"Age\",\n",
    "        df.columns[176]: \"Female\",\n",
    "        df.columns[177]: \"Education\",\n",
    "        df.columns[178]: \"Comments\",\n",
    "    })"
   ]
  },
  {
   "cell_type": "markdown",
   "metadata": {},
   "source": [
    "#### Relabel column headers"
   ]
  },
  {
   "cell_type": "code",
   "execution_count": 7,
   "metadata": {},
   "outputs": [],
   "source": [
    "counter = 0\n",
    "for column, title in enumerate(df.columns):\n",
    "    if 'page submit' in title:\n",
    "        counter += 1\n",
    "        df.rename(columns={df.columns[column]:f'Q{counter}_timer'}, inplace=True)\n",
    "    elif 'please enter' in title:\n",
    "        df.rename(columns={df.columns[column]:f'Q{counter}_answer'}, inplace=True)"
   ]
  },
  {
   "cell_type": "markdown",
   "metadata": {},
   "source": [
    "#### Make main effect columns"
   ]
  },
  {
   "cell_type": "code",
   "execution_count": 8,
   "metadata": {},
   "outputs": [],
   "source": [
    "cols = ['Performance_pay', 'Leadership_technique', 'Clarification']\n",
    "df[cols] = df['Treatment_str'].str.split('+', expand=True)"
   ]
  },
  {
   "cell_type": "markdown",
   "metadata": {},
   "source": [
    "#### Reorder treatment coding  "
   ]
  },
  {
   "cell_type": "code",
   "execution_count": 9,
   "metadata": {},
   "outputs": [
    {
     "data": {
      "text/html": [
       "<div>\n",
       "<style scoped>\n",
       "    .dataframe tbody tr th:only-of-type {\n",
       "        vertical-align: middle;\n",
       "    }\n",
       "\n",
       "    .dataframe tbody tr th {\n",
       "        vertical-align: top;\n",
       "    }\n",
       "\n",
       "    .dataframe thead th {\n",
       "        text-align: right;\n",
       "    }\n",
       "</style>\n",
       "<table border=\"1\" class=\"dataframe\">\n",
       "  <thead>\n",
       "    <tr style=\"text-align: right;\">\n",
       "      <th></th>\n",
       "      <th>Treatment</th>\n",
       "    </tr>\n",
       "  </thead>\n",
       "  <tbody>\n",
       "    <tr>\n",
       "      <th>No piece rate + No message</th>\n",
       "      <td>0</td>\n",
       "    </tr>\n",
       "    <tr>\n",
       "      <th>No piece rate + Praise</th>\n",
       "      <td>1</td>\n",
       "    </tr>\n",
       "    <tr>\n",
       "      <th>No piece rate + Reference point</th>\n",
       "      <td>2</td>\n",
       "    </tr>\n",
       "    <tr>\n",
       "      <th>Low piece rate + No message</th>\n",
       "      <td>3</td>\n",
       "    </tr>\n",
       "    <tr>\n",
       "      <th>Low piece rate + Praise</th>\n",
       "      <td>4</td>\n",
       "    </tr>\n",
       "    <tr>\n",
       "      <th>Low piece rate + Reference point</th>\n",
       "      <td>5</td>\n",
       "    </tr>\n",
       "    <tr>\n",
       "      <th>High piece rate + No message</th>\n",
       "      <td>6</td>\n",
       "    </tr>\n",
       "    <tr>\n",
       "      <th>High piece rate + Praise</th>\n",
       "      <td>7</td>\n",
       "    </tr>\n",
       "    <tr>\n",
       "      <th>High piece rate + Reference point</th>\n",
       "      <td>8</td>\n",
       "    </tr>\n",
       "    <tr>\n",
       "      <th>Low piece rate + No message + Clarification</th>\n",
       "      <td>9</td>\n",
       "    </tr>\n",
       "    <tr>\n",
       "      <th>Low piece rate + Praise + Clarification</th>\n",
       "      <td>10</td>\n",
       "    </tr>\n",
       "    <tr>\n",
       "      <th>High piece rate + No message + Clarification</th>\n",
       "      <td>11</td>\n",
       "    </tr>\n",
       "    <tr>\n",
       "      <th>High piece rate + Praise + Clarification</th>\n",
       "      <td>12</td>\n",
       "    </tr>\n",
       "  </tbody>\n",
       "</table>\n",
       "</div>"
      ],
      "text/plain": [
       "                                              Treatment\n",
       "No piece rate + No message                            0\n",
       "No piece rate + Praise                                1\n",
       "No piece rate + Reference point                       2\n",
       "Low piece rate + No message                           3\n",
       "Low piece rate + Praise                               4\n",
       "Low piece rate + Reference point                      5\n",
       "High piece rate + No message                          6\n",
       "High piece rate + Praise                              7\n",
       "High piece rate + Reference point                     8\n",
       "Low piece rate + No message + Clarification           9\n",
       "Low piece rate + Praise + Clarification              10\n",
       "High piece rate + No message + Clarification         11\n",
       "High piece rate + Praise + Clarification             12"
      ]
     },
     "execution_count": 9,
     "metadata": {},
     "output_type": "execute_result"
    }
   ],
   "source": [
    "treat_order = pd.Index([\n",
    "    'No piece rate + No message',\n",
    "    'No piece rate + Praise',\n",
    "    'No piece rate + Reference point',\n",
    "    'Low piece rate + No message',\n",
    "    'Low piece rate + Praise',\n",
    "    'Low piece rate + Reference point',\n",
    "    'High piece rate + No message',\n",
    "    'High piece rate + Praise',\n",
    "    'High piece rate + Reference point',\n",
    "    'Low piece rate + No message + Clarification',\n",
    "    'Low piece rate + Praise + Clarification',\n",
    "    'High piece rate + No message + Clarification',\n",
    "    'High piece rate + Praise + Clarification',\n",
    "    ], dtype='object')\n",
    "\n",
    "df['Treatment'] = df['Treatment_str']\\\n",
    "    .astype('category')\\\n",
    "    .cat.set_categories(treat_order)\\\n",
    "    .cat.codes\n",
    "\n",
    "treat_table = df\\\n",
    "    .groupby(['Treatment_str'])['Treatment']\\\n",
    "    .first()\\\n",
    "    .to_frame()\\\n",
    "    .reindex(treat_order)\n",
    "\n",
    "treat_table"
   ]
  },
  {
   "cell_type": "markdown",
   "metadata": {},
   "source": [
    "#### Make treatment string for each main effect "
   ]
  },
  {
   "cell_type": "code",
   "execution_count": 10,
   "metadata": {},
   "outputs": [],
   "source": [
    "df['No_message'] = df['Treatment'].isin([0, 3, 6, 9, 11]).astype(int)\n",
    "df['Praise'] = df['Treatment'].isin([1, 4, 7, 10, 12]).astype(int)\n",
    "df['Reference_point'] = df['Treatment'].isin([2, 5, 8]).astype(int)\n",
    "df['No_piece_rate'] = df['Treatment'].isin([0, 1, 2]).astype(int)\n",
    "df['Low_piece_rate'] = df['Treatment'].isin([3, 4, 5, 9, 10]).astype(int)\n",
    "df['High_piece_rate'] = df['Treatment'].isin([6, 7, 8, 11, 12]).astype(int)\n",
    "df['Clarification'] = df['Treatment'].isin([9, 10, 11, 12]).astype(int)"
   ]
  },
  {
   "cell_type": "markdown",
   "metadata": {},
   "source": [
    "#### Convert timeseries columns"
   ]
  },
  {
   "cell_type": "code",
   "execution_count": 11,
   "metadata": {},
   "outputs": [],
   "source": [
    "timseries = ['Start date', 'End date']\n",
    "for series in timseries:\n",
    "    df[series] = pd.to_datetime(df[series], infer_datetime_format=True)\n",
    "\n",
    "df['Duration_survey'] = (df['End date'] - df['Start date']).dt.seconds\n",
    "df['Duration_work'] = df['End_time'] - df['Start_time']\n",
    "\n",
    "df = df.drop(df.columns[[0, 1, 185, 186]], axis=1)"
   ]
  },
  {
   "cell_type": "markdown",
   "metadata": {},
   "source": [
    "#### Identify subjects for which the timer did not work (i.e. 10 min. +/- 5%)"
   ]
  },
  {
   "cell_type": "code",
   "execution_count": 12,
   "metadata": {},
   "outputs": [
    {
     "data": {
      "text/html": [
       "<div>\n",
       "<style scoped>\n",
       "    .dataframe tbody tr th:only-of-type {\n",
       "        vertical-align: middle;\n",
       "    }\n",
       "\n",
       "    .dataframe tbody tr th {\n",
       "        vertical-align: top;\n",
       "    }\n",
       "\n",
       "    .dataframe thead th {\n",
       "        text-align: right;\n",
       "    }\n",
       "</style>\n",
       "<table border=\"1\" class=\"dataframe\">\n",
       "  <thead>\n",
       "    <tr style=\"text-align: right;\">\n",
       "      <th></th>\n",
       "      <th>Treatment</th>\n",
       "      <th>Duration work</th>\n",
       "      <th>Counter</th>\n",
       "    </tr>\n",
       "  </thead>\n",
       "  <tbody>\n",
       "    <tr>\n",
       "      <th>713</th>\n",
       "      <td>1</td>\n",
       "      <td>394.0</td>\n",
       "      <td>15</td>\n",
       "    </tr>\n",
       "    <tr>\n",
       "      <th>2596</th>\n",
       "      <td>2</td>\n",
       "      <td>503.0</td>\n",
       "      <td>59</td>\n",
       "    </tr>\n",
       "    <tr>\n",
       "      <th>2027</th>\n",
       "      <td>12</td>\n",
       "      <td>634.0</td>\n",
       "      <td>35</td>\n",
       "    </tr>\n",
       "    <tr>\n",
       "      <th>2106</th>\n",
       "      <td>12</td>\n",
       "      <td>636.0</td>\n",
       "      <td>0</td>\n",
       "    </tr>\n",
       "    <tr>\n",
       "      <th>660</th>\n",
       "      <td>0</td>\n",
       "      <td>640.0</td>\n",
       "      <td>20</td>\n",
       "    </tr>\n",
       "    <tr>\n",
       "      <th>695</th>\n",
       "      <td>7</td>\n",
       "      <td>642.0</td>\n",
       "      <td>14</td>\n",
       "    </tr>\n",
       "    <tr>\n",
       "      <th>392</th>\n",
       "      <td>3</td>\n",
       "      <td>654.0</td>\n",
       "      <td>13</td>\n",
       "    </tr>\n",
       "    <tr>\n",
       "      <th>3047</th>\n",
       "      <td>2</td>\n",
       "      <td>655.0</td>\n",
       "      <td>13</td>\n",
       "    </tr>\n",
       "    <tr>\n",
       "      <th>577</th>\n",
       "      <td>6</td>\n",
       "      <td>670.0</td>\n",
       "      <td>3</td>\n",
       "    </tr>\n",
       "    <tr>\n",
       "      <th>2783</th>\n",
       "      <td>2</td>\n",
       "      <td>675.0</td>\n",
       "      <td>12</td>\n",
       "    </tr>\n",
       "    <tr>\n",
       "      <th>1295</th>\n",
       "      <td>3</td>\n",
       "      <td>684.0</td>\n",
       "      <td>16</td>\n",
       "    </tr>\n",
       "    <tr>\n",
       "      <th>600</th>\n",
       "      <td>4</td>\n",
       "      <td>710.0</td>\n",
       "      <td>24</td>\n",
       "    </tr>\n",
       "    <tr>\n",
       "      <th>2312</th>\n",
       "      <td>5</td>\n",
       "      <td>748.0</td>\n",
       "      <td>1</td>\n",
       "    </tr>\n",
       "    <tr>\n",
       "      <th>42</th>\n",
       "      <td>0</td>\n",
       "      <td>784.0</td>\n",
       "      <td>14</td>\n",
       "    </tr>\n",
       "    <tr>\n",
       "      <th>621</th>\n",
       "      <td>3</td>\n",
       "      <td>810.0</td>\n",
       "      <td>14</td>\n",
       "    </tr>\n",
       "    <tr>\n",
       "      <th>2799</th>\n",
       "      <td>5</td>\n",
       "      <td>1777.0</td>\n",
       "      <td>4</td>\n",
       "    </tr>\n",
       "    <tr>\n",
       "      <th>1158</th>\n",
       "      <td>1</td>\n",
       "      <td>1848.0</td>\n",
       "      <td>8</td>\n",
       "    </tr>\n",
       "    <tr>\n",
       "      <th>528</th>\n",
       "      <td>6</td>\n",
       "      <td>2698.0</td>\n",
       "      <td>0</td>\n",
       "    </tr>\n",
       "  </tbody>\n",
       "</table>\n",
       "</div>"
      ],
      "text/plain": [
       "      Treatment  Duration work  Counter\n",
       "713           1          394.0       15\n",
       "2596          2          503.0       59\n",
       "2027         12          634.0       35\n",
       "2106         12          636.0        0\n",
       "660           0          640.0       20\n",
       "695           7          642.0       14\n",
       "392           3          654.0       13\n",
       "3047          2          655.0       13\n",
       "577           6          670.0        3\n",
       "2783          2          675.0       12\n",
       "1295          3          684.0       16\n",
       "600           4          710.0       24\n",
       "2312          5          748.0        1\n",
       "42            0          784.0       14\n",
       "621           3          810.0       14\n",
       "2799          5         1777.0        4\n",
       "1158          1         1848.0        8\n",
       "528           6         2698.0        0"
      ]
     },
     "execution_count": 12,
     "metadata": {},
     "output_type": "execute_result"
    }
   ],
   "source": [
    "low_limit = (df['Duration_work'] < 600 * 0.95)\n",
    "up_limit = (df['Duration_work'] > 600 * 1.05)\n",
    "broken_timer = (low_limit | up_limit)\n",
    "\n",
    "broken_columns = ['Treatment', 'Duration_work', 'Counter']\n",
    "df_broken = df.loc[broken_timer, broken_columns]\\\n",
    "    .sort_values(by='Duration_work')\\\n",
    "    .rename(lambda x: x.capitalize().replace('_', ' '), axis=1)\n",
    "\n",
    "df_broken"
   ]
  },
  {
   "cell_type": "markdown",
   "metadata": {},
   "source": [
    "#### Remove subjects for which the timer did not work"
   ]
  },
  {
   "cell_type": "code",
   "execution_count": 13,
   "metadata": {},
   "outputs": [
    {
     "name": "stdout",
     "output_type": "stream",
     "text": [
      "<class 'pandas.core.frame.DataFrame'>\n",
      "RangeIndex: 3076 entries, 0 to 3075\n",
      "Columns: 198 entries, Identification_timer to Duration_work\n",
      "dtypes: float64(87), int64(14), int8(1), object(96)\n",
      "memory usage: 4.6+ MB\n"
     ]
    }
   ],
   "source": [
    "df = df[~broken_timer].reset_index(drop=True)\n",
    "df.info()"
   ]
  },
  {
   "cell_type": "markdown",
   "metadata": {},
   "source": [
    "#### Type convert string variables to integer variables"
   ]
  },
  {
   "cell_type": "code",
   "execution_count": 14,
   "metadata": {},
   "outputs": [],
   "source": [
    "genders = {'Male': 0, 'Female': 1}\n",
    "df['Female'] = df['Female'].replace(genders)\n",
    "\n",
    "device = {'No': 0, 'Yes': 1}\n",
    "df['Mobile_device'] = df['Mobile_device'].replace(device)"
   ]
  },
  {
   "cell_type": "markdown",
   "metadata": {},
   "source": [
    "#### Type convert categorial variables to integer variables"
   ]
  },
  {
   "cell_type": "code",
   "execution_count": 15,
   "metadata": {},
   "outputs": [],
   "source": [
    "categorial = [\n",
    "    'Enjoyment', \n",
    "    'Motivation', \n",
    "    'Future_motivation', \n",
    "    'Latin', \n",
    "    'Touch_typing',\n",
    "]\n",
    "for cats in categorial:\n",
    "    df[cats] = df[cats].astype('category').cat.codes + 1"
   ]
  },
  {
   "cell_type": "markdown",
   "metadata": {},
   "source": [
    "#### Generate binary knowledge of latin variable"
   ]
  },
  {
   "cell_type": "code",
   "execution_count": 16,
   "metadata": {},
   "outputs": [],
   "source": [
    "df['Latin_med'] = (df['Latin'] > df['Latin'].median()).astype(int)"
   ]
  },
  {
   "cell_type": "markdown",
   "metadata": {},
   "source": [
    "#### Recode education variable"
   ]
  },
  {
   "cell_type": "code",
   "execution_count": 17,
   "metadata": {},
   "outputs": [],
   "source": [
    "education_ordered = pd.Index([\n",
    "    u'High School / GED',\n",
    "    u'Some College',\n",
    "    u'2-year College Degree',\n",
    "    u'4-year College Degree',\n",
    "    u'Masters Degree',\n",
    "    u'Doctoral Degree',\n",
    "], dtype='object')\n",
    "\n",
    "to_replace = {'Professional Degree (JD, MD)': 'Doctoral Degree'}\n",
    "df['Education'] = df['Education']\\\n",
    "    .replace(to_replace)\\\n",
    "    .astype('category')\\\n",
    "    .cat.set_categories(education_ordered)\\\n",
    "    .cat.codes\\\n",
    "    .pipe(lambda x: x+1)"
   ]
  },
  {
   "cell_type": "markdown",
   "metadata": {},
   "source": [
    "#### Remove leading/trailing whitespace and linebreaks"
   ]
  },
  {
   "cell_type": "code",
   "execution_count": 18,
   "metadata": {},
   "outputs": [],
   "source": [
    "def remove_whitespace(x):\n",
    "    if isinstance(x, str):\n",
    "        return x.strip().replace('\\n', ' ').replace('\\r', '')\n",
    "    else:\n",
    "        return x\n",
    "\n",
    "df = df.applymap(remove_whitespace)"
   ]
  },
  {
   "cell_type": "markdown",
   "metadata": {},
   "source": [
    "#### Replace empty strings with nan values"
   ]
  },
  {
   "cell_type": "code",
   "execution_count": 19,
   "metadata": {},
   "outputs": [],
   "source": [
    "answer_cols = [f'Q{x}_answer' for x in range(1, 81)]\n",
    "df.loc[:, answer_cols] = df.loc[:, answer_cols].replace({'': np.nan})"
   ]
  },
  {
   "cell_type": "markdown",
   "metadata": {},
   "source": [
    "#### Count non-empty answers (nb.: the last submission is not counted)"
   ]
  },
  {
   "cell_type": "code",
   "execution_count": 20,
   "metadata": {},
   "outputs": [],
   "source": [
    "def count_non_empty(row: pd.Series) ->int:\n",
    "    \"\"\"\n",
    "    Count actual number of submitted fragments.\n",
    "    \n",
    "    This function counts only non-empty submissions. \n",
    "    It takes account of the fact that workers\n",
    "    skip fragments.\n",
    "    \"\"\"\n",
    "    raw_submits = row['Counter']\n",
    "    answer_columns = [f'Q{x}_answer' for x in range(1, raw_submits + 1)]\n",
    "    return row[answer_columns].count()\n",
    "\n",
    "\n",
    "df['Counter_real'] = df.apply(count_non_empty, axis=1)"
   ]
  },
  {
   "cell_type": "markdown",
   "metadata": {},
   "source": [
    "#### Display dataframe section with submitted fragments and counter"
   ]
  },
  {
   "cell_type": "code",
   "execution_count": 21,
   "metadata": {},
   "outputs": [
    {
     "data": {
      "text/html": [
       "<div>\n",
       "<style scoped>\n",
       "    .dataframe tbody tr th:only-of-type {\n",
       "        vertical-align: middle;\n",
       "    }\n",
       "\n",
       "    .dataframe tbody tr th {\n",
       "        vertical-align: top;\n",
       "    }\n",
       "\n",
       "    .dataframe thead th {\n",
       "        text-align: right;\n",
       "    }\n",
       "</style>\n",
       "<table border=\"1\" class=\"dataframe\">\n",
       "  <thead>\n",
       "    <tr style=\"text-align: right;\">\n",
       "      <th></th>\n",
       "      <th>Q21_answer</th>\n",
       "      <th>Q22_answer</th>\n",
       "      <th>Q23_answer</th>\n",
       "      <th>Q24_answer</th>\n",
       "      <th>Counter</th>\n",
       "      <th>Counter_real</th>\n",
       "    </tr>\n",
       "  </thead>\n",
       "  <tbody>\n",
       "    <tr>\n",
       "      <th>0</th>\n",
       "      <td>ego aduc nulli nisi provecto iam credidid; mih...</td>\n",
       "      <td>nomen missu</td>\n",
       "      <td>None</td>\n",
       "      <td>None</td>\n",
       "      <td>21</td>\n",
       "      <td>21</td>\n",
       "    </tr>\n",
       "    <tr>\n",
       "      <th>15</th>\n",
       "      <td>ego adhur nulli nisi provecto iam credidi: mih...</td>\n",
       "      <td>nomen missum non esset. Probum principem fieri.</td>\n",
       "      <td>None</td>\n",
       "      <td>None</td>\n",
       "      <td>21</td>\n",
       "      <td>21</td>\n",
       "    </tr>\n",
       "    <tr>\n",
       "      <th>16</th>\n",
       "      <td>ego adhuc nulli nisi provecto iam credidi; mih...</td>\n",
       "      <td>nomen missum non esset. Probum prinicipem fieri.</td>\n",
       "      <td>regenas legiones accepit. credebat cum gratula...</td>\n",
       "      <td>oppressit, paucis</td>\n",
       "      <td>23</td>\n",
       "      <td>23</td>\n",
       "    </tr>\n",
       "    <tr>\n",
       "      <th>22</th>\n",
       "      <td>ego adhuc nulli nisi provecto iam credidi; mih...</td>\n",
       "      <td>nomen missum non esset. Probum principem fieri.</td>\n",
       "      <td>regendas legiones accepit.  credebat cum gratu...</td>\n",
       "      <td>None</td>\n",
       "      <td>22</td>\n",
       "      <td>22</td>\n",
       "    </tr>\n",
       "    <tr>\n",
       "      <th>25</th>\n",
       "      <td>ego adhuc nulli nisi provecto iam credidi; mih...</td>\n",
       "      <td>None</td>\n",
       "      <td>None</td>\n",
       "      <td>None</td>\n",
       "      <td>20</td>\n",
       "      <td>20</td>\n",
       "    </tr>\n",
       "    <tr>\n",
       "      <th>...</th>\n",
       "      <td>...</td>\n",
       "      <td>...</td>\n",
       "      <td>...</td>\n",
       "      <td>...</td>\n",
       "      <td>...</td>\n",
       "      <td>...</td>\n",
       "    </tr>\n",
       "    <tr>\n",
       "      <th>3053</th>\n",
       "      <td>ego adhuc nulli nisi provecto iam credidi; mih...</td>\n",
       "      <td>nomen missum non esset. Probum prinipem fieri.</td>\n",
       "      <td>regendas legiones accepit. credebat cum gratul...</td>\n",
       "      <td>oppr</td>\n",
       "      <td>23</td>\n",
       "      <td>23</td>\n",
       "    </tr>\n",
       "    <tr>\n",
       "      <th>3054</th>\n",
       "      <td>None</td>\n",
       "      <td>None</td>\n",
       "      <td>None</td>\n",
       "      <td>None</td>\n",
       "      <td>20</td>\n",
       "      <td>20</td>\n",
       "    </tr>\n",
       "    <tr>\n",
       "      <th>3056</th>\n",
       "      <td>ego adhue nulli nisi provecto iam credidi; mih...</td>\n",
       "      <td>nomen missum non esset. Probum principem fi</td>\n",
       "      <td>None</td>\n",
       "      <td>None</td>\n",
       "      <td>21</td>\n",
       "      <td>21</td>\n",
       "    </tr>\n",
       "    <tr>\n",
       "      <th>3058</th>\n",
       "      <td>ego adhue nulli nisi provecto iam credidi mihi...</td>\n",
       "      <td>None</td>\n",
       "      <td>None</td>\n",
       "      <td>None</td>\n",
       "      <td>21</td>\n",
       "      <td>21</td>\n",
       "    </tr>\n",
       "    <tr>\n",
       "      <th>3072</th>\n",
       "      <td>ego adhuc nulli nisi provecto iam credidi; mih...</td>\n",
       "      <td>nomen missum non esset.  Probum principem fieri.</td>\n",
       "      <td>regendas legiones accepit.  credebat cum gratu...</td>\n",
       "      <td>oppressit, paucis domum cum gloria re</td>\n",
       "      <td>23</td>\n",
       "      <td>23</td>\n",
       "    </tr>\n",
       "  </tbody>\n",
       "</table>\n",
       "<p>506 rows × 6 columns</p>\n",
       "</div>"
      ],
      "text/plain": [
       "                                             Q21_answer                                        Q22_answer                                         Q23_answer                             Q24_answer  Counter  Counter_real\n",
       "0     ego aduc nulli nisi provecto iam credidid; mih...                                       nomen missu                                               None                                   None       21            21\n",
       "15    ego adhur nulli nisi provecto iam credidi: mih...   nomen missum non esset. Probum principem fieri.                                               None                                   None       21            21\n",
       "16    ego adhuc nulli nisi provecto iam credidi; mih...  nomen missum non esset. Probum prinicipem fieri.  regenas legiones accepit. credebat cum gratula...                      oppressit, paucis       23            23\n",
       "22    ego adhuc nulli nisi provecto iam credidi; mih...   nomen missum non esset. Probum principem fieri.  regendas legiones accepit.  credebat cum gratu...                                   None       22            22\n",
       "25    ego adhuc nulli nisi provecto iam credidi; mih...                                              None                                               None                                   None       20            20\n",
       "...                                                 ...                                               ...                                                ...                                    ...      ...           ...\n",
       "3053  ego adhuc nulli nisi provecto iam credidi; mih...    nomen missum non esset. Probum prinipem fieri.  regendas legiones accepit. credebat cum gratul...                                   oppr       23            23\n",
       "3054                                               None                                              None                                               None                                   None       20            20\n",
       "3056  ego adhue nulli nisi provecto iam credidi; mih...       nomen missum non esset. Probum principem fi                                               None                                   None       21            21\n",
       "3058  ego adhue nulli nisi provecto iam credidi mihi...                                              None                                               None                                   None       21            21\n",
       "3072  ego adhuc nulli nisi provecto iam credidi; mih...  nomen missum non esset.  Probum principem fieri.  regendas legiones accepit.  credebat cum gratu...  oppressit, paucis domum cum gloria re       23            23\n",
       "\n",
       "[506 rows x 6 columns]"
      ]
     },
     "execution_count": 21,
     "metadata": {},
     "output_type": "execute_result"
    }
   ],
   "source": [
    "mask = df['Counter'].between(20, 23)\n",
    "df.loc[mask, answer_cols[20:24] + ['Counter', 'Counter_real']]"
   ]
  },
  {
   "cell_type": "markdown",
   "metadata": {},
   "source": [
    "#### Generate columns with counter for emty submissions and share of empty submissions"
   ]
  },
  {
   "cell_type": "code",
   "execution_count": 22,
   "metadata": {},
   "outputs": [],
   "source": [
    "df['Counter_empty'] = df['Counter'] - df['Counter_real']\n",
    "df['Counter_quota'] = df['Counter_empty'] / df['Counter']"
   ]
  },
  {
   "cell_type": "markdown",
   "metadata": {},
   "source": [
    "#### Make dataframe with empty columns for soluton, edit distance and edit ratio, then join with main dataframe"
   ]
  },
  {
   "cell_type": "code",
   "execution_count": 23,
   "metadata": {},
   "outputs": [],
   "source": [
    "edit_cols = [\n",
    "    col for x in range(1, 81)\n",
    "    for col in (f'Q{x}_solution', f'Q{x}_distance', f'Q{x}_editratio')\n",
    "]\n",
    "\n",
    "edit_frame = pd.DataFrame(index=df.index, columns=edit_cols)\n",
    "df = df.merge(edit_frame, left_index=True, right_index=True)"
   ]
  },
  {
   "cell_type": "markdown",
   "metadata": {},
   "source": [
    "#### Make columns with correct solutions"
   ]
  },
  {
   "cell_type": "code",
   "execution_count": 24,
   "metadata": {},
   "outputs": [],
   "source": [
    "FRAGMENTS = os.path.join(PROCESSED_DATA_FOLDER, 'experiment_1', 'fragments.xlsx')\n",
    "\n",
    "df_fragments = pd.read_excel(\n",
    "    FRAGMENTS,\n",
    "    header=None,\n",
    "    names=[\"Keyword\", \"Solution\"],\n",
    "    engine='openpyxl',\n",
    "    )\\\n",
    "    .applymap(lambda x: x.strip())\\\n",
    "    .drop('Keyword', axis=1)\n",
    "\n",
    "for index, row in df_fragments.iterrows():\n",
    "    df[f'Q{index + 1}_solution'] = row['Solution']"
   ]
  },
  {
   "cell_type": "markdown",
   "metadata": {},
   "source": [
    "#### Calculate Levenshtein edit distance "
   ]
  },
  {
   "cell_type": "code",
   "execution_count": 25,
   "metadata": {},
   "outputs": [],
   "source": [
    "column_pairs = [(f'Q{x}_answer', f'Q{x}_solution') for x in range(1, 81)]\n",
    "df['Wildcard_count'] = np.nan\n",
    "\n",
    "for index, row in df.iterrows():\n",
    "\n",
    "    number_answers_submitted = row.at['Counter']\n",
    "    columns_to_check = column_pairs[:number_answers_submitted]\n",
    "    wildcard_count = 0\n",
    "    \n",
    "    for number, (answer_col, solution_col) in enumerate(columns_to_check, 1):\n",
    "        answer = row[answer_col]\n",
    "        solution = row[solution_col]\n",
    "\n",
    "        if isinstance(answer, str):\n",
    "            edit_distance = Levenshtein.distance(answer, solution)\n",
    "            edit_ratio = (edit_distance - answer.count('?')) / max(len(answer), len(solution))\n",
    "            wildcard_count += answer.count('?')\n",
    "            \n",
    "        else:\n",
    "            edit_distance = np.NAN\n",
    "            edit_ratio = np.NAN\n",
    "\n",
    "        dist_column = f'Q{number}_distance'\n",
    "        ratio_column = f'Q{number}_editratio'\n",
    "\n",
    "        df.at[index, dist_column] = edit_distance\n",
    "        df.at[index, ratio_column] = edit_ratio\n",
    "    \n",
    "    df.at[index, 'Wildcard_count'] = wildcard_count"
   ]
  },
  {
   "cell_type": "markdown",
   "metadata": {},
   "source": [
    "#### Manually inspecting answers and evaluations for submitted fragments"
   ]
  },
  {
   "cell_type": "code",
   "execution_count": 26,
   "metadata": {},
   "outputs": [
    {
     "data": {
      "text/html": [
       "<div>\n",
       "<style scoped>\n",
       "    .dataframe tbody tr th:only-of-type {\n",
       "        vertical-align: middle;\n",
       "    }\n",
       "\n",
       "    .dataframe tbody tr th {\n",
       "        vertical-align: top;\n",
       "    }\n",
       "\n",
       "    .dataframe thead th {\n",
       "        text-align: right;\n",
       "    }\n",
       "</style>\n",
       "<table border=\"1\" class=\"dataframe\">\n",
       "  <thead>\n",
       "    <tr style=\"text-align: right;\">\n",
       "      <th></th>\n",
       "      <th>Q15_answer</th>\n",
       "      <th>Q15_solution</th>\n",
       "      <th>Q15_distance</th>\n",
       "      <th>Q15_editratio</th>\n",
       "    </tr>\n",
       "  </thead>\n",
       "  <tbody>\n",
       "    <tr>\n",
       "      <th>0</th>\n",
       "      <td>?elicitas solita. Nam Aegyptum statim recepit atque.</td>\n",
       "      <td>felicitas solita. Nam Aegyptum statim recepit atque,</td>\n",
       "      <td>2</td>\n",
       "      <td>0.0192</td>\n",
       "    </tr>\n",
       "    <tr>\n",
       "      <th>1</th>\n",
       "      <td>lelicitas solita. Nam Aegyptum statim recepit atque.</td>\n",
       "      <td>felicitas solita. Nam Aegyptum statim recepit atque,</td>\n",
       "      <td>2</td>\n",
       "      <td>0.0385</td>\n",
       "    </tr>\n",
       "    <tr>\n",
       "      <th>2</th>\n",
       "      <td>felicitas solita. Nam Aegyptum statim recepit atque,</td>\n",
       "      <td>felicitas solita. Nam Aegyptum statim recepit atque,</td>\n",
       "      <td>0</td>\n",
       "      <td>0</td>\n",
       "    </tr>\n",
       "    <tr>\n",
       "      <th>6</th>\n",
       "      <td>felicitas solita. Nam Aegyptum statim recepit atque.</td>\n",
       "      <td>felicitas solita. Nam Aegyptum statim recepit atque,</td>\n",
       "      <td>1</td>\n",
       "      <td>0.0192</td>\n",
       "    </tr>\n",
       "    <tr>\n",
       "      <th>7</th>\n",
       "      <td>felicitas solita. Nam Aegyptum statim recepit atque.</td>\n",
       "      <td>felicitas solita. Nam Aegyptum statim recepit atque,</td>\n",
       "      <td>1</td>\n",
       "      <td>0.0192</td>\n",
       "    </tr>\n",
       "    <tr>\n",
       "      <th>8</th>\n",
       "      <td>felicitas solita. Nam Aegyptum statim recepit atque</td>\n",
       "      <td>felicitas solita. Nam Aegyptum statim recepit atque,</td>\n",
       "      <td>1</td>\n",
       "      <td>0.0192</td>\n",
       "    </tr>\n",
       "    <tr>\n",
       "      <th>9</th>\n",
       "      <td>felicitas solita. Nam Aegyptum statim recepit atque,</td>\n",
       "      <td>felicitas solita. Nam Aegyptum statim recepit atque,</td>\n",
       "      <td>0</td>\n",
       "      <td>0</td>\n",
       "    </tr>\n",
       "    <tr>\n",
       "      <th>10</th>\n",
       "      <td>felicitas solita. Nam Aegyptum statim recepit atque,</td>\n",
       "      <td>felicitas solita. Nam Aegyptum statim recepit atque,</td>\n",
       "      <td>0</td>\n",
       "      <td>0</td>\n",
       "    </tr>\n",
       "    <tr>\n",
       "      <th>11</th>\n",
       "      <td>felicitas solita. nam aegyptum statim recepit atque</td>\n",
       "      <td>felicitas solita. Nam Aegyptum statim recepit atque,</td>\n",
       "      <td>3</td>\n",
       "      <td>0.0577</td>\n",
       "    </tr>\n",
       "    <tr>\n",
       "      <th>12</th>\n",
       "      <td>felicitas solita. Nam Aehyptum statim recepit atque.</td>\n",
       "      <td>felicitas solita. Nam Aegyptum statim recepit atque,</td>\n",
       "      <td>2</td>\n",
       "      <td>0.0385</td>\n",
       "    </tr>\n",
       "    <tr>\n",
       "      <th>15</th>\n",
       "      <td>felicitas solita. Nam Aegyptum statim receipt atque</td>\n",
       "      <td>felicitas solita. Nam Aegyptum statim recepit atque,</td>\n",
       "      <td>3</td>\n",
       "      <td>0.0577</td>\n",
       "    </tr>\n",
       "    <tr>\n",
       "      <th>16</th>\n",
       "      <td>felicitas solita. Nam Aegyptum statim recepit atque,</td>\n",
       "      <td>felicitas solita. Nam Aegyptum statim recepit atque,</td>\n",
       "      <td>0</td>\n",
       "      <td>0</td>\n",
       "    </tr>\n",
       "    <tr>\n",
       "      <th>17</th>\n",
       "      <td>felicitas solita.  Nam Aegyptium statim recepit atque,</td>\n",
       "      <td>felicitas solita. Nam Aegyptum statim recepit atque,</td>\n",
       "      <td>2</td>\n",
       "      <td>0.037</td>\n",
       "    </tr>\n",
       "    <tr>\n",
       "      <th>19</th>\n",
       "      <td>felicitas solita. Nam Aegyptum statim recepit atque.</td>\n",
       "      <td>felicitas solita. Nam Aegyptum statim recepit atque,</td>\n",
       "      <td>1</td>\n",
       "      <td>0.0192</td>\n",
       "    </tr>\n",
       "    <tr>\n",
       "      <th>20</th>\n",
       "      <td>felicitas solita. Nam Aegyptum statim recepit atque,</td>\n",
       "      <td>felicitas solita. Nam Aegyptum statim recepit atque,</td>\n",
       "      <td>0</td>\n",
       "      <td>0</td>\n",
       "    </tr>\n",
       "  </tbody>\n",
       "</table>\n",
       "</div>"
      ],
      "text/plain": [
       "                                                Q15_answer                                          Q15_solution Q15_distance Q15_editratio\n",
       "0     ?elicitas solita. Nam Aegyptum statim recepit atque.  felicitas solita. Nam Aegyptum statim recepit atque,            2        0.0192\n",
       "1     lelicitas solita. Nam Aegyptum statim recepit atque.  felicitas solita. Nam Aegyptum statim recepit atque,            2        0.0385\n",
       "2     felicitas solita. Nam Aegyptum statim recepit atque,  felicitas solita. Nam Aegyptum statim recepit atque,            0             0\n",
       "6     felicitas solita. Nam Aegyptum statim recepit atque.  felicitas solita. Nam Aegyptum statim recepit atque,            1        0.0192\n",
       "7     felicitas solita. Nam Aegyptum statim recepit atque.  felicitas solita. Nam Aegyptum statim recepit atque,            1        0.0192\n",
       "8      felicitas solita. Nam Aegyptum statim recepit atque  felicitas solita. Nam Aegyptum statim recepit atque,            1        0.0192\n",
       "9     felicitas solita. Nam Aegyptum statim recepit atque,  felicitas solita. Nam Aegyptum statim recepit atque,            0             0\n",
       "10    felicitas solita. Nam Aegyptum statim recepit atque,  felicitas solita. Nam Aegyptum statim recepit atque,            0             0\n",
       "11     felicitas solita. nam aegyptum statim recepit atque  felicitas solita. Nam Aegyptum statim recepit atque,            3        0.0577\n",
       "12    felicitas solita. Nam Aehyptum statim recepit atque.  felicitas solita. Nam Aegyptum statim recepit atque,            2        0.0385\n",
       "15     felicitas solita. Nam Aegyptum statim receipt atque  felicitas solita. Nam Aegyptum statim recepit atque,            3        0.0577\n",
       "16    felicitas solita. Nam Aegyptum statim recepit atque,  felicitas solita. Nam Aegyptum statim recepit atque,            0             0\n",
       "17  felicitas solita.  Nam Aegyptium statim recepit atque,  felicitas solita. Nam Aegyptum statim recepit atque,            2         0.037\n",
       "19    felicitas solita. Nam Aegyptum statim recepit atque.  felicitas solita. Nam Aegyptum statim recepit atque,            1        0.0192\n",
       "20    felicitas solita. Nam Aegyptum statim recepit atque,  felicitas solita. Nam Aegyptum statim recepit atque,            0             0"
      ]
     },
     "metadata": {},
     "output_type": "display_data"
    }
   ],
   "source": [
    "x = 15\n",
    "cols = [\n",
    "    f'Q{x}_answer', \n",
    "    f'Q{x}_solution', \n",
    "    f'Q{x}_distance',\n",
    "    f'Q{x}_editratio', \n",
    "]\n",
    "\n",
    "with pd.option_context(\"display.max_colwidth\", 120):\n",
    "    display(df.loc[(df['Counter'] >= x), cols].head(15))"
   ]
  },
  {
   "cell_type": "markdown",
   "metadata": {},
   "source": [
    "#### Order dataframe columns"
   ]
  },
  {
   "cell_type": "code",
   "execution_count": 27,
   "metadata": {},
   "outputs": [],
   "source": [
    "cols = [\n",
    "    'Q{0}_answer',\n",
    "    'Q{0}_solution',\n",
    "    'Q{0}_distance',\n",
    "    'Q{0}_editratio',\n",
    "    'Q{0}_timer',\n",
    "]\n",
    "\n",
    "ques_cols = [elem.format(x) for x in range(1, 81) for elem in cols]\n",
    "main = list(df.columns.difference(ques_cols))\n",
    "df = df.reindex(main + ques_cols, axis=1)"
   ]
  },
  {
   "cell_type": "markdown",
   "metadata": {},
   "source": [
    "#### Save dataframe"
   ]
  },
  {
   "cell_type": "code",
   "execution_count": 28,
   "metadata": {},
   "outputs": [],
   "source": [
    "path = os.path.join(FINAL_DATA_FOLDER, 'experiment_1')\n",
    "df.to_csv(os.path.join(path, 'data_final.csv'))\n",
    "df.to_feather(os.path.join(path, 'data_final.feather'))"
   ]
  },
  {
   "cell_type": "code",
   "execution_count": 29,
   "metadata": {
    "pycharm": {
     "name": "#%%\n"
    }
   },
   "outputs": [
    {
     "name": "stdout",
     "output_type": "stream",
     "text": [
      "[NbConvertApp] Converting notebook 1_make_dataset.ipynb to html\n",
      "[NbConvertApp] Writing 655356 bytes to docs/1_make_dataset.html\n"
     ]
    }
   ],
   "source": [
    "!jupyter nbconvert --output-dir='./docs' --to html 1_make_dataset.ipynb"
   ]
  }
 ],
 "metadata": {
  "hide_input": false,
  "kernelspec": {
   "display_name": "Python 3",
   "language": "python",
   "name": "python3"
  },
  "language_info": {
   "codemirror_mode": {
    "name": "ipython",
    "version": 3
   },
   "file_extension": ".py",
   "mimetype": "text/x-python",
   "name": "python",
   "nbconvert_exporter": "python",
   "pygments_lexer": "ipython3",
   "version": "3.8.10"
  }
 },
 "nbformat": 4,
 "nbformat_minor": 2
}
