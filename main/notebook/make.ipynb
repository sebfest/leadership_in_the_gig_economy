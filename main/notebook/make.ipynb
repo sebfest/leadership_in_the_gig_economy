{
 "cells": [
  {
   "cell_type": "markdown",
   "metadata": {},
   "source": [
    "#### Import modules"
   ]
  },
  {
   "cell_type": "code",
   "execution_count": 1,
   "metadata": {},
   "outputs": [],
   "source": [
    "import numpy as np #matrix  manipulation\n",
    "import os #filesystem support\n",
    "import pandas as pd #dataframe \n",
    "import Levenshtein #calculating edit distance"
   ]
  },
  {
   "cell_type": "markdown",
   "metadata": {},
   "source": [
    "#### Set working directory"
   ]
  },
  {
   "cell_type": "code",
   "execution_count": 2,
   "metadata": {},
   "outputs": [],
   "source": [
    "os.getcwd()\n",
    "os.chdir('..')"
   ]
  },
  {
   "cell_type": "markdown",
   "metadata": {},
   "source": [
    "#### Set dataframe directory"
   ]
  },
  {
   "cell_type": "code",
   "execution_count": 3,
   "metadata": {},
   "outputs": [],
   "source": [
    "data_folder = os.path.join(os.getcwd(), 'source')"
   ]
  },
  {
   "cell_type": "markdown",
   "metadata": {},
   "source": [
    "#### Load dataframe"
   ]
  },
  {
   "cell_type": "code",
   "execution_count": 4,
   "metadata": {},
   "outputs": [],
   "source": [
    "data_raw = os.path.join(data_folder, 'data_raw.feather')\n",
    "df = pd.read_feather(data_raw)"
   ]
  },
  {
   "cell_type": "markdown",
   "metadata": {},
   "source": [
    "#### Display dataframe information"
   ]
  },
  {
   "cell_type": "code",
   "execution_count": 5,
   "metadata": {
    "scrolled": true
   },
   "outputs": [
    {
     "name": "stdout",
     "output_type": "stream",
     "text": [
      "<class 'pandas.core.frame.DataFrame'>\n",
      "RangeIndex: 3094 entries, 0 to 3093\n",
      "Data columns (total 189 columns):\n",
      "workerid                 int64\n",
      "Start Date               object\n",
      "End Date                 object\n",
      "identification_timer     float64\n",
      "instructions_timer       float64\n",
      "trial_text               object\n",
      "no_intervention_timer    float64\n",
      "intervention_timer       float64\n",
      "participation_answer     object\n",
      "question1_timer          float64\n",
      "question1_answer         object\n",
      "question2_timer          float64\n",
      "question2_answer         object\n",
      "question3_timer          float64\n",
      "question3_answer         object\n",
      "question4_timer          float64\n",
      "question4_answer         object\n",
      "question5_timer          float64\n",
      "question5_answer         object\n",
      "question6_timer          float64\n",
      "question6_answer         object\n",
      "question7_timer          float64\n",
      "question7_answer         object\n",
      "question8_timer          float64\n",
      "question8_answer         object\n",
      "question9_timer          float64\n",
      "question9_answer         object\n",
      "question10_timer         float64\n",
      "question10_answer        object\n",
      "question11_timer         float64\n",
      "question11_answer        object\n",
      "question12_timer         float64\n",
      "question12_answer        object\n",
      "question13_timer         float64\n",
      "question13_answer        object\n",
      "question14_timer         float64\n",
      "question14_answer        object\n",
      "question15_timer         float64\n",
      "question15_answer        object\n",
      "question16_timer         float64\n",
      "question16_answer        object\n",
      "question17_timer         float64\n",
      "question17_answer        object\n",
      "question18_timer         float64\n",
      "question18_answer        object\n",
      "question19_timer         float64\n",
      "question19_answer        object\n",
      "question20_timer         float64\n",
      "question20_answer        object\n",
      "question21_timer         float64\n",
      "question21_answer        object\n",
      "question22_timer         float64\n",
      "question22_answer        object\n",
      "question23_timer         float64\n",
      "question23_answer        object\n",
      "question24_timer         float64\n",
      "question24_answer        object\n",
      "question25_timer         float64\n",
      "question25_answer        object\n",
      "question26_timer         float64\n",
      "question26_answer        object\n",
      "question27_timer         float64\n",
      "question27_answer        object\n",
      "question28_timer         float64\n",
      "question28_answer        object\n",
      "question29_timer         float64\n",
      "question29_answer        object\n",
      "question30_timer         float64\n",
      "question30_answer        object\n",
      "question31_timer         float64\n",
      "question31_answer        object\n",
      "question32_timer         float64\n",
      "question32_answer        object\n",
      "question33_timer         float64\n",
      "question33_answer        object\n",
      "question34_timer         float64\n",
      "question34_answer        object\n",
      "question35_timer         float64\n",
      "question35_answer        object\n",
      "question36_timer         float64\n",
      "question36_answer        object\n",
      "question37_timer         float64\n",
      "question37_answer        object\n",
      "question38_timer         float64\n",
      "question38_answer        object\n",
      "question39_timer         float64\n",
      "question39_answer        object\n",
      "question40_timer         float64\n",
      "question40_answer        object\n",
      "question41_timer         float64\n",
      "question41_answer        object\n",
      "question42_timer         float64\n",
      "question42_answer        object\n",
      "question43_timer         float64\n",
      "question43_answer        object\n",
      "question44_timer         float64\n",
      "question44_answer        object\n",
      "question45_timer         float64\n",
      "question45_answer        object\n",
      "question46_timer         float64\n",
      "question46_answer        object\n",
      "question47_timer         float64\n",
      "question47_answer        object\n",
      "question48_timer         float64\n",
      "question48_answer        object\n",
      "question49_timer         float64\n",
      "question49_answer        object\n",
      "question50_timer         float64\n",
      "question50_answer        object\n",
      "question51_timer         float64\n",
      "question51_answer        object\n",
      "question52_timer         float64\n",
      "question52_answer        object\n",
      "question53_timer         float64\n",
      "question53_answer        object\n",
      "question54_timer         float64\n",
      "question54_answer        object\n",
      "question55_timer         float64\n",
      "question55_answer        object\n",
      "question56_timer         float64\n",
      "question56_answer        object\n",
      "question57_timer         float64\n",
      "question57_answer        object\n",
      "question58_timer         float64\n",
      "question58_answer        object\n",
      "question59_timer         float64\n",
      "question59_answer        object\n",
      "question60_timer         float64\n",
      "question60_answer        object\n",
      "question61_timer         float64\n",
      "question61_answer        object\n",
      "question62_timer         float64\n",
      "question62_answer        object\n",
      "question63_timer         float64\n",
      "question63_answer        object\n",
      "question64_timer         float64\n",
      "question64_answer        object\n",
      "question65_timer         float64\n",
      "question65_answer        object\n",
      "question66_timer         float64\n",
      "question66_answer        object\n",
      "question67_timer         float64\n",
      "question67_answer        object\n",
      "question68_timer         float64\n",
      "question68_answer        object\n",
      "question69_timer         float64\n",
      "question69_answer        object\n",
      "question70_timer         float64\n",
      "question70_answer        object\n",
      "question71_timer         float64\n",
      "question71_answer        object\n",
      "question72_timer         float64\n",
      "question72_answer        object\n",
      "question73_timer         float64\n",
      "question73_answer        object\n",
      "question74_timer         float64\n",
      "question74_answer        object\n",
      "question75_timer         float64\n",
      "question75_answer        object\n",
      "question76_timer         float64\n",
      "question76_answer        object\n",
      "question77_timer         float64\n",
      "question77_answer        object\n",
      "question78_timer         float64\n",
      "question78_answer        object\n",
      "question79_timer         float64\n",
      "question79_answer        object\n",
      "question80_timer         float64\n",
      "question80_answer        object\n",
      "enjoyment                object\n",
      "motivation               object\n",
      "future_motivation        object\n",
      "latin                    object\n",
      "mobile_device            object\n",
      "touch_typing             object\n",
      "hours_keyboard           object\n",
      "age                      float64\n",
      "female                   object\n",
      "education                object\n",
      "comments                 object\n",
      "timeout                  int64\n",
      "treatment                int8\n",
      "counter                  int64\n",
      "start_time               float64\n",
      "end_time                 float64\n",
      "repeater                 int64\n",
      "dataset                  int64\n",
      "dataset_str              object\n",
      "treatment_str            object\n",
      "dtypes: float64(87), int64(5), int8(1), object(96)\n",
      "memory usage: 4.4+ MB\n"
     ]
    }
   ],
   "source": [
    "df.info(verbose=True)"
   ]
  },
  {
   "cell_type": "markdown",
   "metadata": {},
   "source": [
    "#### Make treatment string for each main effect "
   ]
  },
  {
   "cell_type": "code",
   "execution_count": 6,
   "metadata": {},
   "outputs": [],
   "source": [
    "def main_treatment(row):\n",
    "    treatment_pair = row['treatment_str'].split(' + ')\n",
    "    return pd.Series(treatment_pair)\n",
    "\n",
    "treatment_columns = ['treatment_first', 'treatment_second', 'treatment_third']\n",
    "df[treatment_columns]  = df.apply(lambda row: main_treatment(row), axis=1)\n",
    "df.treatment_third.fillna('No Clarification', inplace=True)"
   ]
  },
  {
   "cell_type": "markdown",
   "metadata": {},
   "source": [
    "#### Make indicator variables for each main effect"
   ]
  },
  {
   "cell_type": "code",
   "execution_count": 7,
   "metadata": {},
   "outputs": [],
   "source": [
    "dummies = pd.get_dummies(df[treatment_columns], prefix='', prefix_sep='', drop_first=False)\n",
    "dummies.rename(lambda x: x.lower().replace(' ', '_'), axis=1, inplace=True)\n",
    "df = df.merge(dummies, left_index=True, right_index=True)"
   ]
  },
  {
   "cell_type": "markdown",
   "metadata": {},
   "source": [
    "#### Convert timeseries columns"
   ]
  },
  {
   "cell_type": "code",
   "execution_count": 8,
   "metadata": {},
   "outputs": [],
   "source": [
    "timseries = ['Start Date', 'End Date']\n",
    "for series in timseries:\n",
    "    df[series] = pd.to_datetime(df[series], infer_datetime_format=True)\n",
    "df['duration_survey'] = df['End Date'] - df['Start Date']\n",
    "df['duration_survey'] = df['duration_survey'].dt.seconds\n",
    "df['duration_work'] = df['end_time'] - df['start_time']\n",
    "df = df.drop(df.columns[[1, 2, 183, 184]], axis=1)"
   ]
  },
  {
   "cell_type": "markdown",
   "metadata": {},
   "source": [
    "#### Type convert string variables to integer variables"
   ]
  },
  {
   "cell_type": "code",
   "execution_count": 9,
   "metadata": {},
   "outputs": [],
   "source": [
    "genders = {\"Male\": 0, \"Female\": 1}\n",
    "df[\"female\"] = df[\"female\"].replace(genders)\n",
    "device = {\"No\": 0, \"Yes\": 1}\n",
    "df[\"mobile_device\"] = df[\"mobile_device\"].replace(device)"
   ]
  },
  {
   "cell_type": "markdown",
   "metadata": {},
   "source": [
    "#### Type convert categorial variables to integer variables"
   ]
  },
  {
   "cell_type": "code",
   "execution_count": 10,
   "metadata": {},
   "outputs": [],
   "source": [
    "categorial = ['enjoyment', 'motivation', 'future_motivation', 'latin', 'touch_typing']\n",
    "for cats in categorial:\n",
    "    df[cats] = df[cats].astype('category').cat.codes + 1"
   ]
  },
  {
   "cell_type": "markdown",
   "metadata": {},
   "source": [
    "#### Replace, reorder and type convert education variable"
   ]
  },
  {
   "cell_type": "code",
   "execution_count": 11,
   "metadata": {},
   "outputs": [],
   "source": [
    "to_replace = {'Professional Degree (JD, MD)':'Doctoral Degree'}\n",
    "df['education'] = df['education'].replace(to_replace)\n",
    "df['education'] = df['education'].astype('category')\n",
    "\n",
    "education_ordered = pd.Index([u'High School / GED',\n",
    "                              u'Some College',\n",
    "                              u'2-year College Degree', \n",
    "                              u'4-year College Degree', \n",
    "                              u'Masters Degree',\n",
    "                              u'Doctoral Degree', \n",
    "                              ], dtype='object')   \n",
    "\n",
    "df.education.cat.set_categories(education_ordered, inplace=True)\n",
    "df['education'] = df['education'].cat.codes + 1"
   ]
  },
  {
   "cell_type": "markdown",
   "metadata": {},
   "source": [
    "#### Remove leading/trailing whitespace and linebreaks"
   ]
  },
  {
   "cell_type": "code",
   "execution_count": 12,
   "metadata": {},
   "outputs": [],
   "source": [
    "def remove_whitespace(x):\n",
    "    if isinstance(x, str):\n",
    "        return x.strip().replace('\\n', ' ').replace('\\r', '')\n",
    "    else:\n",
    "        return x\n",
    "\n",
    "df = df.applymap(remove_whitespace)"
   ]
  },
  {
   "cell_type": "markdown",
   "metadata": {},
   "source": [
    "#### Make columns with correct solutions"
   ]
  },
  {
   "cell_type": "code",
   "execution_count": 13,
   "metadata": {},
   "outputs": [],
   "source": [
    "from fragments import get_correct_fragments\n",
    "\n",
    "df_fragments = get_correct_fragments()\n",
    "for index, row in df_fragments.iterrows():\n",
    "    column = 'question{0}_solution'.format(index + 1)\n",
    "    df[column] = row['Solution']"
   ]
  },
  {
   "cell_type": "markdown",
   "metadata": {},
   "source": [
    "#### Make dataframe with empty columns for edit distance and error_share, then join with main dataframe"
   ]
  },
  {
   "cell_type": "code",
   "execution_count": 14,
   "metadata": {},
   "outputs": [],
   "source": [
    "empty_cols = ['question{0}_distance', 'question{0}_editratio']\n",
    "edit_columns = [elem.format(x) for x in range(1, 81) for elem in empty_cols]\n",
    "edit_frame = pd.DataFrame(index=df.index, columns=edit_columns)\n",
    "df = df.merge(edit_frame, left_index=True, right_index=True)"
   ]
  },
  {
   "cell_type": "markdown",
   "metadata": {},
   "source": [
    "#### Calculate Levenshtein edit distance "
   ]
  },
  {
   "cell_type": "code",
   "execution_count": 15,
   "metadata": {},
   "outputs": [],
   "source": [
    "answer_columns = ['question{0}_answer'.format(x) for x in range(1, 81)]\n",
    "solution_columns = ['question{0}_solution'.format(x) for x in range(1, 81)]\n",
    "column_pairs = list(zip(answer_columns, solution_columns))\n",
    "\n",
    "for index, row in df.iterrows():\n",
    "\n",
    "    number_answers_submitted = row.at['counter']\n",
    "    columns_to_check = column_pairs[:number_answers_submitted]\n",
    "\n",
    "    for number, (answer_col, solution_col) in enumerate(columns_to_check):\n",
    "        answer = row[answer_col]\n",
    "        solution = row[solution_col]\n",
    "\n",
    "        if isinstance(answer, str):\n",
    "            edit_distance = Levenshtein.distance(answer, solution)\n",
    "            edit_ratio = (edit_distance - answer.count('?')) / max(len(answer), len(solution))\n",
    "\n",
    "        else:\n",
    "            edit_distance = np.NAN \n",
    "            edit_ratio = np.NAN\n",
    "\n",
    "        dist_column = 'question{0}_distance'.format(number + 1)\n",
    "        ratio_column = 'question{0}_editratio'.format(number + 1)\n",
    "            \n",
    "        df.loc[index, dist_column] = edit_distance\n",
    "        df.loc[index, ratio_column] = edit_ratio"
   ]
  },
  {
   "cell_type": "markdown",
   "metadata": {},
   "source": [
    "#### Count non-empty answers"
   ]
  },
  {
   "cell_type": "code",
   "execution_count": 16,
   "metadata": {},
   "outputs": [],
   "source": [
    "def count_non_empty(row):\n",
    "    raw_submits = row['counter']\n",
    "    answer_columns = ['question{0}_answer'.format(x) for x in range(1, raw_submits + 1)]\n",
    "    return row[answer_columns].count()\n",
    "\n",
    "df['counter_real'] = df.apply(count_non_empty, axis=1)\n",
    "df['counter_empty'] = df['counter'] - df['counter_real']\n",
    "df['counter_quota'] =  df['counter_empty'] / df['counter']"
   ]
  },
  {
   "cell_type": "markdown",
   "metadata": {},
   "source": [
    "#### Order dataframe columns"
   ]
  },
  {
   "cell_type": "code",
   "execution_count": 17,
   "metadata": {},
   "outputs": [],
   "source": [
    "cols = [\n",
    "        'question{0}_answer',\n",
    "        'question{0}_solution',\n",
    "        'question{0}_distance',\n",
    "        'question{0}_editratio',\n",
    "        'question{0}_timer',\n",
    "        ]\n",
    "ques_cols = [elem.format(x) for x in range(1,81) for elem in cols]\n",
    "main = list(df.columns.difference(ques_cols + dummies.columns.tolist()))\n",
    "main = main + dummies.columns.tolist()\n",
    "df = df.reindex(main + ques_cols, axis=1)    "
   ]
  },
  {
   "cell_type": "markdown",
   "metadata": {},
   "source": [
    "#### Save dataframe"
   ]
  },
  {
   "cell_type": "code",
   "execution_count": 18,
   "metadata": {},
   "outputs": [],
   "source": [
    "path = os.path.join(os.getcwd(), 'output', 'data_processed.feather')\n",
    "df.to_feather(path)"
   ]
  }
 ],
 "metadata": {
  "kernelspec": {
   "display_name": "Python 3",
   "language": "python",
   "name": "python3"
  },
  "language_info": {
   "codemirror_mode": {
    "name": "ipython",
    "version": 3
   },
   "file_extension": ".py",
   "mimetype": "text/x-python",
   "name": "python",
   "nbconvert_exporter": "python",
   "pygments_lexer": "ipython3",
   "version": "3.6.7"
  }
 },
 "nbformat": 4,
 "nbformat_minor": 2
}
