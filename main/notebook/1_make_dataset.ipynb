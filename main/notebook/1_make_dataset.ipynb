{
 "cells": [
  {
   "cell_type": "markdown",
   "metadata": {},
   "source": [
    "#### Import modules"
   ]
  },
  {
   "cell_type": "code",
   "execution_count": 1,
   "metadata": {},
   "outputs": [],
   "source": [
    "import numpy as np #matrix  manipulation\n",
    "import os #filesystem support\n",
    "import pandas as pd #dataframe \n",
    "import Levenshtein #calculating edit distance"
   ]
  },
  {
   "cell_type": "markdown",
   "metadata": {},
   "source": [
    "#### Set project folders"
   ]
  },
  {
   "cell_type": "code",
   "execution_count": 2,
   "metadata": {},
   "outputs": [],
   "source": [
    "PROJECT_FOLDER = os.path.abspath(os.path.join(os.getcwd(), os.pardir))\n",
    "RAW_DATA_FOLDER = os.path.join(PROJECT_FOLDER, 'data', 'raw')\n",
    "PROCESSED_DATA_FOLDER = os.path.join(PROJECT_FOLDER, 'data', 'processed')\n",
    "FINAL_DATA_FOLDER = os.path.join(PROJECT_FOLDER, 'data', 'final')"
   ]
  },
  {
   "cell_type": "markdown",
   "metadata": {},
   "source": [
    "#### Load dataframe"
   ]
  },
  {
   "cell_type": "code",
   "execution_count": 3,
   "metadata": {},
   "outputs": [
    {
     "name": "stdout",
     "output_type": "stream",
     "text": [
      "<class 'pandas.core.frame.DataFrame'>\n",
      "RangeIndex: 3094 entries, 0 to 3093\n",
      "Columns: 189 entries, workerid to treatment_str\n",
      "dtypes: float64(87), int64(5), int8(1), object(96)\n",
      "memory usage: 4.4+ MB\n"
     ]
    }
   ],
   "source": [
    "DATA =  os.path.join(PROCESSED_DATA_FOLDER, 'benefit_data_processed.feather')\n",
    "df = pd.read_feather(DATA)\n",
    "df.info()"
   ]
  },
  {
   "cell_type": "markdown",
   "metadata": {},
   "source": [
    "#### Make treatment string for each main effect "
   ]
  },
  {
   "cell_type": "code",
   "execution_count": 4,
   "metadata": {},
   "outputs": [],
   "source": [
    "def main_treatment(row):\n",
    "    treatment_pair = row['treatment_str'].split(' + ')\n",
    "    return pd.Series(treatment_pair)\n",
    "\n",
    "treatment_columns = ['treatment_first', 'treatment_second', 'treatment_third']\n",
    "df[treatment_columns]  = df.apply(lambda row: main_treatment(row), axis=1)\n",
    "df.treatment_third.fillna('No Clarification', inplace=True)"
   ]
  },
  {
   "cell_type": "markdown",
   "metadata": {},
   "source": [
    "#### Make indicator variables for each main effect"
   ]
  },
  {
   "cell_type": "code",
   "execution_count": 5,
   "metadata": {},
   "outputs": [],
   "source": [
    "dummies = pd.get_dummies(df[treatment_columns], prefix='', prefix_sep='', drop_first=False)\n",
    "dummies.rename(lambda x: x.lower().replace(' ', '_'), axis=1, inplace=True)\n",
    "df = df.merge(dummies, left_index=True, right_index=True)"
   ]
  },
  {
   "cell_type": "markdown",
   "metadata": {},
   "source": [
    "#### Convert timeseries columns"
   ]
  },
  {
   "cell_type": "code",
   "execution_count": 6,
   "metadata": {},
   "outputs": [],
   "source": [
    "timseries = ['Start Date', 'End Date']\n",
    "for series in timseries:\n",
    "    df[series] = pd.to_datetime(df[series], infer_datetime_format=True)\n",
    "\n",
    "df['duration_survey'] = df['End Date'] - df['Start Date']\n",
    "df['duration_survey'] = df['duration_survey'].dt.seconds\n",
    "df['duration_work'] = df['end_time'] - df['start_time']\n",
    "df = df.drop(df.columns[[1, 2, 183, 184]], axis=1)"
   ]
  },
  {
   "cell_type": "markdown",
   "metadata": {},
   "source": [
    "#### Type convert string variables to integer variables"
   ]
  },
  {
   "cell_type": "code",
   "execution_count": 7,
   "metadata": {},
   "outputs": [],
   "source": [
    "genders = {\"Male\": 0, \"Female\": 1}\n",
    "df[\"female\"] = df[\"female\"].replace(genders)\n",
    "device = {\"No\": 0, \"Yes\": 1}\n",
    "df[\"mobile_device\"] = df[\"mobile_device\"].replace(device)"
   ]
  },
  {
   "cell_type": "markdown",
   "metadata": {},
   "source": [
    "#### Type convert categorial variables to integer variables"
   ]
  },
  {
   "cell_type": "code",
   "execution_count": 8,
   "metadata": {},
   "outputs": [],
   "source": [
    "categorial = ['enjoyment', 'motivation', 'future_motivation', 'latin', 'touch_typing']\n",
    "for cats in categorial:\n",
    "    df[cats] = df[cats].astype('category').cat.codes + 1"
   ]
  },
  {
   "cell_type": "markdown",
   "metadata": {},
   "source": [
    "#### Replace, reorder and type convert education variable"
   ]
  },
  {
   "cell_type": "code",
   "execution_count": 9,
   "metadata": {},
   "outputs": [],
   "source": [
    "to_replace = {'Professional Degree (JD, MD)':'Doctoral Degree'}\n",
    "df['education'] = df['education'].replace(to_replace)\n",
    "df['education'] = df['education'].astype('category')\n",
    "\n",
    "education_ordered = pd.Index([\n",
    "    u'High School / GED',\n",
    "    u'Some College',\n",
    "    u'2-year College Degree', \n",
    "    u'4-year College Degree', \n",
    "    u'Masters Degree',\n",
    "    u'Doctoral Degree', \n",
    "    ], dtype='object')   \n",
    "\n",
    "df.education.cat.set_categories(education_ordered, inplace=True)\n",
    "df['education'] = df['education'].cat.codes + 1"
   ]
  },
  {
   "cell_type": "markdown",
   "metadata": {},
   "source": [
    "#### Remove leading/trailing whitespace and linebreaks"
   ]
  },
  {
   "cell_type": "code",
   "execution_count": 10,
   "metadata": {},
   "outputs": [],
   "source": [
    "def remove_whitespace(x):\n",
    "    if isinstance(x, str):\n",
    "        return x.strip().replace('\\n', ' ').replace('\\r', '')\n",
    "    else:\n",
    "        return x\n",
    "\n",
    "df = df.applymap(remove_whitespace)"
   ]
  },
  {
   "cell_type": "markdown",
   "metadata": {},
   "source": [
    "#### Make columns with correct solutions"
   ]
  },
  {
   "cell_type": "code",
   "execution_count": 11,
   "metadata": {},
   "outputs": [],
   "source": [
    "FRAGMENTS = os.path.join(RAW_DATA_FOLDER, 'fragments.xlsx')\n",
    "\n",
    "df_fragments = pd.read_excel(FRAGMENTS, header=None, names=[\"Keyword\", \"Solution\"], encode='utf8')\\\n",
    "                 .applymap(lambda x: x.strip())\\\n",
    "                 .drop('Keyword', axis=1)\n",
    "\n",
    "for index, row in df_fragments.iterrows():\n",
    "    column = 'question{0}_solution'.format(index + 1)\n",
    "    df[column] = row['Solution']"
   ]
  },
  {
   "cell_type": "markdown",
   "metadata": {},
   "source": [
    "#### Make dataframe with empty columns for edit distance and error_share, then join with main dataframe"
   ]
  },
  {
   "cell_type": "code",
   "execution_count": 12,
   "metadata": {},
   "outputs": [],
   "source": [
    "empty_cols = ['question{0}_distance', 'question{0}_editratio']\n",
    "edit_columns = [elem.format(x) for x in range(1, 81) for elem in empty_cols]\n",
    "edit_frame = pd.DataFrame(index=df.index, columns=edit_columns)\n",
    "df = df.merge(edit_frame, left_index=True, right_index=True)"
   ]
  },
  {
   "cell_type": "markdown",
   "metadata": {},
   "source": [
    "#### Calculate Levenshtein edit distance "
   ]
  },
  {
   "cell_type": "code",
   "execution_count": 13,
   "metadata": {},
   "outputs": [],
   "source": [
    "answer_columns = ['question{0}_answer'.format(x) for x in range(1, 81)]\n",
    "solution_columns = ['question{0}_solution'.format(x) for x in range(1, 81)]\n",
    "column_pairs = list(zip(answer_columns, solution_columns))\n",
    "\n",
    "for index, row in df.iterrows():\n",
    "\n",
    "    number_answers_submitted = row.at['counter']\n",
    "    columns_to_check = column_pairs[:number_answers_submitted]\n",
    "\n",
    "    for number, (answer_col, solution_col) in enumerate(columns_to_check):\n",
    "        answer = row[answer_col]\n",
    "        solution = row[solution_col]\n",
    "\n",
    "        if isinstance(answer, str):\n",
    "            edit_distance = Levenshtein.distance(answer, solution)\n",
    "            edit_ratio = (edit_distance - answer.count('?')) / max(len(answer), len(solution))\n",
    "\n",
    "        else:\n",
    "            edit_distance = np.NAN\n",
    "            edit_ratio = np.NAN\n",
    "\n",
    "        dist_column = 'question{0}_distance'.format(number + 1)\n",
    "        ratio_column = 'question{0}_editratio'.format(number + 1)\n",
    "\n",
    "        df.loc[index, dist_column] = edit_distance\n",
    "        df.loc[index, ratio_column] = edit_ratio"
   ]
  },
  {
   "cell_type": "markdown",
   "metadata": {},
   "source": [
    "#### Count non-empty answers"
   ]
  },
  {
   "cell_type": "code",
   "execution_count": 14,
   "metadata": {},
   "outputs": [],
   "source": [
    "def count_non_empty(row):\n",
    "    raw_submits = row['counter']\n",
    "    answer_columns = ['question{0}_answer'.format(x) for x in range(1, raw_submits + 1)]\n",
    "    return row[answer_columns].count()\n",
    "\n",
    "df['counter_real'] = df.apply(count_non_empty, axis=1)\n",
    "df['counter_empty'] = df['counter'] - df['counter_real']\n",
    "df['counter_quota'] =  df['counter_empty'] / df['counter']"
   ]
  },
  {
   "cell_type": "markdown",
   "metadata": {},
   "source": [
    "#### Order dataframe columns"
   ]
  },
  {
   "cell_type": "code",
   "execution_count": 15,
   "metadata": {},
   "outputs": [],
   "source": [
    "cols = [\n",
    "    'question{0}_answer',\n",
    "    'question{0}_solution',\n",
    "    'question{0}_distance',\n",
    "    'question{0}_editratio',\n",
    "    'question{0}_timer',\n",
    "]\n",
    "\n",
    "ques_cols = [elem.format(x) for x in range(1,81) for elem in cols]\n",
    "main = list(df.columns.difference(ques_cols + dummies.columns.tolist()))\n",
    "main = main + dummies.columns.tolist()\n",
    "df = df.reindex(main + ques_cols, axis=1)    "
   ]
  },
  {
   "cell_type": "markdown",
   "metadata": {},
   "source": [
    "#### Save dataframe"
   ]
  },
  {
   "cell_type": "code",
   "execution_count": 16,
   "metadata": {},
   "outputs": [],
   "source": [
    "path = os.path.join(FINAL_DATA_FOLDER, 'benefit_data.feather')\n",
    "df.to_feather(path)"
   ]
  }
 ],
 "metadata": {
  "hide_input": false,
  "kernelspec": {
   "display_name": "Python 3",
   "language": "python",
   "name": "python3"
  },
  "language_info": {
   "codemirror_mode": {
    "name": "ipython",
    "version": 3
   },
   "file_extension": ".py",
   "mimetype": "text/x-python",
   "name": "python",
   "nbconvert_exporter": "python",
   "pygments_lexer": "ipython3",
   "version": "3.6.6"
  }
 },
 "nbformat": 4,
 "nbformat_minor": 2
}
