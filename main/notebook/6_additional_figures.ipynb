{
 "cells": [
  {
   "cell_type": "markdown",
   "metadata": {},
   "source": [
    "### List of tables: \n",
    "\n",
    "1. [Table S2: Quality-quantity trade-off, clarification treatments only](#ols_quantity_quality)\n",
    "2. [Table S3: Quality-quantity trade-off, clarification vs. no clarification](#ols_quantity_quality_extra_combined)\n",
    "3. [Table S4: Estimating treatment effects on quantity, combined](#quantity)\n",
    "4. [Table S5: Estimating treatment effects on quality, combined](#quality)\n",
    "\n",
    "### List of figures:\n",
    "\n",
    "1. [Figure S1: Time spent on intervention screen](#timer)\n",
    "2. [Figure 5: Scatterplot quality vs. quantity, clarification traetments only](#scatter_quantity_quality)\n"
   ]
  },
  {
   "cell_type": "code",
   "execution_count": 1,
   "metadata": {},
   "outputs": [],
   "source": [
    "%matplotlib inline"
   ]
  },
  {
   "cell_type": "markdown",
   "metadata": {},
   "source": [
    "#### Imports libraries"
   ]
  },
  {
   "cell_type": "code",
   "execution_count": 2,
   "metadata": {},
   "outputs": [],
   "source": [
    "import matplotlib.pyplot as plt #plotting\n",
    "import numpy as np #matrix algebra\n",
    "import os #file system\n",
    "import pandas as pd #dataframe handling\n",
    "import sys\n",
    "import re # regular expression\n",
    "import statsmodels.formula.api as smf # regressions\n",
    "import statsmodels.api as sm #statisitcal analysis\n",
    "\n",
    "\n",
    "from linearmodels.panel import RandomEffects #panel analysis \n",
    "from matplotlib.ticker import FuncFormatter #formating graphs \n",
    "from scipy import stats #stats module\n",
    "from statsmodels.iolib.summary2 import summary_col #regression table\n",
    "from statsmodels.stats.anova import anova_lm #regression anova"
   ]
  },
  {
   "cell_type": "markdown",
   "metadata": {},
   "source": [
    "#### Turn off pandas' future warnings"
   ]
  },
  {
   "cell_type": "code",
   "execution_count": 3,
   "metadata": {},
   "outputs": [],
   "source": [
    "import warnings\n",
    "warnings.simplefilter(action='ignore', category=FutureWarning)"
   ]
  },
  {
   "cell_type": "markdown",
   "metadata": {},
   "source": [
    "#### Import  tools"
   ]
  },
  {
   "cell_type": "code",
   "execution_count": 4,
   "metadata": {},
   "outputs": [],
   "source": [
    "sys.path.insert(0, '../')\n",
    "from tools import MyPanelModelComparison #edited for panel regression output"
   ]
  },
  {
   "cell_type": "markdown",
   "metadata": {},
   "source": [
    "#### Set project directory"
   ]
  },
  {
   "cell_type": "code",
   "execution_count": 5,
   "metadata": {},
   "outputs": [],
   "source": [
    "PROJECT_FOLDER = os.path.abspath(os.path.join(os.getcwd(), os.pardir))\n",
    "FINAL_DATA_FOLDER = os.path.join(PROJECT_FOLDER, 'data', 'final')\n",
    "TABLES_FOLDER = os.path.join(PROJECT_FOLDER, 'reports', 'tables')\n",
    "FIGURES_FOLDER = os.path.join(PROJECT_FOLDER, 'reports', 'figures')"
   ]
  },
  {
   "cell_type": "markdown",
   "metadata": {},
   "source": [
    "#### Set display format"
   ]
  },
  {
   "cell_type": "code",
   "execution_count": 6,
   "metadata": {},
   "outputs": [],
   "source": [
    "pd.options.display.float_format = '{:.2f}'.format"
   ]
  },
  {
   "cell_type": "markdown",
   "metadata": {},
   "source": [
    "#### Set plotting style"
   ]
  },
  {
   "cell_type": "code",
   "execution_count": 7,
   "metadata": {},
   "outputs": [],
   "source": [
    "plt.style.use('classic')"
   ]
  },
  {
   "cell_type": "markdown",
   "metadata": {},
   "source": [
    "#### Set plotting properties "
   ]
  },
  {
   "cell_type": "code",
   "execution_count": 8,
   "metadata": {},
   "outputs": [],
   "source": [
    "bar_kwargs = dict(kind='bar', color='0.4', alpha=0.8, lw=0.5, width=0.7)\n",
    "line_kwargs = dict(kind='line', lw=1, alpha=1, legend=True)\n",
    "tick_kwargs = dict(size=5, which='both', right=False, top=False, direction='out', labelbottom=True)\n",
    "font_kwargs = dict(fontsize=11, color='k')\n",
    "grid_kwargs = dict(linewidth=1, axis=\"y\", zorder=2, antialiased=True)\n",
    "xlabel_kwargs = dict(fontsize=11, labelpad=3)\n",
    "ylabel_kwargs = dict(fontsize=11, labelpad=3)\n",
    "e_kwargs = dict(elinewidth=2, ecolor='0.15')\n",
    "legend_kwargs = dict(frameon=False)"
   ]
  },
  {
   "cell_type": "markdown",
   "metadata": {},
   "source": [
    "#### Retrieving dataframe"
   ]
  },
  {
   "cell_type": "code",
   "execution_count": 9,
   "metadata": {},
   "outputs": [
    {
     "name": "stdout",
     "output_type": "stream",
     "text": [
      "<class 'pandas.core.frame.DataFrame'>\n",
      "RangeIndex: 3094 entries, 0 to 3093\n",
      "Columns: 441 entries, age to question80_timer\n",
      "dtypes: float64(223), int64(25), object(193)\n",
      "memory usage: 10.4+ MB\n"
     ]
    }
   ],
   "source": [
    "DATA = os.path.join(FINAL_DATA_FOLDER, 'benefit_data.feather')\n",
    "df = pd.read_feather(DATA)\n",
    "df.info()"
   ]
  },
  {
   "cell_type": "markdown",
   "metadata": {},
   "source": [
    "#### Sort dataframe by treatment "
   ]
  },
  {
   "cell_type": "code",
   "execution_count": 10,
   "metadata": {},
   "outputs": [],
   "source": [
    "df = df.sort_values('treatment')"
   ]
  },
  {
   "cell_type": "markdown",
   "metadata": {},
   "source": [
    "#### Drop subjects for which the timer worked and did not work (10 min +/- 5%)"
   ]
  },
  {
   "cell_type": "code",
   "execution_count": 11,
   "metadata": {},
   "outputs": [],
   "source": [
    "broken_timer = (df.duration_work < 600 * 0.95)|(df.duration_work > 600 * 1.05)\n",
    "df = df[~broken_timer]"
   ]
  },
  {
   "cell_type": "markdown",
   "metadata": {},
   "source": [
    "#### Figure S1: Time spent on intervention screen <a id='timer'></a>"
   ]
  },
  {
   "cell_type": "code",
   "execution_count": 15,
   "metadata": {},
   "outputs": [
    {
     "data": {
      "text/plain": [
       "array([0.00111982, 0.00111982, 0.00111982, 0.00111982, 0.00111982,\n",
       "       0.00111982, 0.00111982, 0.00111982, 0.00111982, 0.00111982,\n",
       "       0.00111982, 0.00111982, 0.00111982, 0.00111982, 0.00111982,\n",
       "       0.00111982, 0.00111982, 0.00111982, 0.00111982, 0.00111982,\n",
       "       0.00111982, 0.00111982, 0.00111982, 0.00111982, 0.00111982,\n",
       "       0.00111982, 0.00111982, 0.00111982, 0.00111982, 0.00111982,\n",
       "       0.00111982, 0.00111982, 0.00111982, 0.00111982, 0.00111982,\n",
       "       0.00111982, 0.00111982, 0.00111982, 0.00111982, 0.00111982,\n",
       "       0.00111982, 0.00111982, 0.00111982, 0.00111982, 0.00111982,\n",
       "       0.00111982, 0.00111982, 0.00111982, 0.00111982, 0.00111982,\n",
       "       0.00111982, 0.00111982, 0.00111982, 0.00111982, 0.00111982,\n",
       "       0.00111982, 0.00111982, 0.00111982, 0.00111982, 0.00111982,\n",
       "       0.00111982, 0.00111982, 0.00111982, 0.00111982, 0.00111982,\n",
       "       0.00111982, 0.00111982, 0.00111982, 0.00111982, 0.00111982,\n",
       "       0.00111982, 0.00111982, 0.00111982, 0.00111982, 0.00111982,\n",
       "       0.00111982, 0.00111982, 0.00111982, 0.00111982, 0.00111982,\n",
       "       0.00111982, 0.00111982, 0.00111982, 0.00111982, 0.00111982,\n",
       "       0.00111982, 0.00111982, 0.00111982, 0.00111982, 0.00111982,\n",
       "       0.00111982, 0.00111982, 0.00111982, 0.00111982, 0.00111982,\n",
       "       0.00111982, 0.00111982, 0.00111982, 0.00111982, 0.00111982,\n",
       "       0.00111982, 0.00111982, 0.00111982, 0.00111982, 0.00111982,\n",
       "       0.00111982, 0.00111982, 0.00111982, 0.00111982, 0.00111982,\n",
       "       0.00111982, 0.00111982, 0.00111982, 0.00111982, 0.00111982,\n",
       "       0.00111982, 0.00111982, 0.00111982, 0.00111982, 0.00111982,\n",
       "       0.00111982, 0.00111982, 0.00111982, 0.00111982, 0.00111982,\n",
       "       0.00111982, 0.00111982, 0.00111982, 0.00111982, 0.00111982,\n",
       "       0.00111982, 0.00111982, 0.00111982, 0.00111982, 0.00111982,\n",
       "       0.00111982, 0.00111982, 0.00111982, 0.00111982, 0.00111982,\n",
       "       0.00111982, 0.00111982, 0.00111982, 0.00111982, 0.00111982,\n",
       "       0.00111982, 0.00111982, 0.00111982, 0.00111982, 0.00111982,\n",
       "       0.00111982, 0.00111982, 0.00111982, 0.00111982, 0.00111982,\n",
       "       0.00111982, 0.00111982, 0.00111982, 0.00111982, 0.00111982,\n",
       "       0.00111982, 0.00111982, 0.00111982, 0.00111982, 0.00111982,\n",
       "       0.00111982, 0.00111982, 0.00111982, 0.00111982, 0.00111982,\n",
       "       0.00111982, 0.00111982, 0.00111982, 0.00111982, 0.00111982,\n",
       "       0.00111982, 0.00111982, 0.00111982, 0.00111982, 0.00111982,\n",
       "       0.00111982, 0.00111982, 0.00111982, 0.00111982, 0.00111982,\n",
       "       0.00111982, 0.00111982, 0.00111982, 0.00111982, 0.00111982,\n",
       "       0.00111982, 0.00111982, 0.00111982, 0.00111982, 0.00111982,\n",
       "       0.00111982, 0.00111982, 0.00111982, 0.00111982, 0.00111982,\n",
       "       0.00111982, 0.00111982, 0.00111982, 0.00111982, 0.00111982,\n",
       "       0.00111982, 0.00111982, 0.00111982, 0.00111982, 0.00111982,\n",
       "       0.00111982, 0.00111982, 0.00111982, 0.00111982, 0.00111982,\n",
       "       0.00111982, 0.00111982, 0.00111982, 0.00111982, 0.00111982,\n",
       "       0.00111982, 0.00111982, 0.00111982, 0.00111982, 0.00111982,\n",
       "       0.00111982, 0.00111982, 0.00111982, 0.00111982, 0.00111982,\n",
       "       0.00111982, 0.00111982, 0.00111982, 0.00111982, 0.00111982,\n",
       "       0.00111982, 0.00111982, 0.00111982, 0.00111982, 0.00111982,\n",
       "       0.00111982, 0.00111982, 0.00111982, 0.00111982, 0.00111982,\n",
       "       0.00111982, 0.00111982, 0.00111982, 0.00111982, 0.00111982,\n",
       "       0.00111982, 0.00111982, 0.00111982, 0.00111982, 0.00111982,\n",
       "       0.00111982, 0.00111982, 0.00111982, 0.00111982, 0.00111982,\n",
       "       0.00111982, 0.00111982, 0.00111982, 0.00111982, 0.00111982,\n",
       "       0.00111982, 0.00111982, 0.00111982, 0.00111982, 0.00111982,\n",
       "       0.00111982, 0.00111982, 0.00111982, 0.00111982, 0.00111982,\n",
       "       0.00111982, 0.00111982, 0.00111982, 0.00111982, 0.00111982,\n",
       "       0.00111982, 0.00111982, 0.00111982, 0.00111982, 0.00111982,\n",
       "       0.00111982, 0.00111982, 0.00111982, 0.00111982, 0.00111982,\n",
       "       0.00111982, 0.00111982, 0.00111982, 0.00111982, 0.00111982,\n",
       "       0.00111982, 0.00111982, 0.00111982, 0.00111982, 0.00111982,\n",
       "       0.00111982, 0.00111982, 0.00111982, 0.00111982, 0.00111982,\n",
       "       0.00111982, 0.00111982, 0.00111982, 0.00111982, 0.00111982,\n",
       "       0.00111982, 0.00111982, 0.00111982, 0.00111982, 0.00111982,\n",
       "       0.00111982, 0.00111982, 0.00111982, 0.00111982, 0.00111982,\n",
       "       0.00111982, 0.00111982, 0.00111982, 0.00111982, 0.00111982,\n",
       "       0.00111982, 0.00111982, 0.00111982, 0.00111982, 0.00111982,\n",
       "       0.00111982, 0.00111982, 0.00111982, 0.00111982, 0.00111982,\n",
       "       0.00111982, 0.00111982, 0.00111982, 0.00111982, 0.00111982,\n",
       "       0.00111982, 0.00111982, 0.00111982, 0.00111982, 0.00111982,\n",
       "       0.00111982, 0.00111982, 0.00111982, 0.00111982, 0.00111982,\n",
       "       0.00111982, 0.00111982, 0.00111982, 0.00111982, 0.00111982,\n",
       "       0.00111982, 0.00111982, 0.00111982, 0.00111982, 0.00111982,\n",
       "       0.00111982, 0.00111982, 0.00111982, 0.00111982, 0.00111982,\n",
       "       0.00111982, 0.00111982, 0.00111982, 0.00111982, 0.00111982,\n",
       "       0.00111982, 0.00111982, 0.00111982, 0.00111982, 0.00111982,\n",
       "       0.00111982, 0.00111982, 0.00111982, 0.00111982, 0.00111982,\n",
       "       0.00111982, 0.00111982, 0.00111982, 0.00111982, 0.00111982,\n",
       "       0.00111982, 0.00111982, 0.00111982, 0.00111982, 0.00111982,\n",
       "       0.00111982, 0.00111982, 0.00111982, 0.00111982, 0.00111982,\n",
       "       0.00111982, 0.00111982, 0.00111982, 0.00111982, 0.00111982,\n",
       "       0.00111982, 0.00111982, 0.00111982, 0.00111982, 0.00111982,\n",
       "       0.00111982, 0.00111982, 0.00111982, 0.00111982, 0.00111982,\n",
       "       0.00111982, 0.00111982, 0.00111982, 0.00111982, 0.00111982,\n",
       "       0.00111982, 0.00111982, 0.00111982, 0.00111982, 0.00111982,\n",
       "       0.00111982, 0.00111982, 0.00111982, 0.00111982, 0.00111982,\n",
       "       0.00111982, 0.00111982, 0.00111982, 0.00111982, 0.00111982,\n",
       "       0.00111982, 0.00111982, 0.00111982, 0.00111982, 0.00111982,\n",
       "       0.00111982, 0.00111982, 0.00111982, 0.00111982, 0.00111982,\n",
       "       0.00111982, 0.00111982, 0.00111982, 0.00111982, 0.00111982,\n",
       "       0.00111982, 0.00111982, 0.00111982, 0.00111982, 0.00111982,\n",
       "       0.00111982, 0.00111982, 0.00111982, 0.00111982, 0.00111982,\n",
       "       0.00111982, 0.00111982, 0.00111982, 0.00111982, 0.00111982,\n",
       "       0.00111982, 0.00111982, 0.00111982, 0.00111982, 0.00111982,\n",
       "       0.00111982, 0.00111982, 0.00111982, 0.00111982, 0.00111982,\n",
       "       0.00111982, 0.00111982, 0.00111982, 0.00111982, 0.00111982,\n",
       "       0.00111982, 0.00111982, 0.00111982, 0.00111982, 0.00111982,\n",
       "       0.00111982, 0.00111982, 0.00111982, 0.00111982, 0.00111982,\n",
       "       0.00111982, 0.00111982, 0.00111982, 0.00111982, 0.00111982,\n",
       "       0.00111982, 0.00111982, 0.00111982, 0.00111982, 0.00111982,\n",
       "       0.00111982, 0.00111982, 0.00111982, 0.00111982, 0.00111982,\n",
       "       0.00111982, 0.00111982, 0.00111982, 0.00111982, 0.00111982,\n",
       "       0.00111982, 0.00111982, 0.00111982, 0.00111982, 0.00111982,\n",
       "       0.00111982, 0.00111982, 0.00111982, 0.00111982, 0.00111982,\n",
       "       0.00111982, 0.00111982, 0.00111982, 0.00111982, 0.00111982,\n",
       "       0.00111982, 0.00111982, 0.00111982, 0.00111982, 0.00111982,\n",
       "       0.00111982, 0.00111982, 0.00111982, 0.00111982, 0.00111982,\n",
       "       0.00111982, 0.00111982, 0.00111982, 0.00111982, 0.00111982,\n",
       "       0.00111982, 0.00111982, 0.00111982, 0.00111982, 0.00111982,\n",
       "       0.00111982, 0.00111982, 0.00111982, 0.00111982, 0.00111982,\n",
       "       0.00111982, 0.00111982, 0.00111982, 0.00111982, 0.00111982,\n",
       "       0.00111982, 0.00111982, 0.00111982, 0.00111982, 0.00111982,\n",
       "       0.00111982, 0.00111982, 0.00111982, 0.00111982, 0.00111982,\n",
       "       0.00111982, 0.00111982, 0.00111982, 0.00111982, 0.00111982,\n",
       "       0.00111982, 0.00111982, 0.00111982, 0.00111982, 0.00111982,\n",
       "       0.00111982, 0.00111982, 0.00111982, 0.00111982, 0.00111982,\n",
       "       0.00111982, 0.00111982, 0.00111982, 0.00111982, 0.00111982,\n",
       "       0.00111982, 0.00111982, 0.00111982, 0.00111982, 0.00111982,\n",
       "       0.00111982, 0.00111982, 0.00111982, 0.00111982, 0.00111982,\n",
       "       0.00111982, 0.00111982, 0.00111982, 0.00111982, 0.00111982,\n",
       "       0.00111982, 0.00111982, 0.00111982, 0.00111982, 0.00111982,\n",
       "       0.00111982, 0.00111982, 0.00111982, 0.00111982, 0.00111982,\n",
       "       0.00111982, 0.00111982, 0.00111982, 0.00111982, 0.00111982,\n",
       "       0.00111982, 0.00111982, 0.00111982, 0.00111982, 0.00111982,\n",
       "       0.00111982, 0.00111982, 0.00111982, 0.00111982, 0.00111982,\n",
       "       0.00111982, 0.00111982, 0.00111982, 0.00111982, 0.00111982,\n",
       "       0.00111982, 0.00111982, 0.00111982, 0.00111982, 0.00111982,\n",
       "       0.00111982, 0.00111982, 0.00111982, 0.00111982, 0.00111982,\n",
       "       0.00111982, 0.00111982, 0.00111982, 0.00111982, 0.00111982,\n",
       "       0.00111982, 0.00111982, 0.00111982, 0.00111982, 0.00111982,\n",
       "       0.00111982, 0.00111982, 0.00111982, 0.00111982, 0.00111982,\n",
       "       0.00111982, 0.00111982, 0.00111982, 0.00111982, 0.00111982,\n",
       "       0.00111982, 0.00111982, 0.00111982, 0.00111982, 0.00111982,\n",
       "       0.00111982, 0.00111982, 0.00111982, 0.00111982, 0.00111982,\n",
       "       0.00111982, 0.00111982, 0.00111982, 0.00111982, 0.00111982,\n",
       "       0.00111982, 0.00111982, 0.00111982, 0.00111982, 0.00111982,\n",
       "       0.00111982, 0.00111982, 0.00111982, 0.00111982, 0.00111982,\n",
       "       0.00111982, 0.00111982, 0.00111982, 0.00111982, 0.00111982,\n",
       "       0.00111982, 0.00111982, 0.00111982, 0.00111982, 0.00111982,\n",
       "       0.00111982, 0.00111982, 0.00111982, 0.00111982, 0.00111982,\n",
       "       0.00111982, 0.00111982, 0.00111982, 0.00111982, 0.00111982,\n",
       "       0.00111982, 0.00111982, 0.00111982, 0.00111982, 0.00111982,\n",
       "       0.00111982, 0.00111982, 0.00111982, 0.00111982, 0.00111982,\n",
       "       0.00111982, 0.00111982, 0.00111982, 0.00111982, 0.00111982,\n",
       "       0.00111982, 0.00111982, 0.00111982, 0.00111982, 0.00111982,\n",
       "       0.00111982, 0.00111982, 0.00111982, 0.00111982, 0.00111982,\n",
       "       0.00111982, 0.00111982, 0.00111982, 0.00111982, 0.00111982,\n",
       "       0.00111982, 0.00111982, 0.00111982, 0.00111982, 0.00111982,\n",
       "       0.00111982, 0.00111982, 0.00111982, 0.00111982, 0.00111982,\n",
       "       0.00111982, 0.00111982, 0.00111982, 0.00111982, 0.00111982,\n",
       "       0.00111982, 0.00111982, 0.00111982, 0.00111982, 0.00111982,\n",
       "       0.00111982, 0.00111982, 0.00111982, 0.00111982, 0.00111982,\n",
       "       0.00111982, 0.00111982, 0.00111982, 0.00111982, 0.00111982,\n",
       "       0.00111982, 0.00111982, 0.00111982, 0.00111982, 0.00111982,\n",
       "       0.00111982, 0.00111982, 0.00111982, 0.00111982, 0.00111982,\n",
       "       0.00111982, 0.00111982, 0.00111982, 0.00111982, 0.00111982,\n",
       "       0.00111982, 0.00111982, 0.00111982, 0.00111982, 0.00111982,\n",
       "       0.00111982, 0.00111982, 0.00111982, 0.00111982, 0.00111982,\n",
       "       0.00111982, 0.00111982, 0.00111982, 0.00111982, 0.00111982,\n",
       "       0.00111982, 0.00111982, 0.00111982, 0.00111982, 0.00111982,\n",
       "       0.00111982, 0.00111982, 0.00111982, 0.00111982, 0.00111982,\n",
       "       0.00111982, 0.00111982, 0.00111982, 0.00111982, 0.00111982,\n",
       "       0.00111982, 0.00111982, 0.00111982, 0.00111982, 0.00111982,\n",
       "       0.00111982, 0.00111982, 0.00111982, 0.00111982, 0.00111982,\n",
       "       0.00111982, 0.00111982, 0.00111982, 0.00111982, 0.00111982,\n",
       "       0.00111982, 0.00111982, 0.00111982, 0.00111982, 0.00111982,\n",
       "       0.00111982, 0.00111982, 0.00111982, 0.00111982, 0.00111982,\n",
       "       0.00111982, 0.00111982, 0.00111982, 0.00111982, 0.00111982,\n",
       "       0.00111982, 0.00111982, 0.00111982, 0.00111982, 0.00111982,\n",
       "       0.00111982, 0.00111982, 0.00111982, 0.00111982, 0.00111982,\n",
       "       0.00111982, 0.00111982, 0.00111982, 0.00111982, 0.00111982,\n",
       "       0.00111982, 0.00111982, 0.00111982, 0.00111982, 0.00111982,\n",
       "       0.00111982, 0.00111982, 0.00111982, 0.00111982, 0.00111982,\n",
       "       0.00111982, 0.00111982, 0.00111982, 0.00111982, 0.00111982,\n",
       "       0.00111982, 0.00111982, 0.00111982, 0.00111982, 0.00111982,\n",
       "       0.00111982, 0.00111982, 0.00111982, 0.00111982, 0.00111982,\n",
       "       0.00111982, 0.00111982, 0.00111982, 0.00111982, 0.00111982,\n",
       "       0.00111982, 0.00111982, 0.00111982, 0.00111982, 0.00111982,\n",
       "       0.00111982, 0.00111982, 0.00111982, 0.00111982, 0.00111982,\n",
       "       0.00111982, 0.00111982, 0.00111982])"
      ]
     },
     "execution_count": 15,
     "metadata": {},
     "output_type": "execute_result"
    }
   ],
   "source": [
    "np.ones(len(df_timer))/len(df_timer)"
   ]
  },
  {
   "cell_type": "code",
   "execution_count": 46,
   "metadata": {},
   "outputs": [
    {
     "data": {
      "image/png": "[encoded data removed]",
      "text/plain": [
       "<Figure size 1500x750 with 2 Axes>"
      ]
     },
     "metadata": {},
     "output_type": "display_data"
    }
   ],
   "source": [
    "sel = (df.dataset != 6)\n",
    "treat = df.treatment_second.unique()[-2:]\n",
    "\n",
    "hist_params = dict(bins=20, range=(0, 60), density=True, color='0.4', alpha=0.8) \n",
    "fig, axis = plt.subplots(ncols=2, nrows=1, sharey=True, figsize=(10, 5), dpi=150)\n",
    "fig.subplots_adjust(hspace=0.35, wspace=0.25)\n",
    "fig.set_facecolor('w')\n",
    "for i, ax in enumerate(fig.axes):\n",
    "    df_timer = df[(sel) & (df.treatment_second == treat[i])]['intervention_timer']\n",
    "    w = np.ones(len(df_timer))/len(df_timer)\n",
    "    df_timer.hist(ax=ax, **hist_params)\n",
    "    ax.set_title(treat[i], **font_kwargs)\n",
    "    ax.grid(False)\n",
    "    ax.xaxis.set_ticks_position('bottom')\n",
    "    ax.yaxis.set_ticks_position('left')\n",
    "    ax.tick_params(axis='x', **tick_kwargs)\n",
    "    ax.tick_params(axis='y', **tick_kwargs)\n",
    "    ax.set_xlabel(\"Time spent on intervention screen in seconds\", **xlabel_kwargs)\n",
    "    ax.set_ylabel(\"Share of subjects\", **ylabel_kwargs)\n",
    "    ax.yaxis.set_major_formatter(FuncFormatter('{:.0%}'.format))\n",
    "    mean, med = df_timer.mean(), df_timer.median() \n",
    "    ax.text(40, 0.15 , \"${x}={a:.2f}$\\n${b}={c:.2f}$\".format(x=r\"\\bar{x}\", a=mean, b=r\"\\~{x}\", c=med)) \n",
    "plt.savefig(os.path.join(FIGURES_FOLDER, 'intervention_timer_hist.pdf'), bbox_inches='tight')"
   ]
  },
  {
   "cell_type": "markdown",
   "metadata": {},
   "source": [
    "#### Select treatments for robsutness check "
   ]
  },
  {
   "cell_type": "code",
   "execution_count": null,
   "metadata": {},
   "outputs": [],
   "source": [
    "treatment_list = [3, 4, 6, 7, 9, 10, 11, 12]\n",
    "sel = df.treatment.isin(treatment_list)\n",
    "df = df[sel]"
   ]
  },
  {
   "cell_type": "markdown",
   "metadata": {},
   "source": [
    "#### Table S4: Estimating treatment effects on quantity <a id='quantity'></a>"
   ]
  },
  {
   "cell_type": "code",
   "execution_count": null,
   "metadata": {},
   "outputs": [],
   "source": [
    "regs = dict()\n",
    "regs['reg1'] = 'counter_real ~ high_piece_rate'\n",
    "regs['reg2'] = 'counter_real ~ expectations'\n",
    "regs['reg3'] = 'counter_real ~ clarification'\n",
    "regs['reg4'] = 'counter_real ~ high_piece_rate * expectations * clarification'\n",
    "regs['reg5'] = regs['reg4'] + ' + age + female + education + mobile_device + latin'\n",
    "\n",
    "ols_results = []\n",
    "for k, v in regs.items():\n",
    "    ols = smf.ols(formula=v, data=df).fit()\n",
    "    ols = ols.get_robustcov_results()\n",
    "    ols_results.append(ols)\n",
    "    \n",
    "order = [\n",
    "    'high_piece_rate', 'expectations', 'clarification',\n",
    "    'high_piece_rate:expectations', 'high_piece_rate:clarification', 'expectations:clarification',\n",
    "    'high_piece_rate:expectations:clarification',\n",
    "    'age', 'female', 'education', 'latin', 'mobile_device',\n",
    "    'Intercept',\n",
    "] \n",
    "\n",
    "auxiliary = {'N ': lambda x: \"{:d}\".format(int(x.nobs)), 'R2': lambda x: \"{:.3f}\".format(x.rsquared)}\n",
    "ols_quan = summary_col(ols_results, stars=True, info_dict=auxiliary, float_format='%.3f', regressor_order=order)\n",
    "ols_quan = ols_quan\\\n",
    "    .tables[0]\\\n",
    "    .rename(mapper=lambda x: x.replace('_', ' ').replace(':', ' * ').capitalize(), axis=0)\\\n",
    "    .rename(mapper=lambda x: x.capitalize().split()[0].replace('_', ' '), axis=1)\\\n",
    "\n",
    "ols_quan.to_latex(os.path.join(TABLES_FOLDER, 'ols_quantity_extra.tex'), bold_rows=True, float_format=\"%.3f\")\n",
    "display(ols_quan)"
   ]
  },
  {
   "cell_type": "code",
   "execution_count": null,
   "metadata": {},
   "outputs": [],
   "source": [
    "anova_lm(*ols_results, robust='hc3')"
   ]
  },
  {
   "cell_type": "markdown",
   "metadata": {},
   "source": [
    "#### Transform dataframe to panel"
   ]
  },
  {
   "cell_type": "code",
   "execution_count": null,
   "metadata": {},
   "outputs": [],
   "source": [
    "columns_to_keep = df.columns[[0, 10, 12, 18, 19, 32, 33, 34, 36, 38, 39, 40]]\n",
    "columns_to_melt = ['question{0}_editratio'.format(x) for x in range(1, df.counter.max() + 1)]\n",
    "\n",
    "df_melted = pd.melt(\n",
    "    df, \n",
    "    id_vars=columns_to_keep,\n",
    "    value_vars = columns_to_melt,\n",
    "    var_name='question_number',\n",
    "    value_name='edit_ratio'\n",
    ")\n",
    "\n",
    "df_melted = df_melted.dropna(axis=0, how='any', subset=['edit_ratio'])\n",
    "df_melted['question_number'] = df_melted['question_number'].str.extract(r'(\\d+)').astype(int)\n",
    "df_melted['edit_ratio'] = df_melted['edit_ratio'].astype(float)\n",
    "\n",
    "df_panel = df_melted.set_index(['workerid', 'question_number'])\n",
    "df_panel = df_panel.sort_index()\n",
    "df_panel.head(20) "
   ]
  },
  {
   "cell_type": "markdown",
   "metadata": {},
   "source": [
    "#### Table S5: Estimating treatment effects on quality  <a id='quality'></a>"
   ]
  },
  {
   "cell_type": "code",
   "execution_count": null,
   "metadata": {},
   "outputs": [],
   "source": [
    "regs = dict()\n",
    "regs['re1'] = 'edit_ratio ~ 1 + high_piece_rate'\n",
    "regs['re2'] = 'edit_ratio ~ 1 + expectations'\n",
    "regs['re3'] = 'edit_ratio ~ 1 + clarification'\n",
    "regs['re4'] = 'edit_ratio ~ 1 + high_piece_rate * expectations * clarification'\n",
    "regs['re5'] = regs['re4'] + ' + age + female + education + mobile_device + latin'\n",
    "\n",
    "re_results = []\n",
    "for k, v in regs.items():\n",
    "    re_result = RandomEffects.from_formula(formula=v, data=df_panel).fit(cov_type='robust')\n",
    "    re_results.append(re_result)\n",
    "re_qual = MyPanelModelComparison(re_results)\n",
    "\n",
    "path = os.path.join(TABLES_FOLDER, 're_extra_quality.tex')\n",
    "with open(path, \"w\") as latex:\n",
    "    latex.write(re_qual.summary.as_latex())\n",
    "\n",
    "display(re_qual)"
   ]
  },
  {
   "cell_type": "markdown",
   "metadata": {},
   "source": [
    "#### Calculate average error rate and append to cross sectional dataframe"
   ]
  },
  {
   "cell_type": "code",
   "execution_count": null,
   "metadata": {},
   "outputs": [],
   "source": [
    "avg_edit_ratio = df_panel['edit_ratio'].mean(level=0).to_frame(name='avg_edit_ratio')\n",
    "df = df.merge(avg_edit_ratio, left_on='workerid', right_on='workerid', validate='one_to_one')"
   ]
  },
  {
   "cell_type": "markdown",
   "metadata": {},
   "source": [
    "#### Figure 2: Scatterplot quality vs. quantity, clarification traetments only <a id='scatter_quantity_quality'></a>"
   ]
  },
  {
   "cell_type": "code",
   "execution_count": null,
   "metadata": {},
   "outputs": [],
   "source": [
    "def get_fitted_values(df, x, y):\n",
    "    y = df.loc[:,y]\n",
    "    x = df.loc[:,x]\n",
    "    x = sm.add_constant(x)\n",
    "    ols = sm.OLS(y, x).fit()\n",
    "    return ols.fittedvalues\n",
    "\n",
    "index = pd.Index([\n",
    "    'Low piece rate + Neutral + Clarification',\n",
    "    'Low piece rate + Expectations + Clarification',\n",
    "    'High piece rate + Neutral + Clarification',\n",
    "    'High piece rate + Expectations + Clarification',\n",
    "    ], dtype='object', name='Treatment')\n",
    "\n",
    "x_var, y_var = 'counter_real', 'avg_edit_ratio'\n",
    "scatter_params = dict(xlim=[0, 60], ylim=[0, 0.15], color='0.1', alpha=0.5)\n",
    "with plt.style.context('classic'):\n",
    "    fig, axis = plt.subplots(ncols=2, nrows=2, figsize=(8, 8), dpi=100)\n",
    "    fig.set_facecolor('w')\n",
    "    fig.subplots_adjust(hspace=0.3, wspace=0.3)\n",
    "    for i, ax in enumerate(fig.axes):\n",
    "        treatment = df.treatment_str.unique()[i]\n",
    "        df_scatter = df[(df.treatment_str == treatment)]\n",
    "        df_scatter.plot.scatter(x=x_var, y=y_var, ax=ax, **scatter_params)\n",
    "        ax.plot(df_scatter[x_var], get_fitted_values(df_scatter, x_var, y_var), c='0', lw=2)\n",
    "        r, p = stats.pearsonr(df_scatter[x_var], df_scatter[y_var])\n",
    "        ax.text(25, 0.13 , r\"$r={a:.3f}\\:({b:.3f})$\".format(a=r, b=p))\n",
    "        ax.set_title(treatment.replace(' + Clarification', '\\n + Clarification'), **font_kwargs)\n",
    "        ax.tick_params(axis='x', labelsize='small', **tick_kwargs)\n",
    "        ax.tick_params(axis='y', labelsize='small', **tick_kwargs)\n",
    "        ax.set_xlabel(\"Number submitted fragments\", fontsize='small', labelpad=3)\n",
    "        ax.set_ylabel(\"Mean error score\", fontsize='small', labelpad=3)\n",
    "plt.savefig(os.path.join(FIGURES_FOLDER, 'corr_counter_real_extra_editratio.pdf'))"
   ]
  },
  {
   "cell_type": "markdown",
   "metadata": {},
   "source": [
    "#### Table S2: Quality-quantity trade-off, clarification treatments only  <a id='ols_quantity_quality'></a>"
   ]
  },
  {
   "cell_type": "code",
   "execution_count": null,
   "metadata": {},
   "outputs": [],
   "source": [
    "regs = dict()\n",
    "regs['re0'] = 'avg_edit_ratio ~ counter_real'\n",
    "regs['re1'] = 'avg_edit_ratio ~ counter_real + C(treatment_str)'\n",
    "regs['re2'] = 'avg_edit_ratio ~ counter_real + counter_real:C(treatment_str)'\n",
    "regs['re3'] = 'avg_edit_ratio ~ counter_real * C(treatment_str)'\n",
    "\n",
    "ols_results = []\n",
    "for k, v in regs.items():\n",
    "    ols = smf.ols(formula=v, data=df[df.treatment.isin([9,10,11,12])]).fit()\n",
    "    ols = ols.get_robustcov_results()\n",
    "    ols_results.append(ols)\n",
    "\n",
    "order = ['Intercept', 'counter_real'] \n",
    "auxiliary = {'N': lambda x: \"{:d}\".format(int(x.nobs)), 'R2': lambda x: \"{:.3f}\".format(x.rsquared)}\n",
    "ols_qual_quan = summary_col(ols_results, stars=True, info_dict=auxiliary, float_format='%.4f', regressor_order=order)\n",
    "ols_qual_quan = ols_qual_quan\\\n",
    "    .tables[0]\\\n",
    "    .rename(mapper=lambda x: x.replace('C(treatment_str)[T.', '').replace(']', ''), axis=0)\\\n",
    "    .rename(mapper=lambda x: x.capitalize().split()[0].replace('_',' '), axis=1)\\\n",
    "    .rename({'Intercept':'Constant'})\n",
    "\n",
    "ols_qual_quan.to_latex(os.path.join(TABLES_FOLDER, 'ols_quality_quanity_extra.tex'), bold_rows=True, float_format=\"%.3f\")\n",
    "display(ols_qual_quan)"
   ]
  },
  {
   "cell_type": "markdown",
   "metadata": {},
   "source": [
    "#### Table S3: Quality-quantity trade-off, clarification vs. no clarification <a id='ols_quantity_quality_extra_combined'></a>"
   ]
  },
  {
   "cell_type": "code",
   "execution_count": null,
   "metadata": {},
   "outputs": [],
   "source": [
    "regs = dict()\n",
    "regs['re0'] = 'avg_edit_ratio ~ counter_real'\n",
    "regs['re1'] = 'avg_edit_ratio ~ counter_real * clarification'\n",
    "regs['re2'] = regs['re1'] + ' + age + female + education + mobile_device + latin'\n",
    "\n",
    "ols_results = []\n",
    "for k, v in regs.items():\n",
    "    ols = smf.ols(formula=v, data=df).fit()\n",
    "    ols = ols.get_robustcov_results()\n",
    "    ols_results.append(ols)\n",
    "\n",
    "order = ['counter_real', 'clarification', 'counter_real:clarification',\n",
    "         'age', 'female' , 'education', 'mobile_device', 'latin', 'Intercept'] \n",
    "auxiliary = {'N': lambda x: \"{:d}\".format(int(x.nobs)), 'R2': lambda x: \"{:.3f}\".format(x.rsquared)}\n",
    "ols_qual_quan = summary_col(ols_results, stars=True, info_dict=auxiliary, float_format='%.4f', regressor_order=order)\n",
    "ols_qual_quan.add_title('Regression table: Quality vs. Quantiy OLS')\n",
    "ols_qual_quan = ols_qual_quan\\\n",
    "    .tables[0]\\\n",
    "    .rename(mapper=lambda x: x.replace('C(treatment_str)[T.', '').replace(']', '').capitalize(), axis=0)\\\n",
    "    .rename(mapper=lambda x: x.capitalize().split()[0].replace('_',' '), axis=1)\\\n",
    "    .rename({'Intercept':'Constant'})\n",
    "\n",
    "ols_qual_quan.to_latex(os.path.join(TABLES_FOLDER, 'ols_quality_quanity_extra_combined.tex'), bold_rows=True, float_format=\"%.3f\")\n",
    "display(ols_qual_quan)"
   ]
  },
  {
   "cell_type": "markdown",
   "metadata": {},
   "source": [
    "#### Calculate sample correlation coefficient with and without clarification statement "
   ]
  },
  {
   "cell_type": "code",
   "execution_count": null,
   "metadata": {},
   "outputs": [],
   "source": [
    "for value in df.treatment_third.unique():\n",
    "    x = df[df.treatment_third == value]['counter_real']\n",
    "    y = df[df.treatment_third == value]['avg_edit_ratio']\n",
    "    print('{0}: r={1[0]:.3f}, p={1[1]:.3f}, n={2}'.format(value, stats.pearsonr(x, y), x.count())) "
   ]
  },
  {
   "cell_type": "markdown",
   "metadata": {},
   "source": [
    "#### Test difference in sample pcc with and without clarification statement "
   ]
  },
  {
   "cell_type": "code",
   "execution_count": null,
   "metadata": {},
   "outputs": [],
   "source": [
    "def test_diff_r(r1, r2, n1, n2):\n",
    "    z1 = np.arctanh(r1)\n",
    "    z2 = np.arctanh(r2)\n",
    "    sd = np.sqrt((1 / (n1 - 3)) + (1 / (n2 - 3)))\n",
    "    z = np.abs(z1 - z2) / sd\n",
    "    p_one = stats.norm.sf(z)\n",
    "    p_two = 2 * p_one\n",
    "    return z, p_one, p_two \n",
    "\n",
    "result = test_diff_r(0.135, 0.137, 1195, 396)\n",
    "print(\"z-score={0[0]:.3f}, p={0[1]:.3f} (one-tailed), p={0[2]:.3f} (two-tailed)\".format(result)) "
   ]
  }
 ],
 "metadata": {
  "hide_input": false,
  "kernelspec": {
   "display_name": "Python 3",
   "language": "python",
   "name": "python3"
  },
  "language_info": {
   "codemirror_mode": {
    "name": "ipython",
    "version": 3
   },
   "file_extension": ".py",
   "mimetype": "text/x-python",
   "name": "python",
   "nbconvert_exporter": "python",
   "pygments_lexer": "ipython3",
   "version": "3.6.7"
  }
 },
 "nbformat": 4,
 "nbformat_minor": 2
}
