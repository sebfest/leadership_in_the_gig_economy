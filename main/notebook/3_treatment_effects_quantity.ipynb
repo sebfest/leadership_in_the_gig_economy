{
 "cells": [
  {
   "cell_type": "markdown",
   "metadata": {},
   "source": [
    "### List of tables:\n",
    "\n",
    "\n",
    "1. [Table 3: Treatment effects on quantity](#quantity)\n",
    "\n",
    "### List of figures:\n",
    "\n",
    "2. [Figure S1: Time spent on intervention screen](#timer)"
   ]
  },
  {
   "cell_type": "code",
   "execution_count": 1,
   "metadata": {},
   "outputs": [],
   "source": [
    "%matplotlib inline"
   ]
  },
  {
   "cell_type": "markdown",
   "metadata": {},
   "source": [
    "#### Imports libraries"
   ]
  },
  {
   "cell_type": "code",
   "execution_count": 2,
   "metadata": {},
   "outputs": [],
   "source": [
    "import matplotlib.pyplot as plt #plotting\n",
    "import numpy as np #matrix algebra\n",
    "import os #file system handling\n",
    "import sys\n",
    "import pandas as pd #dataframe handling\n",
    "import re # regular expression\n",
    "import statsmodels.api as sm #regression analysis\n",
    "import statsmodels.formula.api as smf # regressions analysis\n",
    "\n",
    "from matplotlib.ticker import FuncFormatter #formating graphs \n",
    "from scipy import stats #statistics module\n",
    "from statsmodels.iolib.summary2 import summary_col #regression output table\n",
    "from statsmodels.stats.anova import anova_lm #regression anova table\n",
    "from statsmodels.stats.multicomp import MultiComparison #multi-comparisson tests "
   ]
  },
  {
   "cell_type": "markdown",
   "metadata": {},
   "source": [
    "#### Turn off pandas' future warnings"
   ]
  },
  {
   "cell_type": "code",
   "execution_count": 3,
   "metadata": {},
   "outputs": [],
   "source": [
    "import warnings\n",
    "warnings.simplefilter(action='ignore', category=FutureWarning)"
   ]
  },
  {
   "cell_type": "markdown",
   "metadata": {},
   "source": [
    "#### Set project directory"
   ]
  },
  {
   "cell_type": "code",
   "execution_count": 4,
   "metadata": {},
   "outputs": [],
   "source": [
    "PROJECT_FOLDER = os.path.abspath(os.path.join(os.getcwd(), os.pardir))\n",
    "FINAL_DATA_FOLDER = os.path.join(PROJECT_FOLDER, 'data', 'final')\n",
    "TABLES_FOLDER = os.path.join(PROJECT_FOLDER, 'reports', 'tables')\n",
    "FIGURES_FOLDER = os.path.join(PROJECT_FOLDER, 'reports', 'figures')"
   ]
  },
  {
   "cell_type": "markdown",
   "metadata": {},
   "source": [
    "#### Set display format"
   ]
  },
  {
   "cell_type": "code",
   "execution_count": 5,
   "metadata": {},
   "outputs": [],
   "source": [
    "pd.options.display.float_format = '{:.3f}'.format"
   ]
  },
  {
   "cell_type": "markdown",
   "metadata": {},
   "source": [
    "#### Set plotting style"
   ]
  },
  {
   "cell_type": "code",
   "execution_count": 6,
   "metadata": {},
   "outputs": [],
   "source": [
    "plt.style.use('classic')"
   ]
  },
  {
   "cell_type": "markdown",
   "metadata": {},
   "source": [
    "#### Set plotting properties "
   ]
  },
  {
   "cell_type": "code",
   "execution_count": 7,
   "metadata": {},
   "outputs": [],
   "source": [
    "bar_kwargs = dict(kind='bar', color='0.4', alpha=0.8, lw=0.5, width=0.7)\n",
    "line_kwargs = dict(kind='line', lw=1, alpha=1, legend=True)\n",
    "tick_kwargs = dict(size=5, which='both', right=False, top=False, direction='out', labelbottom=True)\n",
    "font_kwargs = dict(fontsize=11, color='k')\n",
    "grid_kwargs = dict(linewidth=1, axis=\"y\", zorder=2, antialiased=True)\n",
    "xlabel_kwargs = dict(fontsize=11, labelpad=3)\n",
    "ylabel_kwargs = dict(fontsize=11, labelpad=3)\n",
    "e_kwargs = dict(elinewidth=2, ecolor='0.15')\n",
    "legend_kwargs = dict(frameon=False)"
   ]
  },
  {
   "cell_type": "markdown",
   "metadata": {},
   "source": [
    "#### Retrieving dataframe"
   ]
  },
  {
   "cell_type": "code",
   "execution_count": 8,
   "metadata": {},
   "outputs": [
    {
     "name": "stdout",
     "output_type": "stream",
     "text": [
      "<class 'pandas.core.frame.DataFrame'>\n",
      "RangeIndex: 3094 entries, 0 to 3093\n",
      "Columns: 441 entries, age to question80_timer\n",
      "dtypes: float64(223), int64(25), object(193)\n",
      "memory usage: 10.4+ MB\n"
     ]
    }
   ],
   "source": [
    "DATA = os.path.join(FINAL_DATA_FOLDER, 'benefit_data.feather')\n",
    "df = pd.read_feather(DATA)\n",
    "df.info()"
   ]
  },
  {
   "cell_type": "markdown",
   "metadata": {},
   "source": [
    "#### Sort dataframe by treatment "
   ]
  },
  {
   "cell_type": "code",
   "execution_count": 9,
   "metadata": {},
   "outputs": [],
   "source": [
    "df = df.sort_values('treatment')"
   ]
  },
  {
   "cell_type": "markdown",
   "metadata": {},
   "source": [
    "#### Exclude subjects for which the timer did not work (10 min +/- 5%)"
   ]
  },
  {
   "cell_type": "code",
   "execution_count": 10,
   "metadata": {},
   "outputs": [],
   "source": [
    "broken_timer = (df.duration_work < 600 * 0.95)|(df.duration_work > 600 * 1.05)\n",
    "df = df[~broken_timer]"
   ]
  },
  {
   "cell_type": "markdown",
   "metadata": {},
   "source": [
    "#### Seperate quality concern-treatments from the following main analysys"
   ]
  },
  {
   "cell_type": "code",
   "execution_count": 11,
   "metadata": {},
   "outputs": [],
   "source": [
    "sel = (df.dataset != 6)\n",
    "df = df[sel]"
   ]
  },
  {
   "cell_type": "markdown",
   "metadata": {},
   "source": [
    "#### Group datasets according to treatments"
   ]
  },
  {
   "cell_type": "code",
   "execution_count": 12,
   "metadata": {},
   "outputs": [],
   "source": [
    "grouped_all = df.groupby('treatment_str')\n",
    "grouped_first = df.groupby('treatment_first')\n",
    "grouped_second = df.groupby('treatment_second')"
   ]
  },
  {
   "cell_type": "markdown",
   "metadata": {},
   "source": [
    "#### Check for differences in the number of empty submissions across treatments <a id='counter_empty'></a>"
   ]
  },
  {
   "cell_type": "code",
   "execution_count": 14,
   "metadata": {
    "scrolled": false
   },
   "outputs": [
    {
     "data": {
      "text/html": [
       "<div>\n",
       "<style scoped>\n",
       "    .dataframe tbody tr th:only-of-type {\n",
       "        vertical-align: middle;\n",
       "    }\n",
       "\n",
       "    .dataframe tbody tr th {\n",
       "        vertical-align: top;\n",
       "    }\n",
       "\n",
       "    .dataframe thead th {\n",
       "        text-align: right;\n",
       "    }\n",
       "</style>\n",
       "<table border=\"1\" class=\"dataframe\">\n",
       "  <thead>\n",
       "    <tr style=\"text-align: right;\">\n",
       "      <th></th>\n",
       "      <th>Counter empty</th>\n",
       "      <th>Counter empty</th>\n",
       "      <th>Counter empty</th>\n",
       "      <th>Counter empty</th>\n",
       "    </tr>\n",
       "  </thead>\n",
       "  <tbody>\n",
       "    <tr>\n",
       "      <th>Low piece rate</th>\n",
       "      <td>0.070</td>\n",
       "      <td></td>\n",
       "      <td>0.051</td>\n",
       "      <td>0.054</td>\n",
       "    </tr>\n",
       "    <tr>\n",
       "      <th></th>\n",
       "      <td>(0.064)</td>\n",
       "      <td></td>\n",
       "      <td>(0.059)</td>\n",
       "      <td>(0.059)</td>\n",
       "    </tr>\n",
       "    <tr>\n",
       "      <th>High piece rate</th>\n",
       "      <td>0.030</td>\n",
       "      <td></td>\n",
       "      <td>0.003</td>\n",
       "      <td>0.002</td>\n",
       "    </tr>\n",
       "    <tr>\n",
       "      <th></th>\n",
       "      <td>(0.028)</td>\n",
       "      <td></td>\n",
       "      <td>(0.016)</td>\n",
       "      <td>(0.018)</td>\n",
       "    </tr>\n",
       "    <tr>\n",
       "      <th>Expectations</th>\n",
       "      <td></td>\n",
       "      <td>-0.008</td>\n",
       "      <td>0.001</td>\n",
       "      <td>0.002</td>\n",
       "    </tr>\n",
       "    <tr>\n",
       "      <th></th>\n",
       "      <td></td>\n",
       "      <td>(0.021)</td>\n",
       "      <td>(0.013)</td>\n",
       "      <td>(0.015)</td>\n",
       "    </tr>\n",
       "    <tr>\n",
       "      <th>Goal</th>\n",
       "      <td></td>\n",
       "      <td>0.084</td>\n",
       "      <td>0.030</td>\n",
       "      <td>0.030</td>\n",
       "    </tr>\n",
       "    <tr>\n",
       "      <th></th>\n",
       "      <td></td>\n",
       "      <td>(0.069)</td>\n",
       "      <td>(0.028)</td>\n",
       "      <td>(0.028)</td>\n",
       "    </tr>\n",
       "    <tr>\n",
       "      <th>Low piece rate * expectations</th>\n",
       "      <td></td>\n",
       "      <td></td>\n",
       "      <td>-0.049</td>\n",
       "      <td>-0.048</td>\n",
       "    </tr>\n",
       "    <tr>\n",
       "      <th></th>\n",
       "      <td></td>\n",
       "      <td></td>\n",
       "      <td>(0.060)</td>\n",
       "      <td>(0.063)</td>\n",
       "    </tr>\n",
       "    <tr>\n",
       "      <th>High piece rate * expectations</th>\n",
       "      <td></td>\n",
       "      <td></td>\n",
       "      <td>0.023</td>\n",
       "      <td>0.026</td>\n",
       "    </tr>\n",
       "    <tr>\n",
       "      <th></th>\n",
       "      <td></td>\n",
       "      <td></td>\n",
       "      <td>(0.027)</td>\n",
       "      <td>(0.030)</td>\n",
       "    </tr>\n",
       "    <tr>\n",
       "      <th>Low piece rate * goal</th>\n",
       "      <td></td>\n",
       "      <td></td>\n",
       "      <td>0.105</td>\n",
       "      <td>0.101</td>\n",
       "    </tr>\n",
       "    <tr>\n",
       "      <th></th>\n",
       "      <td></td>\n",
       "      <td></td>\n",
       "      <td>(0.194)</td>\n",
       "      <td>(0.188)</td>\n",
       "    </tr>\n",
       "    <tr>\n",
       "      <th>High piece rate * goal</th>\n",
       "      <td></td>\n",
       "      <td></td>\n",
       "      <td>0.057</td>\n",
       "      <td>0.056</td>\n",
       "    </tr>\n",
       "    <tr>\n",
       "      <th></th>\n",
       "      <td></td>\n",
       "      <td></td>\n",
       "      <td>(0.081)</td>\n",
       "      <td>(0.081)</td>\n",
       "    </tr>\n",
       "    <tr>\n",
       "      <th>Age</th>\n",
       "      <td></td>\n",
       "      <td></td>\n",
       "      <td></td>\n",
       "      <td>0.001</td>\n",
       "    </tr>\n",
       "    <tr>\n",
       "      <th></th>\n",
       "      <td></td>\n",
       "      <td></td>\n",
       "      <td></td>\n",
       "      <td>(0.001)</td>\n",
       "    </tr>\n",
       "    <tr>\n",
       "      <th>Female</th>\n",
       "      <td></td>\n",
       "      <td></td>\n",
       "      <td></td>\n",
       "      <td>-0.050</td>\n",
       "    </tr>\n",
       "    <tr>\n",
       "      <th></th>\n",
       "      <td></td>\n",
       "      <td></td>\n",
       "      <td></td>\n",
       "      <td>(0.047)</td>\n",
       "    </tr>\n",
       "    <tr>\n",
       "      <th>Education</th>\n",
       "      <td></td>\n",
       "      <td></td>\n",
       "      <td></td>\n",
       "      <td>0.026</td>\n",
       "    </tr>\n",
       "    <tr>\n",
       "      <th></th>\n",
       "      <td></td>\n",
       "      <td></td>\n",
       "      <td></td>\n",
       "      <td>(0.029)</td>\n",
       "    </tr>\n",
       "    <tr>\n",
       "      <th>Mobile device</th>\n",
       "      <td></td>\n",
       "      <td></td>\n",
       "      <td></td>\n",
       "      <td>0.034</td>\n",
       "    </tr>\n",
       "    <tr>\n",
       "      <th></th>\n",
       "      <td></td>\n",
       "      <td></td>\n",
       "      <td></td>\n",
       "      <td>(0.060)</td>\n",
       "    </tr>\n",
       "    <tr>\n",
       "      <th>Latin</th>\n",
       "      <td></td>\n",
       "      <td></td>\n",
       "      <td></td>\n",
       "      <td>0.092</td>\n",
       "    </tr>\n",
       "    <tr>\n",
       "      <th></th>\n",
       "      <td></td>\n",
       "      <td></td>\n",
       "      <td></td>\n",
       "      <td>(0.090)</td>\n",
       "    </tr>\n",
       "    <tr>\n",
       "      <th>Intercept</th>\n",
       "      <td>0.034***</td>\n",
       "      <td>0.041**</td>\n",
       "      <td>0.023***</td>\n",
       "      <td>-0.214</td>\n",
       "    </tr>\n",
       "    <tr>\n",
       "      <th></th>\n",
       "      <td>(0.010)</td>\n",
       "      <td>(0.020)</td>\n",
       "      <td>(0.009)</td>\n",
       "      <td>(0.201)</td>\n",
       "    </tr>\n",
       "    <tr>\n",
       "      <th>N</th>\n",
       "      <td>2680</td>\n",
       "      <td>2680</td>\n",
       "      <td>2680</td>\n",
       "      <td>2680</td>\n",
       "    </tr>\n",
       "    <tr>\n",
       "      <th>R2</th>\n",
       "      <td>0.001</td>\n",
       "      <td>0.001</td>\n",
       "      <td>0.002</td>\n",
       "      <td>0.007</td>\n",
       "    </tr>\n",
       "  </tbody>\n",
       "</table>\n",
       "</div>"
      ],
      "text/plain": [
       "                               Counter empty Counter empty Counter empty  \\\n",
       "Low piece rate                         0.070                       0.051   \n",
       "                                     (0.064)                     (0.059)   \n",
       "High piece rate                        0.030                       0.003   \n",
       "                                     (0.028)                     (0.016)   \n",
       "Expectations                                        -0.008         0.001   \n",
       "                                                   (0.021)       (0.013)   \n",
       "Goal                                                 0.084         0.030   \n",
       "                                                   (0.069)       (0.028)   \n",
       "Low piece rate * expectations                                     -0.049   \n",
       "                                                                 (0.060)   \n",
       "High piece rate * expectations                                     0.023   \n",
       "                                                                 (0.027)   \n",
       "Low piece rate * goal                                              0.105   \n",
       "                                                                 (0.194)   \n",
       "High piece rate * goal                                             0.057   \n",
       "                                                                 (0.081)   \n",
       "Age                                                                        \n",
       "                                                                           \n",
       "Female                                                                     \n",
       "                                                                           \n",
       "Education                                                                  \n",
       "                                                                           \n",
       "Mobile device                                                              \n",
       "                                                                           \n",
       "Latin                                                                      \n",
       "                                                                           \n",
       "Intercept                           0.034***       0.041**      0.023***   \n",
       "                                     (0.010)       (0.020)       (0.009)   \n",
       "N                                       2680          2680          2680   \n",
       "R2                                     0.001         0.001         0.002   \n",
       "\n",
       "                               Counter empty  \n",
       "Low piece rate                         0.054  \n",
       "                                     (0.059)  \n",
       "High piece rate                        0.002  \n",
       "                                     (0.018)  \n",
       "Expectations                           0.002  \n",
       "                                     (0.015)  \n",
       "Goal                                   0.030  \n",
       "                                     (0.028)  \n",
       "Low piece rate * expectations         -0.048  \n",
       "                                     (0.063)  \n",
       "High piece rate * expectations         0.026  \n",
       "                                     (0.030)  \n",
       "Low piece rate * goal                  0.101  \n",
       "                                     (0.188)  \n",
       "High piece rate * goal                 0.056  \n",
       "                                     (0.081)  \n",
       "Age                                    0.001  \n",
       "                                     (0.001)  \n",
       "Female                                -0.050  \n",
       "                                     (0.047)  \n",
       "Education                              0.026  \n",
       "                                     (0.029)  \n",
       "Mobile device                          0.034  \n",
       "                                     (0.060)  \n",
       "Latin                                  0.092  \n",
       "                                     (0.090)  \n",
       "Intercept                             -0.214  \n",
       "                                     (0.201)  \n",
       "N                                       2680  \n",
       "R2                                     0.007  "
      ]
     },
     "metadata": {},
     "output_type": "display_data"
    }
   ],
   "source": [
    "regs = dict()\n",
    "regs['reg1'] = 'counter_empty ~ low_piece_rate + high_piece_rate'\n",
    "regs['reg2'] = 'counter_empty ~ expectations + goal'\n",
    "regs['reg3'] = 'counter_empty ~ (low_piece_rate + high_piece_rate) * (expectations + goal)'\n",
    "regs['reg4'] = regs['reg3'] + ' + age + female + education + mobile_device + latin'\n",
    "\n",
    "ols_results = []\n",
    "for k, v in regs.items():\n",
    "    ols = smf.ols(formula=v, data=df).fit()\n",
    "    ols = ols.get_robustcov_results()\n",
    "    ols_results.append(ols)\n",
    "\n",
    "order = [\n",
    "    'low_piece_rate',\n",
    "    'high_piece_rate',\n",
    "    'expectations',\n",
    "    'goal',\n",
    "    'low_piece_rate:expectations',\n",
    "    'high_piece_rate:expectations',\n",
    "    'low_piece_rate:goal',\n",
    "    'high_piece_rate:goal',\n",
    "    'age',\n",
    "    'female',\n",
    "    'education',\n",
    "    'mobile_device',\n",
    "    'latin',\n",
    "    'Intercept',\n",
    "]\n",
    "\n",
    "auxiliary = {\n",
    "    'N': lambda x: \"{:d}\".format(int(x.nobs)),\n",
    "    'R2': lambda x: \"{:.3f}\".format(x.rsquared)\n",
    "}\n",
    "\n",
    "summary = summary_col(\n",
    "    ols_results,\n",
    "    stars=True,\n",
    "    info_dict=auxiliary,\n",
    "    float_format='%.3f',\n",
    "    regressor_order=order\n",
    ")\n",
    "summary = summary\\\n",
    "    .tables[0]\\\n",
    "    .rename(mapper=lambda x: x.replace('_', ' ').replace(':', ' * ').capitalize(), axis=0)\\\n",
    "    .rename(mapper=lambda x: x.capitalize().split()[0].replace('_', ' '), axis=1)\\\n",
    "\n",
    "display(summary)"
   ]
  },
  {
   "cell_type": "markdown",
   "metadata": {},
   "source": [
    "#### Histogram for number of sentences submitted  <a id='histogram_counter_real'></a>"
   ]
  },
  {
   "cell_type": "code",
   "execution_count": 15,
   "metadata": {
    "scrolled": false
   },
   "outputs": [
    {
     "data": {
      "image/png": "[encoded data removed]",
      "text/plain": [
       "<Figure size 2100x2100 with 9 Axes>"
      ]
     },
     "metadata": {},
     "output_type": "display_data"
    }
   ],
   "source": [
    "common_params = dict(bins=15, range=(0, 80), density=True, color='0.4', alpha=0.8, grid=False)\n",
    "fig, axis = plt.subplots(ncols=3, nrows=3, sharey=True, figsize=(14, 14), dpi=150)\n",
    "fig.set_facecolor('w')\n",
    "fig.subplots_adjust(hspace=0.35, wspace=0.25)\n",
    "for i, ax in enumerate(fig.axes):     \n",
    "    ax.set_title(df.treatment_str.unique()[i], **font_kwargs)\n",
    "    df_hist = df[df.treatment_str == df.treatment_str.unique()[i]]['counter_real']\n",
    "    df_hist.hist(ax=ax, **common_params)\n",
    "    ax.yaxis.set_major_formatter(FuncFormatter('{:.0%}'.format))\n",
    "    ax.yaxis.set_ticks_position('left')\n",
    "    ax.tick_params(axis='x', **tick_kwargs)\n",
    "    ax.tick_params(axis='y', labelsize=10, **tick_kwargs)\n",
    "    ax.set_xlabel(\"Submitted sentences\", **xlabel_kwargs)\n",
    "    ax.set_ylabel(\"Share of subjects\", **ylabel_kwargs)\n",
    "    mean, std = df_hist.mean(), df_hist.std()\n",
    "    ax.text(55, 0.05 , \"$\\~{a}={b:.2f}$\\n$s={c:.2f}$\".format(a='x', b=mean, c=std))\n",
    "plt.savefig(os.path.join(FIGURES_FOLDER, 'counter_real_hist.pdf'), bbox_inches='tight')"
   ]
  },
  {
   "cell_type": "markdown",
   "metadata": {},
   "source": [
    "####  Plotting inverse cumulutative distribution function for fragments submitted"
   ]
  },
  {
   "cell_type": "code",
   "execution_count": 16,
   "metadata": {},
   "outputs": [],
   "source": [
    "columns = [\"question{}_answer\".format(x) for x in range(1, df.counter.max() + 1)]\n",
    "\n",
    "df_counter_first = grouped_first[columns]\\\n",
    "    .count()\\\n",
    "    .transpose()\\\n",
    "    .rename_axis('', axis=1)\\\n",
    "    .reset_index(drop=True)\\\n",
    "    .sort_index(axis=1, ascending=False)\\\n",
    "    .apply(lambda x: x/x.loc[0], axis=0)\n",
    "\n",
    "df_counter_second = grouped_second[columns]\\\n",
    "    .count()\\\n",
    "    .transpose()\\\n",
    "    .rename_axis('', axis=1)\\\n",
    "    .reset_index(drop=True)\\\n",
    "    .sort_index(axis=1, ascending=False)\\\n",
    "    .apply(lambda x: x/x.loc[0], axis=0)\n",
    "\n",
    "fig, axis = plt.subplots(nrows=2, figsize=(8, 10), dpi=100, facecolor='w')\n",
    "fig.subplots_adjust(hspace=0.30)\n",
    "axis[0].set_title('$\\mathbf{Panel \\ A}$: Performance pay', **font_kwargs)\n",
    "axis[1].set_title('$\\mathbf{Panel \\ B}$: Leadership technique', **font_kwargs)\n",
    "df_counter_first.plot(ax=axis[0], color='0.1', style=['-', '--',  ':'])\n",
    "df_counter_second.plot(ax=axis[1], color='0.1', style=['-', '--', ':'])\n",
    "for ax in axis:\n",
    "    ax.tick_params(axis='x', **tick_kwargs)\n",
    "    ax.tick_params(axis='y', labelsize='medium', **tick_kwargs)\n",
    "    ax.set_xlabel(\"Fragments submitted\", **xlabel_kwargs)\n",
    "    ax.set_ylabel(\"Share subjects submitting\", **ylabel_kwargs)\n",
    "    ax.yaxis.set_major_formatter(FuncFormatter(lambda y, _: '{:.0%}'.format(y)))\n",
    "    ax.set_ylim(0.0, 1.0) \n",
    "    ax.set_xlim(0.0, 50)\n",
    "    ax.legend(frameon=False, shadow=True, fontsize='medium')\n",
    "plt.savefig(os.path.join(FIGURES_FOLDER, 'icdf.pdf'), bbox_inches='tight')"
   ]
  },
  {
   "cell_type": "markdown",
   "metadata": {},
   "source": [
    "#### Pairwise sample distribution comparisson test for number of fragments submitted, first dimension"
   ]
  },
  {
   "cell_type": "code",
   "execution_count": 31,
   "metadata": {},
   "outputs": [
    {
     "data": {
      "text/html": [
       "<table class=\"simpletable\">\n",
       "<caption>Test Multiple Comparison ks_2samp \n",
       "FWER=0.05 method=Holm\n",
       "alphacSidak=0.02, alphacBonf=0.017</caption>\n",
       "<tr>\n",
       "      <th>group1</th>          <th>group2</th>      <th>stat</th>   <th>pval</th>  <th>pval_corr</th> <th>reject</th>\n",
       "</tr>\n",
       "<tr>\n",
       "  <td>High piece rate</td> <td>Low piece rate</td> <td>0.0354</td> <td>0.6232</td>  <td>0.6232</td>    <td>False</td>\n",
       "</tr>\n",
       "<tr>\n",
       "  <td>High piece rate</td>  <td>No piece rate</td> <td>0.0782</td> <td>0.0079</td>  <td>0.0237</td>    <td>True</td> \n",
       "</tr>\n",
       "<tr>\n",
       "  <td>Low piece rate</td>   <td>No piece rate</td> <td>0.0752</td> <td>0.0122</td>  <td>0.0244</td>    <td>True</td> \n",
       "</tr>\n",
       "</table>"
      ],
      "text/plain": [
       "<class 'statsmodels.iolib.table.SimpleTable'>"
      ]
     },
     "execution_count": 31,
     "metadata": {},
     "output_type": "execute_result"
    }
   ],
   "source": [
    "mct = MultiComparison(df.counter_real, df.treatment_first)\n",
    "mct.allpairtest(stats.ks_2samp, method='Holm')[0]"
   ]
  },
  {
   "cell_type": "markdown",
   "metadata": {},
   "source": [
    "#### Pairwise T-test of mean differences for number of fragments submitted, first dimension"
   ]
  },
  {
   "cell_type": "code",
   "execution_count": 30,
   "metadata": {},
   "outputs": [
    {
     "data": {
      "text/html": [
       "<table class=\"simpletable\">\n",
       "<caption>Test Multiple Comparison ttest_ind \n",
       "FWER=0.05 method=Holm\n",
       "alphacSidak=0.02, alphacBonf=0.017</caption>\n",
       "<tr>\n",
       "      <th>group1</th>          <th>group2</th>      <th>stat</th>   <th>pval</th>  <th>pval_corr</th> <th>reject</th>\n",
       "</tr>\n",
       "<tr>\n",
       "  <td>High piece rate</td> <td>Low piece rate</td> <td>0.0647</td> <td>0.9484</td>  <td>0.9484</td>    <td>False</td>\n",
       "</tr>\n",
       "<tr>\n",
       "  <td>High piece rate</td>  <td>No piece rate</td> <td>3.4065</td> <td>0.0007</td>   <td>0.002</td>    <td>True</td> \n",
       "</tr>\n",
       "<tr>\n",
       "  <td>Low piece rate</td>   <td>No piece rate</td> <td>3.2827</td>  <td>0.001</td>  <td>0.0021</td>    <td>True</td> \n",
       "</tr>\n",
       "</table>"
      ],
      "text/plain": [
       "<class 'statsmodels.iolib.table.SimpleTable'>"
      ]
     },
     "execution_count": 30,
     "metadata": {},
     "output_type": "execute_result"
    }
   ],
   "source": [
    "mct.allpairtest(stats.ttest_ind, method='Holm')[0]"
   ]
  },
  {
   "cell_type": "markdown",
   "metadata": {},
   "source": [
    "#### Pairwise variance comparisson test for number of fragments submitted, first dimension"
   ]
  },
  {
   "cell_type": "code",
   "execution_count": 21,
   "metadata": {},
   "outputs": [
    {
     "data": {
      "text/html": [
       "<table class=\"simpletable\">\n",
       "<caption>Test Multiple Comparison levene \n",
       "FWER=0.05 method=Holm\n",
       "alphacSidak=0.02, alphacBonf=0.017</caption>\n",
       "<tr>\n",
       "      <th>group1</th>          <th>group2</th>      <th>stat</th>   <th>pval</th>  <th>pval_corr</th> <th>reject</th>\n",
       "</tr>\n",
       "<tr>\n",
       "  <td>High piece rate</td> <td>Low piece rate</td>  <td>1.377</td> <td>0.2408</td>  <td>0.4816</td>    <td>False</td>\n",
       "</tr>\n",
       "<tr>\n",
       "  <td>High piece rate</td>  <td>No piece rate</td> <td>0.4227</td> <td>0.5157</td>  <td>0.5157</td>    <td>False</td>\n",
       "</tr>\n",
       "<tr>\n",
       "  <td>Low piece rate</td>   <td>No piece rate</td>  <td>3.398</td> <td>0.0654</td>  <td>0.1963</td>    <td>False</td>\n",
       "</tr>\n",
       "</table>"
      ],
      "text/plain": [
       "<class 'statsmodels.iolib.table.SimpleTable'>"
      ]
     },
     "execution_count": 21,
     "metadata": {},
     "output_type": "execute_result"
    }
   ],
   "source": [
    "mct.allpairtest(stats.levene, method='Holm')[0]"
   ]
  },
  {
   "cell_type": "markdown",
   "metadata": {},
   "source": [
    "#### Compare average number of fragments submitted, first dimension"
   ]
  },
  {
   "cell_type": "code",
   "execution_count": 19,
   "metadata": {},
   "outputs": [
    {
     "data": {
      "text/html": [
       "<div>\n",
       "<style scoped>\n",
       "    .dataframe tbody tr th:only-of-type {\n",
       "        vertical-align: middle;\n",
       "    }\n",
       "\n",
       "    .dataframe tbody tr th {\n",
       "        vertical-align: top;\n",
       "    }\n",
       "\n",
       "    .dataframe thead th {\n",
       "        text-align: right;\n",
       "    }\n",
       "</style>\n",
       "<table border=\"1\" class=\"dataframe\">\n",
       "  <thead>\n",
       "    <tr style=\"text-align: right;\">\n",
       "      <th></th>\n",
       "      <th>mean</th>\n",
       "      <th>sem</th>\n",
       "      <th>count</th>\n",
       "    </tr>\n",
       "    <tr>\n",
       "      <th>treatment_first</th>\n",
       "      <th></th>\n",
       "      <th></th>\n",
       "      <th></th>\n",
       "    </tr>\n",
       "  </thead>\n",
       "  <tbody>\n",
       "    <tr>\n",
       "      <th>No piece rate</th>\n",
       "      <td>22.209</td>\n",
       "      <td>0.290</td>\n",
       "      <td>891</td>\n",
       "    </tr>\n",
       "    <tr>\n",
       "      <th>Low piece rate</th>\n",
       "      <td>23.596</td>\n",
       "      <td>0.307</td>\n",
       "      <td>891</td>\n",
       "    </tr>\n",
       "    <tr>\n",
       "      <th>High piece rate</th>\n",
       "      <td>23.624</td>\n",
       "      <td>0.297</td>\n",
       "      <td>898</td>\n",
       "    </tr>\n",
       "  </tbody>\n",
       "</table>\n",
       "</div>"
      ],
      "text/plain": [
       "                  mean   sem  count\n",
       "treatment_first                    \n",
       "No piece rate   22.209 0.290    891\n",
       "Low piece rate  23.596 0.307    891\n",
       "High piece rate 23.624 0.297    898"
      ]
     },
     "metadata": {},
     "output_type": "display_data"
    }
   ],
   "source": [
    "counter_first = grouped_first['counter_real']\\\n",
    "    .agg(['mean', 'sem', 'count'])\\\n",
    "    .sort_index(axis=0, ascending=False)\n",
    "\n",
    "display(counter_first)"
   ]
  },
  {
   "cell_type": "markdown",
   "metadata": {},
   "source": [
    "#### Plot average number of fragments submitted, first treatment dimension"
   ]
  },
  {
   "cell_type": "code",
   "execution_count": 22,
   "metadata": {},
   "outputs": [
    {
     "data": {
      "image/png": "[encoded data removed]",
      "text/plain": [
       "<Figure size 800x600 with 1 Axes>"
      ]
     },
     "metadata": {},
     "output_type": "display_data"
    }
   ],
   "source": [
    "fig, ax = plt.subplots(figsize=(8, 6), dpi=100, facecolor='w')\n",
    "counter_first['mean'].plot(yerr=counter_first['sem'], ax=ax, error_kw=e_kwargs, **bar_kwargs)\n",
    "ax.set_title('Average number of submissions', **font_kwargs)\n",
    "ax.tick_params(axis='x', rotation=0, **tick_kwargs)\n",
    "ax.tick_params(axis='y', **tick_kwargs)\n",
    "ax.set_ylabel(\"Mean number submissions +/- SE(mean)\", **ylabel_kwargs)\n",
    "ax.set_xlabel(\"\") \n",
    "plt.savefig(os.path.join(FIGURES_FOLDER, 'counter_real_first.pdf'), bbox_inches='tight')\n",
    "plt.show()"
   ]
  },
  {
   "cell_type": "markdown",
   "metadata": {},
   "source": [
    "####  Pairwise T-test of mean differences for number of fragments submitted, second dimension"
   ]
  },
  {
   "cell_type": "code",
   "execution_count": 32,
   "metadata": {},
   "outputs": [
    {
     "data": {
      "text/html": [
       "<table class=\"simpletable\">\n",
       "<caption>Test Multiple Comparison ttest_ind \n",
       "FWER=0.05 method=Holm\n",
       "alphacSidak=0.02, alphacBonf=0.017</caption>\n",
       "<tr>\n",
       "     <th>group1</th>    <th>group2</th>   <th>stat</th>    <th>pval</th>  <th>pval_corr</th> <th>reject</th>\n",
       "</tr>\n",
       "<tr>\n",
       "  <td>Expectations</td>  <td>Goal</td>   <td>-2.1349</td> <td>0.0329</td>  <td>0.0658</td>    <td>False</td>\n",
       "</tr>\n",
       "<tr>\n",
       "  <td>Expectations</td> <td>Neutral</td> <td>-2.7416</td> <td>0.0062</td>  <td>0.0185</td>    <td>True</td> \n",
       "</tr>\n",
       "<tr>\n",
       "      <td>Goal</td>     <td>Neutral</td> <td>-0.7977</td> <td>0.4251</td>  <td>0.4251</td>    <td>False</td>\n",
       "</tr>\n",
       "</table>"
      ],
      "text/plain": [
       "<class 'statsmodels.iolib.table.SimpleTable'>"
      ]
     },
     "execution_count": 32,
     "metadata": {},
     "output_type": "execute_result"
    }
   ],
   "source": [
    "mct.allpairtest(stats.ttest_ind, method='Holm')[0]"
   ]
  },
  {
   "cell_type": "markdown",
   "metadata": {},
   "source": [
    "####  Pairwise variance comparisson test for number of fragments submitted, second dimension"
   ]
  },
  {
   "cell_type": "code",
   "execution_count": 33,
   "metadata": {},
   "outputs": [
    {
     "data": {
      "text/html": [
       "<table class=\"simpletable\">\n",
       "<caption>Test Multiple Comparison levene \n",
       "FWER=0.05 method=Holm\n",
       "alphacSidak=0.02, alphacBonf=0.017</caption>\n",
       "<tr>\n",
       "     <th>group1</th>    <th>group2</th>   <th>stat</th>    <th>pval</th>  <th>pval_corr</th> <th>reject</th>\n",
       "</tr>\n",
       "<tr>\n",
       "  <td>Expectations</td>  <td>Goal</td>   <td>17.938</td>    <td>0.0</td>     <td>0.0</td>     <td>True</td> \n",
       "</tr>\n",
       "<tr>\n",
       "  <td>Expectations</td> <td>Neutral</td> <td>0.2154</td>  <td>0.6426</td>  <td>0.6426</td>    <td>False</td>\n",
       "</tr>\n",
       "<tr>\n",
       "      <td>Goal</td>     <td>Neutral</td> <td>20.4256</td>   <td>0.0</td>     <td>0.0</td>     <td>True</td> \n",
       "</tr>\n",
       "</table>"
      ],
      "text/plain": [
       "<class 'statsmodels.iolib.table.SimpleTable'>"
      ]
     },
     "execution_count": 33,
     "metadata": {},
     "output_type": "execute_result"
    }
   ],
   "source": [
    "mct.allpairtest(stats.levene, method='Holm')[0]"
   ]
  },
  {
   "cell_type": "markdown",
   "metadata": {},
   "source": [
    "#### Pairwise sample distribution comparisson test for number of fragments submitted, first dimension"
   ]
  },
  {
   "cell_type": "code",
   "execution_count": 34,
   "metadata": {},
   "outputs": [
    {
     "data": {
      "text/html": [
       "<table class=\"simpletable\">\n",
       "<caption>Test Multiple Comparison ks_2samp \n",
       "FWER=0.05 method=Holm\n",
       "alphacSidak=0.02, alphacBonf=0.017</caption>\n",
       "<tr>\n",
       "     <th>group1</th>    <th>group2</th>   <th>stat</th>   <th>pval</th>  <th>pval_corr</th> <th>reject</th>\n",
       "</tr>\n",
       "<tr>\n",
       "  <td>Expectations</td>  <td>Goal</td>   <td>0.1008</td> <td>0.0002</td>  <td>0.0006</td>    <td>True</td> \n",
       "</tr>\n",
       "<tr>\n",
       "  <td>Expectations</td> <td>Neutral</td> <td>0.0632</td> <td>0.0542</td>  <td>0.1084</td>    <td>False</td>\n",
       "</tr>\n",
       "<tr>\n",
       "      <td>Goal</td>     <td>Neutral</td> <td>0.0505</td> <td>0.1988</td>  <td>0.1988</td>    <td>False</td>\n",
       "</tr>\n",
       "</table>"
      ],
      "text/plain": [
       "<class 'statsmodels.iolib.table.SimpleTable'>"
      ]
     },
     "execution_count": 34,
     "metadata": {},
     "output_type": "execute_result"
    }
   ],
   "source": [
    "mct = MultiComparison(df.counter_real, df.treatment_second)\n",
    "mct.allpairtest(stats.ks_2samp, method='Holm')[0]"
   ]
  },
  {
   "cell_type": "markdown",
   "metadata": {},
   "source": [
    "#### Compare average number of fragments submitted, second dimension"
   ]
  },
  {
   "cell_type": "code",
   "execution_count": 23,
   "metadata": {},
   "outputs": [
    {
     "data": {
      "text/html": [
       "<div>\n",
       "<style scoped>\n",
       "    .dataframe tbody tr th:only-of-type {\n",
       "        vertical-align: middle;\n",
       "    }\n",
       "\n",
       "    .dataframe tbody tr th {\n",
       "        vertical-align: top;\n",
       "    }\n",
       "\n",
       "    .dataframe thead th {\n",
       "        text-align: right;\n",
       "    }\n",
       "</style>\n",
       "<table border=\"1\" class=\"dataframe\">\n",
       "  <thead>\n",
       "    <tr style=\"text-align: right;\">\n",
       "      <th></th>\n",
       "      <th>mean</th>\n",
       "      <th>sem</th>\n",
       "      <th>count</th>\n",
       "    </tr>\n",
       "    <tr>\n",
       "      <th>treatment_second</th>\n",
       "      <th></th>\n",
       "      <th></th>\n",
       "      <th></th>\n",
       "    </tr>\n",
       "  </thead>\n",
       "  <tbody>\n",
       "    <tr>\n",
       "      <th>Neutral</th>\n",
       "      <td>23.656</td>\n",
       "      <td>0.316</td>\n",
       "      <td>897</td>\n",
       "    </tr>\n",
       "    <tr>\n",
       "      <th>Goal</th>\n",
       "      <td>23.323</td>\n",
       "      <td>0.272</td>\n",
       "      <td>893</td>\n",
       "    </tr>\n",
       "    <tr>\n",
       "      <th>Expectations</th>\n",
       "      <td>22.449</td>\n",
       "      <td>0.305</td>\n",
       "      <td>890</td>\n",
       "    </tr>\n",
       "  </tbody>\n",
       "</table>\n",
       "</div>"
      ],
      "text/plain": [
       "                   mean   sem  count\n",
       "treatment_second                    \n",
       "Neutral          23.656 0.316    897\n",
       "Goal             23.323 0.272    893\n",
       "Expectations     22.449 0.305    890"
      ]
     },
     "metadata": {},
     "output_type": "display_data"
    }
   ],
   "source": [
    "counter_second = grouped_second['counter_real']\\\n",
    "    .agg(['mean', 'sem', 'count'])\\\n",
    "    .sort_index(axis=0, ascending=False)\n",
    "    \n",
    "display(counter_second)"
   ]
  },
  {
   "cell_type": "markdown",
   "metadata": {},
   "source": [
    "#### Plot average number of submissions, second treatment dimension"
   ]
  },
  {
   "cell_type": "code",
   "execution_count": 26,
   "metadata": {
    "scrolled": false
   },
   "outputs": [
    {
     "data": {
      "image/png": "[encoded data removed]",
      "text/plain": [
       "<Figure size 800x600 with 1 Axes>"
      ]
     },
     "metadata": {},
     "output_type": "display_data"
    }
   ],
   "source": [
    "fig, ax = plt.subplots(figsize=(8, 6), dpi=100, facecolor='w')\n",
    "ax.set_title('Average number of submissions', **font_kwargs)\n",
    "counter_second['mean'].plot(yerr=counter_second['sem'], ax=ax, error_kw=e_kwargs, **bar_kwargs)\n",
    "ax.tick_params(axis='x', rotation=0, **tick_kwargs)\n",
    "ax.tick_params(axis='y', **tick_kwargs)\n",
    "ax.set_xlabel(\"\") \n",
    "ax.set_ylabel(\"Mean number submissions +/- SE(mean)\", **ylabel_kwargs)\n",
    "plt.savefig(os.path.join(FIGURES_FOLDER, 'counter_real_second.pdf'))\n",
    "plt.show()"
   ]
  },
  {
   "cell_type": "markdown",
   "metadata": {},
   "source": [
    "#### Cross tabulate average number of fragments submitted"
   ]
  },
  {
   "cell_type": "code",
   "execution_count": 18,
   "metadata": {
    "scrolled": false
   },
   "outputs": [
    {
     "data": {
      "text/html": [
       "<div>\n",
       "<style scoped>\n",
       "    .dataframe tbody tr th:only-of-type {\n",
       "        vertical-align: middle;\n",
       "    }\n",
       "\n",
       "    .dataframe tbody tr th {\n",
       "        vertical-align: top;\n",
       "    }\n",
       "\n",
       "    .dataframe thead th {\n",
       "        text-align: right;\n",
       "    }\n",
       "</style>\n",
       "<table border=\"1\" class=\"dataframe\">\n",
       "  <thead>\n",
       "    <tr style=\"text-align: right;\">\n",
       "      <th></th>\n",
       "      <th>Neutral</th>\n",
       "      <th>Expectations</th>\n",
       "      <th>Goal</th>\n",
       "      <th>All</th>\n",
       "    </tr>\n",
       "  </thead>\n",
       "  <tbody>\n",
       "    <tr>\n",
       "      <th>No piece rate</th>\n",
       "      <td>22.277</td>\n",
       "      <td>21.202</td>\n",
       "      <td>23.124</td>\n",
       "      <td>22.209</td>\n",
       "    </tr>\n",
       "    <tr>\n",
       "      <th>Low piece rate</th>\n",
       "      <td>24.227</td>\n",
       "      <td>22.880</td>\n",
       "      <td>23.695</td>\n",
       "      <td>23.596</td>\n",
       "    </tr>\n",
       "    <tr>\n",
       "      <th>High piece rate</th>\n",
       "      <td>24.467</td>\n",
       "      <td>23.239</td>\n",
       "      <td>23.154</td>\n",
       "      <td>23.624</td>\n",
       "    </tr>\n",
       "    <tr>\n",
       "      <th>All</th>\n",
       "      <td>23.656</td>\n",
       "      <td>22.449</td>\n",
       "      <td>23.323</td>\n",
       "      <td>23.144</td>\n",
       "    </tr>\n",
       "  </tbody>\n",
       "</table>\n",
       "</div>"
      ],
      "text/plain": [
       "                 Neutral  Expectations   Goal    All\n",
       "No piece rate     22.277        21.202 23.124 22.209\n",
       "Low piece rate    24.227        22.880 23.695 23.596\n",
       "High piece rate   24.467        23.239 23.154 23.624\n",
       "All               23.656        22.449 23.323 23.144"
      ]
     },
     "metadata": {},
     "output_type": "display_data"
    }
   ],
   "source": [
    "counter_cross = pd.crosstab(\n",
    "    df['treatment_first'],\n",
    "    df['treatment_second'],\n",
    "    values= df['counter_real'],\n",
    "    aggfunc='mean',\n",
    "    margins=True\n",
    ")\\\n",
    ".reindex(pd.Index(['No piece rate', 'Low piece rate', 'High piece rate', 'All']))\\\n",
    ".reindex(pd.Index(['Neutral', 'Expectations', 'Goal', 'All']), axis=1)\n",
    "\n",
    "display(counter_cross)"
   ]
  },
  {
   "cell_type": "markdown",
   "metadata": {},
   "source": [
    "#### Table 3: Treatment effects on quantity <a id='quantity'></a>"
   ]
  },
  {
   "cell_type": "code",
   "execution_count": 27,
   "metadata": {},
   "outputs": [
    {
     "data": {
      "text/html": [
       "<div>\n",
       "<style scoped>\n",
       "    .dataframe tbody tr th:only-of-type {\n",
       "        vertical-align: middle;\n",
       "    }\n",
       "\n",
       "    .dataframe tbody tr th {\n",
       "        vertical-align: top;\n",
       "    }\n",
       "\n",
       "    .dataframe thead th {\n",
       "        text-align: right;\n",
       "    }\n",
       "</style>\n",
       "<table border=\"1\" class=\"dataframe\">\n",
       "  <thead>\n",
       "    <tr style=\"text-align: right;\">\n",
       "      <th></th>\n",
       "      <th>Counter real</th>\n",
       "      <th>Counter real</th>\n",
       "      <th>Counter real</th>\n",
       "      <th>Counter real</th>\n",
       "    </tr>\n",
       "  </thead>\n",
       "  <tbody>\n",
       "    <tr>\n",
       "      <th>Low piece rate</th>\n",
       "      <td>1.387***</td>\n",
       "      <td></td>\n",
       "      <td>1.950**</td>\n",
       "      <td>1.990***</td>\n",
       "    </tr>\n",
       "    <tr>\n",
       "      <th></th>\n",
       "      <td>(0.423)</td>\n",
       "      <td></td>\n",
       "      <td>(0.780)</td>\n",
       "      <td>(0.750)</td>\n",
       "    </tr>\n",
       "    <tr>\n",
       "      <th>High piece rate</th>\n",
       "      <td>1.415***</td>\n",
       "      <td></td>\n",
       "      <td>2.190***</td>\n",
       "      <td>1.983***</td>\n",
       "    </tr>\n",
       "    <tr>\n",
       "      <th></th>\n",
       "      <td>(0.415)</td>\n",
       "      <td></td>\n",
       "      <td>(0.737)</td>\n",
       "      <td>(0.719)</td>\n",
       "    </tr>\n",
       "    <tr>\n",
       "      <th>Expectations</th>\n",
       "      <td></td>\n",
       "      <td>-1.206***</td>\n",
       "      <td>-1.075</td>\n",
       "      <td>-1.280*</td>\n",
       "    </tr>\n",
       "    <tr>\n",
       "      <th></th>\n",
       "      <td></td>\n",
       "      <td>(0.440)</td>\n",
       "      <td>(0.730)</td>\n",
       "      <td>(0.704)</td>\n",
       "    </tr>\n",
       "    <tr>\n",
       "      <th>Goal</th>\n",
       "      <td></td>\n",
       "      <td>-0.333</td>\n",
       "      <td>0.847</td>\n",
       "      <td>0.794</td>\n",
       "    </tr>\n",
       "    <tr>\n",
       "      <th></th>\n",
       "      <td></td>\n",
       "      <td>(0.417)</td>\n",
       "      <td>(0.690)</td>\n",
       "      <td>(0.670)</td>\n",
       "    </tr>\n",
       "    <tr>\n",
       "      <th>Low piece rate * expectations</th>\n",
       "      <td></td>\n",
       "      <td></td>\n",
       "      <td>-0.272</td>\n",
       "      <td>-0.474</td>\n",
       "    </tr>\n",
       "    <tr>\n",
       "      <th></th>\n",
       "      <td></td>\n",
       "      <td></td>\n",
       "      <td>(1.082)</td>\n",
       "      <td>(1.041)</td>\n",
       "    </tr>\n",
       "    <tr>\n",
       "      <th>High piece rate * expectations</th>\n",
       "      <td></td>\n",
       "      <td></td>\n",
       "      <td>-0.153</td>\n",
       "      <td>0.099</td>\n",
       "    </tr>\n",
       "    <tr>\n",
       "      <th></th>\n",
       "      <td></td>\n",
       "      <td></td>\n",
       "      <td>(1.045)</td>\n",
       "      <td>(1.017)</td>\n",
       "    </tr>\n",
       "    <tr>\n",
       "      <th>Low piece rate * goal</th>\n",
       "      <td></td>\n",
       "      <td></td>\n",
       "      <td>-1.379</td>\n",
       "      <td>-1.653*</td>\n",
       "    </tr>\n",
       "    <tr>\n",
       "      <th></th>\n",
       "      <td></td>\n",
       "      <td></td>\n",
       "      <td>(1.020)</td>\n",
       "      <td>(0.976)</td>\n",
       "    </tr>\n",
       "    <tr>\n",
       "      <th>High piece rate * goal</th>\n",
       "      <td></td>\n",
       "      <td></td>\n",
       "      <td>-2.160**</td>\n",
       "      <td>-1.987**</td>\n",
       "    </tr>\n",
       "    <tr>\n",
       "      <th></th>\n",
       "      <td></td>\n",
       "      <td></td>\n",
       "      <td>(0.999)</td>\n",
       "      <td>(0.968)</td>\n",
       "    </tr>\n",
       "    <tr>\n",
       "      <th>Age</th>\n",
       "      <td></td>\n",
       "      <td></td>\n",
       "      <td></td>\n",
       "      <td>-0.192***</td>\n",
       "    </tr>\n",
       "    <tr>\n",
       "      <th></th>\n",
       "      <td></td>\n",
       "      <td></td>\n",
       "      <td></td>\n",
       "      <td>(0.015)</td>\n",
       "    </tr>\n",
       "    <tr>\n",
       "      <th>Female</th>\n",
       "      <td></td>\n",
       "      <td></td>\n",
       "      <td></td>\n",
       "      <td>0.706**</td>\n",
       "    </tr>\n",
       "    <tr>\n",
       "      <th></th>\n",
       "      <td></td>\n",
       "      <td></td>\n",
       "      <td></td>\n",
       "      <td>(0.334)</td>\n",
       "    </tr>\n",
       "    <tr>\n",
       "      <th>Education</th>\n",
       "      <td></td>\n",
       "      <td></td>\n",
       "      <td></td>\n",
       "      <td>0.549***</td>\n",
       "    </tr>\n",
       "    <tr>\n",
       "      <th></th>\n",
       "      <td></td>\n",
       "      <td></td>\n",
       "      <td></td>\n",
       "      <td>(0.130)</td>\n",
       "    </tr>\n",
       "    <tr>\n",
       "      <th>Mobile device</th>\n",
       "      <td></td>\n",
       "      <td></td>\n",
       "      <td></td>\n",
       "      <td>-5.019***</td>\n",
       "    </tr>\n",
       "    <tr>\n",
       "      <th></th>\n",
       "      <td></td>\n",
       "      <td></td>\n",
       "      <td></td>\n",
       "      <td>(0.866)</td>\n",
       "    </tr>\n",
       "    <tr>\n",
       "      <th>Latin</th>\n",
       "      <td></td>\n",
       "      <td></td>\n",
       "      <td></td>\n",
       "      <td>0.404</td>\n",
       "    </tr>\n",
       "    <tr>\n",
       "      <th></th>\n",
       "      <td></td>\n",
       "      <td></td>\n",
       "      <td></td>\n",
       "      <td>(0.251)</td>\n",
       "    </tr>\n",
       "    <tr>\n",
       "      <th>Intercept</th>\n",
       "      <td>22.209***</td>\n",
       "      <td>23.656***</td>\n",
       "      <td>22.277***</td>\n",
       "      <td>26.871***</td>\n",
       "    </tr>\n",
       "    <tr>\n",
       "      <th></th>\n",
       "      <td>(0.290)</td>\n",
       "      <td>(0.316)</td>\n",
       "      <td>(0.505)</td>\n",
       "      <td>(0.870)</td>\n",
       "    </tr>\n",
       "    <tr>\n",
       "      <th>N</th>\n",
       "      <td>2680</td>\n",
       "      <td>2680</td>\n",
       "      <td>2680</td>\n",
       "      <td>2680</td>\n",
       "    </tr>\n",
       "    <tr>\n",
       "      <th>R2</th>\n",
       "      <td>0.005</td>\n",
       "      <td>0.003</td>\n",
       "      <td>0.011</td>\n",
       "      <td>0.083</td>\n",
       "    </tr>\n",
       "  </tbody>\n",
       "</table>\n",
       "</div>"
      ],
      "text/plain": [
       "                               Counter real Counter real Counter real  \\\n",
       "Low piece rate                     1.387***                   1.950**   \n",
       "                                    (0.423)                   (0.780)   \n",
       "High piece rate                    1.415***                  2.190***   \n",
       "                                    (0.415)                   (0.737)   \n",
       "Expectations                                   -1.206***       -1.075   \n",
       "                                                 (0.440)      (0.730)   \n",
       "Goal                                              -0.333        0.847   \n",
       "                                                 (0.417)      (0.690)   \n",
       "Low piece rate * expectations                                  -0.272   \n",
       "                                                              (1.082)   \n",
       "High piece rate * expectations                                 -0.153   \n",
       "                                                              (1.045)   \n",
       "Low piece rate * goal                                          -1.379   \n",
       "                                                              (1.020)   \n",
       "High piece rate * goal                                       -2.160**   \n",
       "                                                              (0.999)   \n",
       "Age                                                                     \n",
       "                                                                        \n",
       "Female                                                                  \n",
       "                                                                        \n",
       "Education                                                               \n",
       "                                                                        \n",
       "Mobile device                                                           \n",
       "                                                                        \n",
       "Latin                                                                   \n",
       "                                                                        \n",
       "Intercept                         22.209***    23.656***    22.277***   \n",
       "                                    (0.290)      (0.316)      (0.505)   \n",
       "N                                      2680         2680         2680   \n",
       "R2                                    0.005        0.003        0.011   \n",
       "\n",
       "                               Counter real  \n",
       "Low piece rate                     1.990***  \n",
       "                                    (0.750)  \n",
       "High piece rate                    1.983***  \n",
       "                                    (0.719)  \n",
       "Expectations                        -1.280*  \n",
       "                                    (0.704)  \n",
       "Goal                                  0.794  \n",
       "                                    (0.670)  \n",
       "Low piece rate * expectations        -0.474  \n",
       "                                    (1.041)  \n",
       "High piece rate * expectations        0.099  \n",
       "                                    (1.017)  \n",
       "Low piece rate * goal               -1.653*  \n",
       "                                    (0.976)  \n",
       "High piece rate * goal             -1.987**  \n",
       "                                    (0.968)  \n",
       "Age                               -0.192***  \n",
       "                                    (0.015)  \n",
       "Female                              0.706**  \n",
       "                                    (0.334)  \n",
       "Education                          0.549***  \n",
       "                                    (0.130)  \n",
       "Mobile device                     -5.019***  \n",
       "                                    (0.866)  \n",
       "Latin                                 0.404  \n",
       "                                    (0.251)  \n",
       "Intercept                         26.871***  \n",
       "                                    (0.870)  \n",
       "N                                      2680  \n",
       "R2                                    0.083  "
      ]
     },
     "metadata": {},
     "output_type": "display_data"
    }
   ],
   "source": [
    "regs = dict()\n",
    "regs['reg1'] = 'counter_real ~ low_piece_rate + high_piece_rate'\n",
    "regs['reg2'] = 'counter_real ~ expectations + goal'\n",
    "regs['reg3'] = 'counter_real ~ (low_piece_rate + high_piece_rate) * (expectations + goal)'\n",
    "regs['reg4'] = regs['reg3'] + ' + age + female + education + mobile_device + latin'\n",
    "\n",
    "ols_results = []\n",
    "for k, v in regs.items():\n",
    "    ols = smf.ols(formula=v, data=df).fit()\n",
    "    ols = ols.get_robustcov_results()\n",
    "    ols_results.append(ols)\n",
    "\n",
    "order = [\n",
    "    'low_piece_rate',\n",
    "    'high_piece_rate',\n",
    "    'expectations',\n",
    "    'goal',\n",
    "    'low_piece_rate:expectations',\n",
    "    'high_piece_rate:expectations',\n",
    "    'low_piece_rate:goal',\n",
    "    'high_piece_rate:goal',\n",
    "    'age',\n",
    "    'female',\n",
    "    'education',\n",
    "    'mobile_device',\n",
    "    'latin',\n",
    "    'Intercept',\n",
    "]\n",
    "\n",
    "auxiliary = {\n",
    "    'N': lambda x: \"{:d}\".format(int(x.nobs)),\n",
    "    'R2': lambda x: \"{:.3f}\".format(x.rsquared)\n",
    "}\n",
    "ols_quant = summary_col(\n",
    "    ols_results,\n",
    "    stars=True,\n",
    "    info_dict=auxiliary,\n",
    "    float_format='%.3f',\n",
    "    regressor_order=order\n",
    ")\n",
    "ols_quant = ols_quant\\\n",
    "    .tables[0]\\\n",
    "    .rename(mapper=lambda x: x.replace('_', ' ').replace(':', ' * ').capitalize(), axis=0)\\\n",
    "    .rename(mapper=lambda x: x.capitalize().split()[0].replace('_', ' '), axis=1)\\\n",
    "\n",
    "ols_quant.to_latex(\n",
    "    os.path.join(TABLES_FOLDER, 'ols_quantity.tex'),\n",
    "    bold_rows=True,\n",
    "    float_format=\"%.3f\"\n",
    ")\n",
    "display(ols_quant)"
   ]
  },
  {
   "cell_type": "code",
   "execution_count": 28,
   "metadata": {},
   "outputs": [
    {
     "name": "stderr",
     "output_type": "stream",
     "text": [
      "/home/sebastian/.virtualenvs/hidden_benefit_publication/lib/python3.6/site-packages/scipy/stats/_distn_infrastructure.py:877: RuntimeWarning: invalid value encountered in greater\n",
      "  return (self.a < x) & (x < self.b)\n",
      "/home/sebastian/.virtualenvs/hidden_benefit_publication/lib/python3.6/site-packages/scipy/stats/_distn_infrastructure.py:877: RuntimeWarning: invalid value encountered in less\n",
      "  return (self.a < x) & (x < self.b)\n",
      "/home/sebastian/.virtualenvs/hidden_benefit_publication/lib/python3.6/site-packages/scipy/stats/_distn_infrastructure.py:1831: RuntimeWarning: invalid value encountered in less_equal\n",
      "  cond2 = cond0 & (x <= self.a)\n"
     ]
    },
    {
     "data": {
      "text/html": [
       "<div>\n",
       "<style scoped>\n",
       "    .dataframe tbody tr th:only-of-type {\n",
       "        vertical-align: middle;\n",
       "    }\n",
       "\n",
       "    .dataframe tbody tr th {\n",
       "        vertical-align: top;\n",
       "    }\n",
       "\n",
       "    .dataframe thead th {\n",
       "        text-align: right;\n",
       "    }\n",
       "</style>\n",
       "<table border=\"1\" class=\"dataframe\">\n",
       "  <thead>\n",
       "    <tr style=\"text-align: right;\">\n",
       "      <th></th>\n",
       "      <th>df_resid</th>\n",
       "      <th>ssr</th>\n",
       "      <th>df_diff</th>\n",
       "      <th>ss_diff</th>\n",
       "      <th>F</th>\n",
       "      <th>Pr(&gt;F)</th>\n",
       "    </tr>\n",
       "  </thead>\n",
       "  <tbody>\n",
       "    <tr>\n",
       "      <th>0</th>\n",
       "      <td>2677.000</td>\n",
       "      <td>212790.497</td>\n",
       "      <td>0.000</td>\n",
       "      <td>nan</td>\n",
       "      <td>nan</td>\n",
       "      <td>nan</td>\n",
       "    </tr>\n",
       "    <tr>\n",
       "      <th>1</th>\n",
       "      <td>2677.000</td>\n",
       "      <td>213265.897</td>\n",
       "      <td>-0.000</td>\n",
       "      <td>-475.401</td>\n",
       "      <td>inf</td>\n",
       "      <td>nan</td>\n",
       "    </tr>\n",
       "    <tr>\n",
       "      <th>2</th>\n",
       "      <td>2671.000</td>\n",
       "      <td>211643.676</td>\n",
       "      <td>6.000</td>\n",
       "      <td>1622.222</td>\n",
       "      <td>3.672</td>\n",
       "      <td>0.001</td>\n",
       "    </tr>\n",
       "    <tr>\n",
       "      <th>3</th>\n",
       "      <td>2666.000</td>\n",
       "      <td>196296.573</td>\n",
       "      <td>5.000</td>\n",
       "      <td>15347.102</td>\n",
       "      <td>41.687</td>\n",
       "      <td>0.000</td>\n",
       "    </tr>\n",
       "  </tbody>\n",
       "</table>\n",
       "</div>"
      ],
      "text/plain": [
       "   df_resid        ssr  df_diff   ss_diff      F  Pr(>F)\n",
       "0  2677.000 212790.497    0.000       nan    nan     nan\n",
       "1  2677.000 213265.897   -0.000  -475.401    inf     nan\n",
       "2  2671.000 211643.676    6.000  1622.222  3.672   0.001\n",
       "3  2666.000 196296.573    5.000 15347.102 41.687   0.000"
      ]
     },
     "execution_count": 28,
     "metadata": {},
     "output_type": "execute_result"
    }
   ],
   "source": [
    "anova_lm(*ols_results, robust='hc3')"
   ]
  }
 ],
 "metadata": {
  "hide_input": false,
  "kernelspec": {
   "display_name": "Python 3",
   "language": "python",
   "name": "python3"
  },
  "language_info": {
   "codemirror_mode": {
    "name": "ipython",
    "version": 3
   },
   "file_extension": ".py",
   "mimetype": "text/x-python",
   "name": "python",
   "nbconvert_exporter": "python",
   "pygments_lexer": "ipython3",
   "version": "3.6.7"
  }
 },
 "nbformat": 4,
 "nbformat_minor": 2
}
