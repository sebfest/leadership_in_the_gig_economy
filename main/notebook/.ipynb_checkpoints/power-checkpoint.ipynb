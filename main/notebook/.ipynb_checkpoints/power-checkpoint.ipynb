{
 "cells": [
  {
   "cell_type": "code",
   "execution_count": null,
   "metadata": {},
   "outputs": [],
   "source": [
    "#### Power test meain tretments\n",
    "powertest = TTestIndPower()\n",
    "result = powertest.solve_power(effect_size = -0.131, power=0.8, nobs1=None, ratio=1.0, alpha=0.05, alternative='two-sided')\n",
    "print('Sample size needed in each cell: %.0f' % round(result))\n",
    "\n",
    "fig, ax = plt.subplots(figsize=(8, 6), dpi=100)\n",
    "fig.set_facecolor('w')\n",
    "ax.set_title('Power of t-Test', **font_kwargs)\n",
    "powertest.plot_power(dep_var='nobs', nobs= np.arange(2, 1000), effect_size=np.array([0.111, 0.131]),\n",
    "                     alternative='larger', title='', ax=ax)\n",
    "ax.xaxis.set_ticks_position('bottom')\n",
    "ax.yaxis.set_ticks_position('left')\n",
    "ax.tick_params(axis='x', **tick_kwargs)\n",
    "ax.tick_params(axis='y', **tick_kwargs)\n",
    "ax.set_ylabel(\"Power\", **ylabel_kwargs)\n",
    "plt.savefig(os.path.join(figures_folder, 'power.pdf'))\n",
    "plt.show()\n",
    "\n",
    "\n",
    "%load_ext rpy2.ipython\n",
    "%R library(pwr)\n",
    "\n",
    "%R pwr.r.test(r=0.13, sig.level=0.05, power=0.8, alternative=\"greater\")"
   ]
  }
 ],
 "metadata": {
  "kernelspec": {
   "display_name": "Python 3",
   "language": "python",
   "name": "python3"
  },
  "language_info": {
   "codemirror_mode": {
    "name": "ipython",
    "version": 3
   },
   "file_extension": ".py",
   "mimetype": "text/x-python",
   "name": "python",
   "nbconvert_exporter": "python",
   "pygments_lexer": "ipython3",
   "version": "3.6.6"
  }
 },
 "nbformat": 4,
 "nbformat_minor": 2
}
