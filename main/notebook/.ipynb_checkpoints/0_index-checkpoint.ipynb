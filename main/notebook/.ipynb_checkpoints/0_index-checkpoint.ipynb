{
 "cells": [
  {
   "cell_type": "markdown",
   "metadata": {},
   "source": [
    "### Notebook index:\n",
    "\n",
    "Below is an overview of the notebooks provided for the research project ''Motivation and Incentives in an Online Labor Market''. It contains code to recreate all tables and figures presented in the paper. \n",
    "\n",
    "1. [Creating the final dataset](1_make_dataset.ipynb)\n",
    "2. [Analysing sample characterisitcs and sample balance](2_balance_and_sample.ipynb)\n",
    "3. [Analysing quantity](3_treatment_effects_quantity.ipynb)\n",
    "3. [Analysing quality](4_treatment_effects_quality.ipynb)\n",
    "3. [Analysing quantity-quality](5_quantity_vs_quality.ipynb)\n",
    "3. [Additional figures and tables](6_additional_figures.ipynb)\n"
   ]
  }
 ],
 "metadata": {
  "hide_input": false,
  "kernelspec": {
   "display_name": "Python 3",
   "language": "python",
   "name": "python3"
  },
  "language_info": {
   "codemirror_mode": {
    "name": "ipython",
    "version": 3
   },
   "file_extension": ".py",
   "mimetype": "text/x-python",
   "name": "python",
   "nbconvert_exporter": "python",
   "pygments_lexer": "ipython3",
   "version": "3.6.7"
  }
 },
 "nbformat": 4,
 "nbformat_minor": 2
}
